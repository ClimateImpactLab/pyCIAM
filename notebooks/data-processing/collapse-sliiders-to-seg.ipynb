{
 "cells": [
  {
   "cell_type": "code",
   "execution_count": null,
   "id": "b1358d97-11d8-4718-9df3-8de968736412",
   "metadata": {},
   "outputs": [],
   "source": [
    "import sys\n",
    "\n",
    "sys.path.append(\"../\")"
   ]
  },
  {
   "cell_type": "code",
   "execution_count": 2,
   "id": "1530a104-fd32-4d20-869e-a6064075063d",
   "metadata": {},
   "outputs": [],
   "source": [
    "from shared import PATH_SLIIDERS, PATH_SLIIDERS_SEG, STORAGE_OPTIONS\n",
    "\n",
    "from pyCIAM.utils import collapse_econ_inputs_to_seg"
   ]
  },
  {
   "cell_type": "code",
   "execution_count": 3,
   "id": "11240e7b-6f7c-4e71-b029-b5c13f7f55b2",
   "metadata": {},
   "outputs": [],
   "source": [
    "collapse_econ_inputs_to_seg(\n",
    "    PATH_SLIIDERS, PATH_SLIIDERS_SEG, storage_options=STORAGE_OPTIONS\n",
    ")"
   ]
  }
 ],
 "metadata": {
  "kernelspec": {
   "display_name": "Python 3 (ipykernel)",
   "language": "python",
   "name": "python3"
  },
  "language_info": {
   "codemirror_mode": {
    "name": "ipython",
    "version": 3
   },
   "file_extension": ".py",
   "mimetype": "text/x-python",
   "name": "python",
   "nbconvert_exporter": "python",
   "pygments_lexer": "ipython3",
   "version": "3.11.0"
  },
  "widgets": {
   "application/vnd.jupyter.widget-state+json": {
    "state": {},
    "version_major": 2,
    "version_minor": 0
   }
  }
 },
 "nbformat": 4,
 "nbformat_minor": 5
}
