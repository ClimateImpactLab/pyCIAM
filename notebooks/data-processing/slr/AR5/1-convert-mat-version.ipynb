{
 "cells": [
  {
   "cell_type": "markdown",
   "metadata": {},
   "source": [
    "## Convert MATLAB v7.3 corefiles to MATLAB v5\n",
    "- Octave doesn't support v7.3 as of 2020-05-19\n",
    "- We use the Mat I/O C library to convert v7.3 to v5 (Mat I/O doesn't support v7)\n",
    "- Note that what is called \"v5\" in Mat I/O is the same as \"v6\" in Octave"
   ]
  },
  {
   "cell_type": "code",
   "execution_count": null,
   "metadata": {},
   "outputs": [],
   "source": [
    "import sys\n",
    "\n",
    "sys.path.append(\"../../../\")"
   ]
  },
  {
   "cell_type": "code",
   "execution_count": 4,
   "metadata": {},
   "outputs": [],
   "source": [
    "import shlex\n",
    "from subprocess import run\n",
    "\n",
    "from shared import DIR_SLR_AR5_IFILES_INT, DIR_SLR_AR5_IFILES_RAW"
   ]
  },
  {
   "cell_type": "code",
   "execution_count": 1,
   "metadata": {},
   "outputs": [
    {
     "name": "stderr",
     "output_type": "stream",
     "text": [
      "Wrote MAT file: \"/gcs/rhg-data/impactlab-rhg/coastal/sliiders/int/slr/ifiles/SLRProjections170113GRIDDEDcore_v5.mat\"\n"
     ]
    },
    {
     "name": "stdout",
     "output_type": "stream",
     "text": [
      "Writing MAT variable: OceanDynMean... succeeded.\n",
      "Writing MAT variable: OceanDynN... succeeded.\n",
      "Writing MAT variable: OceanDynRegions... succeeded.\n",
      "Writing MAT variable: OceanDynStd... succeeded.\n",
      "Writing MAT variable: OceanDynTECorr... succeeded.\n",
      "Writing MAT variable: OceanDynYears... succeeded.\n",
      "Writing MAT variable: ThermExpMean... succeeded.\n",
      "Writing MAT variable: ThermExpN... succeeded.\n",
      "Writing MAT variable: ThermExpStd... succeeded.\n",
      "Writing MAT variable: ThermExpYears... succeeded.\n",
      "Writing MAT variable: colAIS... succeeded.\n",
      "Writing MAT variable: colGIC... succeeded.\n",
      "Writing MAT variable: colGIS... succeeded.\n",
      "Writing MAT variable: colLS... succeeded.\n",
      "Writing MAT variable: colTE... succeeded.\n",
      "Writing MAT variable: fpsite... succeeded.\n",
      "Writing MAT variable: mergeZOSZOSTOGA... succeeded.\n",
      "Writing MAT variable: nearestTG... succeeded.\n",
      "Writing MAT variable: quantlevs... succeeded.\n",
      "Writing MAT variable: rateprojs... succeeded.\n",
      "Writing MAT variable: rateprojssd... succeeded.\n",
      "Writing MAT variable: samps... succeeded.\n",
      "Writing MAT variable: scens... succeeded.\n",
      "Writing MAT variable: seeds... succeeded.\n",
      "Writing MAT variable: targregionnames... succeeded.\n",
      "Writing MAT variable: targregions... succeeded.\n",
      "Writing MAT variable: targsitecoords... succeeded.\n",
      "Writing MAT variable: targyears... succeeded.\n"
     ]
    },
    {
     "name": "stderr",
     "output_type": "stream",
     "text": [
      "Wrote MAT file: \"/gcs/rhg-data/impactlab-rhg/coastal/sliiders/int/slr/ifiles/SLRProjections190726core_SEJ_full_v5.mat\"\n"
     ]
    },
    {
     "name": "stdout",
     "output_type": "stream",
     "text": [
      "Writing MAT variable: corefileH... succeeded.\n",
      "Writing MAT variable: corefileL... succeeded.\n"
     ]
    },
    {
     "name": "stderr",
     "output_type": "stream",
     "text": [
      "Wrote MAT file: \"/gcs/rhg-data/impactlab-rhg/coastal/sliiders/int/slr/ifiles/SLRProjections200204GRIDDEDcore_D20_v5.mat\"\n"
     ]
    },
    {
     "name": "stdout",
     "output_type": "stream",
     "text": [
      "Writing MAT variable: OceanDynMean... succeeded.\n",
      "Writing MAT variable: OceanDynN... succeeded.\n",
      "Writing MAT variable: OceanDynRegions... succeeded.\n",
      "Writing MAT variable: OceanDynStd... succeeded.\n",
      "Writing MAT variable: OceanDynTECorr... succeeded.\n",
      "Writing MAT variable: OceanDynYears... succeeded.\n",
      "Writing MAT variable: ThermExpMean... succeeded.\n",
      "Writing MAT variable: ThermExpN... succeeded.\n",
      "Writing MAT variable: ThermExpStd... succeeded.\n",
      "Writing MAT variable: ThermExpYears... succeeded.\n",
      "Writing MAT variable: colAIS... succeeded.\n",
      "Writing MAT variable: colGIC... succeeded.\n",
      "Writing MAT variable: colGIS... succeeded.\n",
      "Writing MAT variable: colLS... succeeded.\n",
      "Writing MAT variable: colTE... succeeded.\n",
      "Writing MAT variable: fpsite... succeeded.\n",
      "Writing MAT variable: mergeZOSZOSTOGA... succeeded.\n",
      "Writing MAT variable: nearestTG... succeeded.\n",
      "Writing MAT variable: quantlevs... succeeded.\n",
      "Writing MAT variable: rateprojs... succeeded.\n",
      "Writing MAT variable: rateprojssd... succeeded.\n",
      "Writing MAT variable: samps... succeeded.\n",
      "Writing MAT variable: scens... succeeded.\n",
      "Writing MAT variable: seeds... succeeded.\n",
      "Writing MAT variable: targregionnames... succeeded.\n",
      "Writing MAT variable: targregions... succeeded.\n",
      "Writing MAT variable: targsitecoords... succeeded.\n",
      "Writing MAT variable: targyears... succeeded.\n",
      "Writing MAT variable: OceanDynMean... succeeded.\n",
      "Writing MAT variable: OceanDynN... succeeded.\n",
      "Writing MAT variable: OceanDynRegions... succeeded.\n",
      "Writing MAT variable: OceanDynStd... succeeded.\n",
      "Writing MAT variable: OceanDynTECorr... succeeded.\n",
      "Writing MAT variable: OceanDynYears... succeeded.\n",
      "Writing MAT variable: ThermExpMean... succeeded.\n",
      "Writing MAT variable: ThermExpN... succeeded.\n",
      "Writing MAT variable: ThermExpStd... succeeded.\n",
      "Writing MAT variable: ThermExpYears... succeeded.\n",
      "Writing MAT variable: colAIS... succeeded.\n",
      "Writing MAT variable: colGIC... succeeded.\n",
      "Writing MAT variable: colGIS... succeeded.\n",
      "Writing MAT variable: colLS... succeeded.\n",
      "Writing MAT variable: colTE... succeeded.\n",
      "Writing MAT variable: fpsite... succeeded.\n",
      "Writing MAT variable: mergeZOSZOSTOGA... succeeded.\n",
      "Writing MAT variable: nearestTG... succeeded.\n",
      "Writing MAT variable: quantlevs... succeeded.\n",
      "Writing MAT variable: rateprojs... succeeded.\n",
      "Writing MAT variable: rateprojssd... succeeded.\n",
      "Writing MAT variable: samps... succeeded.\n",
      "Writing MAT variable: scens... succeeded.\n",
      "Writing MAT variable: seeds... succeeded.\n",
      "Writing MAT variable: targregionnames... succeeded.\n",
      "Writing MAT variable: targregions... succeeded.\n",
      "Writing MAT variable: targsitecoords... succeeded.\n",
      "Writing MAT variable: targyears... succeeded.\n"
     ]
    },
    {
     "name": "stderr",
     "output_type": "stream",
     "text": [
      "Wrote MAT file: \"/gcs/rhg-data/impactlab-rhg/coastal/sliiders/int/slr/ifiles/SLRProjections210628GRIDDEDcore_SROCC_v5.mat\"\n"
     ]
    }
   ],
   "source": [
    "DIR_SLR_AR5_IFILES_INT.mkdir(parents=True, exist_ok=True)\n",
    "\n",
    "for mfile_in in DIR_SLR_AR5_IFILES_RAW.glob(\"*.mat\"):\n",
    "    mfile_out = DIR_SLR_AR5_IFILES_INT / (mfile_in.stem + \"_v5\" + mfile_in.suffix)\n",
    "\n",
    "    cmd = f\"matio_73to5 {mfile_in} {mfile_out}\"\n",
    "    run(shlex.split(cmd))"
   ]
  }
 ],
 "metadata": {
  "kernelspec": {
   "display_name": "Python 3 (ipykernel)",
   "language": "python",
   "name": "python3"
  },
  "language_info": {
   "codemirror_mode": {
    "name": "ipython",
    "version": 3
   },
   "file_extension": ".py",
   "mimetype": "text/x-python",
   "name": "python",
   "nbconvert_exporter": "python",
   "pygments_lexer": "ipython3",
   "version": "3.10.8"
  },
  "widgets": {
   "application/vnd.jupyter.widget-state+json": {
    "state": {},
    "version_major": 2,
    "version_minor": 0
   }
  }
 },
 "nbformat": 4,
 "nbformat_minor": 4
}
