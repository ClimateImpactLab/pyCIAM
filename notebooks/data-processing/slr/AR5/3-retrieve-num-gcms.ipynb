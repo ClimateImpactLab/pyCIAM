{
 "cells": [
  {
   "cell_type": "markdown",
   "id": "d54c06e4-f962-40a2-9d51-5d53f613fc42",
   "metadata": {},
   "source": [
    "# Retrieve `OceanDynN` information from LocalizeSL corefiles\n",
    "`OceanDynN` represents the number of GCMs used to calculate LSL projections for each year-RCP-site\n",
    "\n",
    "This notebook saves this information in a `.zarr` in a format similar to the projections themselves"
   ]
  },
  {
   "cell_type": "code",
   "execution_count": null,
   "id": "ea31cea7-7800-47be-8f40-6c646ebf25d7",
   "metadata": {},
   "outputs": [],
   "source": [
    "import sys\n",
    "\n",
    "sys.path.append(\"../../../\")"
   ]
  },
  {
   "cell_type": "code",
   "execution_count": 2,
   "id": "06b96358-6f6c-4d18-993c-548d013f662f",
   "metadata": {},
   "outputs": [],
   "source": [
    "import pandas as pd\n",
    "from oct2py import octave\n",
    "from shared import (\n",
    "    DIR_SCRATCH,\n",
    "    DIR_SLR_AR5_IFILES_INT,\n",
    "    FS,\n",
    "    LOCALIZESL_COREFILES,\n",
    "    PATH_LOCALIZESL,\n",
    "    PATH_SLR_AR5_N_GCMS,\n",
    "    _to_fuse,\n",
    "    save,\n",
    ")"
   ]
  },
  {
   "cell_type": "markdown",
   "id": "b1d27162-8a9b-4752-9d88-050379c29191",
   "metadata": {},
   "source": [
    "#### Define paths"
   ]
  },
  {
   "cell_type": "code",
   "execution_count": null,
   "id": "4fb517fb-cf6c-4bb7-aeb6-575c9fe082be",
   "metadata": {},
   "outputs": [],
   "source": [
    "DIR_OCTAVE_OUTPUTS = DIR_SCRATCH / \"ngcm_localizeSL_outputs\"\n",
    "DIR_OCTAVE_OUTPUTS_FUSE = str(_to_fuse(DIR_OCTAVE_OUTPUTS))\n",
    "\n",
    "DIR_MFILES = PATH_LOCALIZESL / \"MFILES\""
   ]
  },
  {
   "cell_type": "markdown",
   "id": "c1ccca44-499b-410d-b205-23582d25a2ab",
   "metadata": {},
   "source": [
    "### Define Octave function to save information about `OceanDyn` parameters"
   ]
  },
  {
   "cell_type": "code",
   "execution_count": null,
   "id": "0d9e7d86-c117-4583-bddd-7a855baacdba",
   "metadata": {},
   "outputs": [],
   "source": [
    "load_oceandyn_func = f\"\"\"\n",
    "function oceandyn_info = save_oceandyn_info(corefile_name, subcorefile_choice)\n",
    "    dir_out = '{DIR_OCTAVE_OUTPUTS_FUSE}';\n",
    "\n",
    "    ifilesdir='{str(DIR_SLR_AR5_IFILES_INT)}';\n",
    "    mfilesdir='{str(DIR_MFILES)}';\n",
    "\n",
    "    addpath(ifilesdir);\n",
    "    addpath(mfilesdir);\n",
    "\n",
    "    f = [corefile_name '_v5.mat'];\n",
    "\n",
    "    corefilewrapper=load(fullfile(ifilesdir, f));\n",
    "\n",
    "    mkdir(dir_out);\n",
    "\n",
    "    if strcmp(corefile_name, 'SLRProjections190726core_SEJ_full')\n",
    "        if strcmp(subcorefile_choice, \"H\")\n",
    "            corefile = corefilewrapper.corefileH;\n",
    "        else\n",
    "            corefile = corefilewrapper.corefileL;\n",
    "        end\n",
    "    else\n",
    "        corefile = corefilewrapper;\n",
    "    end\n",
    "\n",
    "    disp([\"Corefile: \" corefile_name]);\n",
    "    disp([\"Corefile subgroup: \" subcorefile_choice]);\n",
    "\n",
    "    siteids = int64(corefile.targregions);\n",
    "\n",
    "    for i=1:length(corefile.scens)\n",
    "        scen = cell2mat(corefile.scens(i));\n",
    "        csvwrite(strcat(dir_out, '/OceanDynN_', corefile_name, '_', scen, '.csv'), corefile.OceanDynN(:,:,i));\n",
    "        csvwrite(strcat(dir_out, '/OceanDynYears_', corefile_name, '_', scen, '.csv'), corefile.OceanDynYears);\n",
    "        dlmwrite(strcat(dir_out, '/siteid_', corefile_name, '_', scen, '.csv'), siteids, 'precision', '%i')\n",
    "    end\n",
    "end\n",
    "\"\"\""
   ]
  },
  {
   "cell_type": "markdown",
   "id": "d3b7abb1-a454-4768-b0e1-4633950cb6ea",
   "metadata": {},
   "source": [
    "### Save OceanDyn metadata for each corefile"
   ]
  },
  {
   "cell_type": "code",
   "execution_count": null,
   "id": "e22ac5a3-7b5c-44ad-ac2b-2ef5b7802ad9",
   "metadata": {},
   "outputs": [
    {
     "name": "stdout",
     "output_type": "stream",
     "text": [
      "Corefile: SLRProjections190726core_SEJ_full\n",
      "Corefile subgroup: L\n",
      "Corefile: SLRProjections190726core_SEJ_full\n",
      "Corefile subgroup: H\n",
      "Corefile: SLRProjections170113GRIDDEDcore\n",
      "warning: implicit conversion from numeric to char\n",
      "Corefile subgroup: \u0000\n",
      "Corefile: SLRProjections200204GRIDDEDcore_D20\n",
      "warning: implicit conversion from numeric to char\n",
      "Corefile subgroup: \u0000\n",
      "Corefile: SLRProjections210628GRIDDEDcore_SROCC\n",
      "warning: implicit conversion from numeric to char\n",
      "Corefile subgroup: \u0000\n"
     ]
    }
   ],
   "source": [
    "octave.eval(load_oceandyn_func)\n",
    "\n",
    "for corefile_name, subcorefiles in LOCALIZESL_COREFILES.items():\n",
    "    for subcorefile_choice in subcorefiles:\n",
    "        octave.save_oceandyn_info(corefile_name, subcorefile_choice)"
   ]
  },
  {
   "cell_type": "markdown",
   "id": "78ddc154-c4e0-439a-849b-788ec59d15ea",
   "metadata": {},
   "source": [
    "### Load CSV outputs into DataFrames"
   ]
  },
  {
   "cell_type": "code",
   "execution_count": null,
   "id": "83c33314-69b6-4e50-80fe-bd9462b64aae",
   "metadata": {},
   "outputs": [
    {
     "name": "stdout",
     "output_type": "stream",
     "text": [
      "SLRProjections190726core_SEJ_full ['2p0degree+L', 'rcp85+H']\n",
      "SLRProjections170113GRIDDEDcore ['rcp26', 'rcp45', 'rcp60', 'rcp85']\n",
      "SLRProjections200204GRIDDEDcore_D20 ['rcp26', 'rcp45', 'rcp60', 'rcp85']\n",
      "SLRProjections210628GRIDDEDcore_SROCC ['rcp26', 'rcp45', 'rcp60', 'rcp85']\n"
     ]
    }
   ],
   "source": [
    "rcps = [\"2p0degree+L\", \"rcp85+H\", \"rcp26\", \"rcp45\", \"rcp60\", \"rcp85\"]\n",
    "\n",
    "dfs = []\n",
    "for corefile in LOCALIZESL_COREFILES.keys():\n",
    "    rcps = [\"rcp26\", \"rcp45\", \"rcp60\", \"rcp85\"]\n",
    "    if corefile == \"SLRProjections190726core_SEJ_full\":\n",
    "        rcps = [\"2p0degree+L\", \"rcp85+H\"]\n",
    "\n",
    "    print(corefile, rcps)\n",
    "\n",
    "    for rcp in rcps:\n",
    "        scenario = f\"{corefile}_{rcp}\"\n",
    "        sites = pd.read_csv(DIR_OCTAVE_OUTPUTS / f\"siteid_{scenario}.csv\", header=None)\n",
    "        sites[\"name\"] = sites[0].astype(int).astype(str)\n",
    "        sites = sites.drop(columns=[0])\n",
    "\n",
    "        years = pd.read_csv(\n",
    "            DIR_OCTAVE_OUTPUTS / f\"OceanDynYears_{scenario}.csv\", header=None\n",
    "        )\n",
    "\n",
    "        years = years.T.rename(columns={0: \"year\"})\n",
    "\n",
    "        df = pd.read_csv(\n",
    "            DIR_OCTAVE_OUTPUTS / f\"OceanDynN_{scenario}.csv\",\n",
    "            header=None,\n",
    "            names=sites[\"name\"].values,\n",
    "        )\n",
    "        df = df.join(years).set_index(\"year\", drop=True)\n",
    "        df = df[\n",
    "            [c for c in df.columns if int(c) > 100000000]\n",
    "        ]  # These high-valued sites are the gridded ones\n",
    "        df = df.loc[2000:]\n",
    "        df[\"scenario\"] = scenario\n",
    "        df = df.set_index(\"scenario\", append=True)\n",
    "\n",
    "        df = df.stack()\n",
    "        df.index = df.index.set_names(\"scenario\", level=1)\n",
    "        df.index = df.index.set_names(\"site_id\", level=2)\n",
    "\n",
    "        dfs.append(df)"
   ]
  },
  {
   "cell_type": "markdown",
   "id": "152a6a4b-5343-4c2a-881c-ca22e6716041",
   "metadata": {},
   "source": [
    "## Merge DataFrames into xarray and save"
   ]
  },
  {
   "cell_type": "code",
   "execution_count": null,
   "id": "65915940-695d-4623-b58d-89862d38a2bb",
   "metadata": {},
   "outputs": [],
   "source": [
    "save(pd.concat(dfs).to_xarray().to_dataset(name=\"numGCMs\"), PATH_SLR_AR5_N_GCMS)"
   ]
  },
  {
   "cell_type": "code",
   "execution_count": null,
   "id": "5e2c614b-5a22-4b46-8f5a-59a59f81f5e1",
   "metadata": {},
   "outputs": [],
   "source": [
    "FS.rm(str(DIR_OCTAVE_OUTPUTS), recursive=True)"
   ]
  }
 ],
 "metadata": {
  "kernelspec": {
   "display_name": "Python 3 (ipykernel)",
   "language": "python",
   "name": "python3"
  },
  "language_info": {
   "codemirror_mode": {
    "name": "ipython",
    "version": 3
   },
   "file_extension": ".py",
   "mimetype": "text/x-python",
   "name": "python",
   "nbconvert_exporter": "python",
   "pygments_lexer": "ipython3",
   "version": "3.10.8"
  },
  "widgets": {
   "application/vnd.jupyter.widget-state+json": {
    "state": {},
    "version_major": 2,
    "version_minor": 0
   }
  }
 },
 "nbformat": 4,
 "nbformat_minor": 5
}
