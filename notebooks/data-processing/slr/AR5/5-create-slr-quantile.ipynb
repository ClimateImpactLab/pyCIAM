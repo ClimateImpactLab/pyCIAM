{
 "cells": [
  {
   "cell_type": "markdown",
   "id": "c32fb782-2a80-4ec3-b06f-54945f90ed00",
   "metadata": {},
   "source": [
    "# Create Quantile-based SLR dataset"
   ]
  },
  {
   "cell_type": "code",
   "execution_count": 7,
   "id": "f87eeeca-c542-4cb3-8069-fad1133d55dd",
   "metadata": {},
   "outputs": [],
   "source": [
    "import sys\n",
    "\n",
    "sys.path.append(\"../../../\")"
   ]
  },
  {
   "cell_type": "code",
   "execution_count": 8,
   "id": "ce02a65c-ceae-475d-820f-40c91ee1b45c",
   "metadata": {},
   "outputs": [],
   "source": [
    "from shared import PATH_SLR_AR5_FULL, PATH_SLR_AR5_QUANTILES, QUANTILES, open_zarr, save"
   ]
  },
  {
   "cell_type": "code",
   "execution_count": 12,
   "id": "990cd2f2-a1f7-4a23-b1ec-0486668947a0",
   "metadata": {},
   "outputs": [],
   "source": [
    "ds = open_zarr(PATH_SLR_AR5_FULL, chunks={\"mc_sample_id\": -1}).quantile(\n",
    "    QUANTILES, dim=\"mc_sample_id\", keep_attrs=True\n",
    ")\n",
    "for v in ds.variables:\n",
    "    ds[v].encoding = {}\n",
    "    if ds[v].dtype == object:\n",
    "        ds[v] = ds[v].astype(\"unicode\")\n",
    "save(ds, PATH_SLR_AR5_QUANTILES, mode=\"w\")"
   ]
  }
 ],
 "metadata": {
  "kernelspec": {
   "display_name": "Python 3 (ipykernel)",
   "language": "python",
   "name": "python3"
  },
  "language_info": {
   "codemirror_mode": {
    "name": "ipython",
    "version": 3
   },
   "file_extension": ".py",
   "mimetype": "text/x-python",
   "name": "python",
   "nbconvert_exporter": "python",
   "pygments_lexer": "ipython3",
   "version": "3.10.8"
  },
  "widgets": {
   "application/vnd.jupyter.widget-state+json": {
    "state": {},
    "version_major": 2,
    "version_minor": 0
   }
  }
 },
 "nbformat": 4,
 "nbformat_minor": 5
}
