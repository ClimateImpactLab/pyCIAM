{
 "cells": [
  {
   "cell_type": "markdown",
   "metadata": {
    "tags": []
   },
   "source": [
    "# Generate Monte Carlo outputs for each gridded site in a corefile"
   ]
  },
  {
   "cell_type": "markdown",
   "metadata": {},
   "source": [
    "## Setup"
   ]
  },
  {
   "cell_type": "code",
   "execution_count": null,
   "metadata": {},
   "outputs": [],
   "source": [
    "import sys\n",
    "\n",
    "sys.path.append(\"../../../\")"
   ]
  },
  {
   "cell_type": "code",
   "execution_count": 3,
   "metadata": {},
   "outputs": [],
   "source": [
    "import dask.distributed as dd\n",
    "import numpy as np\n",
    "import parameterize_jobs as pj\n",
    "from cloudpathlib import GSPath\n",
    "from scipy.io import loadmat\n",
    "from shared import (\n",
    "    DIR_SCRATCH,\n",
    "    DIR_SLR_AR5_IFILES_INT,\n",
    "    FS,\n",
    "    LOCALIZESL_COREFILES,\n",
    "    PATH_LOCALIZESL,\n",
    "    _to_fuse,\n",
    "    start_dask_cluster,\n",
    ")"
   ]
  },
  {
   "cell_type": "code",
   "execution_count": null,
   "metadata": {
    "tags": [
     "parameters"
    ]
   },
   "outputs": [],
   "source": [
    "BATCH_SIZE = 32\n",
    "\n",
    "# When running on larger/scalable dask cluster, may wish to specify number of workers\n",
    "# Default is LocalCluster which will use the number of CPUs available on local machine\n",
    "N_WORKERS = None\n",
    "# N_WORKERS = 64\n",
    "\n",
    "DIR_MFILES_SRC = PATH_LOCALIZESL / \"MFILES\"\n",
    "TMP_MFILES_DIR = DIR_SCRATCH / \"MFILES\""
   ]
  },
  {
   "cell_type": "markdown",
   "metadata": {
    "tags": []
   },
   "source": [
    "## Copy MFILES to location accessible by workers"
   ]
  },
  {
   "cell_type": "code",
   "execution_count": 1,
   "metadata": {
    "collapsed": true,
    "jupyter": {
     "outputs_hidden": true
    },
    "tags": []
   },
   "outputs": [
    {
     "ename": "NameError",
     "evalue": "name 'TMP_MFILES_DIR' is not defined",
     "output_type": "error",
     "traceback": [
      "\u001b[0;31m---------------------------------------------------------------------------\u001b[0m",
      "\u001b[0;31mNameError\u001b[0m                                 Traceback (most recent call last)",
      "Input \u001b[0;32mIn [1]\u001b[0m, in \u001b[0;36m<cell line: 1>\u001b[0;34m()\u001b[0m\n\u001b[0;32m----> 1\u001b[0m cp_output \u001b[38;5;241m=\u001b[39m \u001b[43mTMP_MFILES_DIR\u001b[49m\u001b[38;5;241m.\u001b[39mupload_from(DIR_MFILES_SRC)\n\u001b[1;32m      3\u001b[0m \u001b[38;5;28;01mif\u001b[39;00m \u001b[38;5;28misinstance\u001b[39m(TMP_MFILES_DIR, GSPath):\n\u001b[1;32m      4\u001b[0m     TMP_MFILES_DIR \u001b[38;5;241m=\u001b[39m _to_fuser(TMP_MFILES_DIR)\n",
      "\u001b[0;31mNameError\u001b[0m: name 'TMP_MFILES_DIR' is not defined"
     ]
    }
   ],
   "source": [
    "cp_output = TMP_MFILES_DIR.upload_from(DIR_MFILES_SRC)\n",
    "\n",
    "if isinstance(TMP_MFILES_DIR, GSPath):\n",
    "    TMP_MFILES_DIR = _to_fuse(TMP_MFILES_DIR)\n",
    "    TMP_MFILES_DIR.mkdir(exist_ok=True, parents=True)"
   ]
  },
  {
   "cell_type": "markdown",
   "metadata": {},
   "source": [
    "## Start cluster"
   ]
  },
  {
   "cell_type": "code",
   "execution_count": null,
   "metadata": {},
   "outputs": [],
   "source": [
    "client = start_dask_cluster(n_workers=N_WORKERS)\n",
    "client"
   ]
  },
  {
   "cell_type": "markdown",
   "metadata": {},
   "source": [
    "## Octave function used to run LocalizeSL"
   ]
  },
  {
   "cell_type": "code",
   "execution_count": null,
   "metadata": {},
   "outputs": [],
   "source": [
    "get_lslr_func = f\"\"\"\n",
    "function this_ids = get_lslr(ix_start, ix_end, corefile_name, subcorefile_choice, dir_out)\n",
    "    ifilesdir='{str(DIR_SLR_AR5_IFILES_INT)}';\n",
    "    mfilesdir='{str(TMP_MFILES_DIR)}'\n",
    "\n",
    "    addpath(ifilesdir);\n",
    "    addpath(mfilesdir);\n",
    "\n",
    "    pkg load statistics\n",
    "\n",
    "    f = [corefile_name '_v5.mat'];\n",
    "\n",
    "    corefilewrapper=load(fullfile(ifilesdir, f));\n",
    "\n",
    "    mkdir(dir_out);\n",
    "\n",
    "    ccclab = \"SROCC\";\n",
    "    if strcmp(corefile_name, 'SLRProjections170113GRIDDEDcore')\n",
    "        ccclab = \"170113\";\n",
    "    end\n",
    "    if strcmp(corefile_name, 'SLRProjections190726core_SEJ_full')\n",
    "        disp(\"Make sure to run twice. Once for corefileL and once for corefileH\");\n",
    "        ccclab = \"SEJ\";\n",
    "        if strcmp(subcorefile_choice, \"H\")\n",
    "            corefile = corefilewrapper.corefileH;\n",
    "        else\n",
    "            corefile = corefilewrapper.corefileL;\n",
    "        end\n",
    "    else\n",
    "        corefile = corefilewrapper;\n",
    "    end\n",
    "    disp([\"Corefile: \" corefile_name]);\n",
    "    disp([\"Corefile label: \" ccclab]);\n",
    "    disp([\"Corefile subgroup: \" subcorefile_choice]);\n",
    "\n",
    "    rateproj_corefile = load(fullfile(ifilesdir, 'SLRProjections190726core_SEJ_full_v5.mat')).corefileL;\n",
    "\n",
    "    % Take corefile.targregionnames\n",
    "    % Get index of each name in rateproj_corefile.targregionnames\n",
    "    % Take those indices from rateprojs and rateprojssd\n",
    "    [_, idx_this_corefile, idx_rateproj_corefile] = intersect(corefile.targregionnames, rateproj_corefile.targregionnames);\n",
    "    corefile.rateprojs(idx_this_corefile) = rateproj_corefile.rateprojs(idx_rateproj_corefile);\n",
    "    corefile.rateprojssd(idx_this_corefile) = rateproj_corefile.rateprojssd(idx_rateproj_corefile);\n",
    "\n",
    "    rand(\"seed\", 0);\n",
    "    corefile.seeds = [];\n",
    "    for rrr=1:size(corefile.samps, 2)\n",
    "        seeds=linspace(0,1,size(corefile.samps, 1) + 2);\n",
    "        seeds=seeds(2:end-1);\n",
    "        seeds=norminv(seeds(randperm(length(seeds))));\n",
    "\n",
    "        corefile.seeds = [corefile.seeds; seeds];\n",
    "    end\n",
    "\n",
    "    siteids = int64(corefile.targregions);\n",
    "\n",
    "    % Subset `siteids` to the really high-numbered ones (the gridded ones, rather than those indexed by PSMSL stations)\n",
    "    gridids = siteids(siteids > 100000000);\n",
    "\n",
    "    disp([\"Number of sites: \" mat2str(length(gridids))]);\n",
    "\n",
    "    if (ix_start == 0 && ix_end == 0)\n",
    "        this_ids = [0];\n",
    "    else\n",
    "        this_ids = gridids(ix_start:ix_end);\n",
    "    end\n",
    "\n",
    "    n_ids = size(this_ids)(1);\n",
    "    for i=1:n_ids\n",
    "        [sampslocrise,sampsloccomponents,siteids,sitenames,targyears,scens,cols] = LocalizeStoredProjections(this_ids(i),corefile);\n",
    "        if this_ids(i) == 0\n",
    "            sl_str = \"GSL\";\n",
    "        else\n",
    "            sl_str = \"LSL\";\n",
    "            WriteTableMC(sampsloccomponents,24,siteids,sitenames,targyears,scens,[dir_out sl_str 'proj_MC_' ccclab '_baseline_']);\n",
    "        end\n",
    "        WriteTableMC(sampsloccomponents,[],siteids,sitenames,targyears,scens,[dir_out sl_str 'proj_MC_' ccclab '_']);\n",
    "    end\n",
    "\"\"\""
   ]
  },
  {
   "cell_type": "markdown",
   "metadata": {},
   "source": [
    "## Python wrappers needed for running Octave function"
   ]
  },
  {
   "cell_type": "code",
   "execution_count": null,
   "metadata": {},
   "outputs": [],
   "source": [
    "def run_batch(start, end, corefile, sub_corefile, dir_out):\n",
    "    from oct2py import octave\n",
    "\n",
    "    octave.eval(get_lslr_func)\n",
    "    return octave.get_lslr(start, end, corefile, sub_corefile, str(dir_out) + \"/\")\n",
    "\n",
    "\n",
    "def get_num_sites(corefile, sub_corefile=None):\n",
    "    path_corefile = DIR_SLR_AR5_IFILES_INT / (corefile + \"_v5.mat\")\n",
    "\n",
    "    cf = loadmat(path_corefile, squeeze_me=True)\n",
    "\n",
    "    if sub_corefile is None:\n",
    "        targ_regions = cf[\"targregions\"]\n",
    "    else:\n",
    "        targ_regions = cf[\"corefile\" + sub_corefile][\"targregions\"].item()\n",
    "\n",
    "    return (targ_regions > 100000000).sum()"
   ]
  },
  {
   "cell_type": "markdown",
   "metadata": {
    "tags": []
   },
   "source": [
    "## Run jobs on workers"
   ]
  },
  {
   "cell_type": "code",
   "execution_count": null,
   "metadata": {},
   "outputs": [],
   "source": [
    "futures = dict()\n",
    "\n",
    "n_corefiles = len(sum(LOCALIZESL_COREFILES.values(), []))\n",
    "for corefile, sub_corefiles in LOCALIZESL_COREFILES.items():\n",
    "    futures[corefile] = dict()\n",
    "    for sub_corefile in sub_corefiles:\n",
    "        num_sites = get_num_sites(corefile, sub_corefile)\n",
    "\n",
    "        # get beginning and ending index for each batch\n",
    "        starts = np.arange(1, num_sites, BATCH_SIZE)\n",
    "        ends = np.arange(BATCH_SIZE, num_sites + BATCH_SIZE, BATCH_SIZE)\n",
    "        ends[-1] = num_sites\n",
    "\n",
    "        # add gsl\n",
    "        starts = np.hstack(([0], starts))\n",
    "        ends = np.hstack(([0], ends))\n",
    "\n",
    "        # get out dir\n",
    "        dir_out = TMP_MFILES_DIR.parent / \"mcs\" / corefile / \"mc_tsv\"\n",
    "        dir_out.mkdir(parents=True, exist_ok=True)\n",
    "\n",
    "        # get jobs\n",
    "        jobs = pj.Constant(\n",
    "            corefile=corefile, sub_corefile=sub_corefile, dir_out=dir_out\n",
    "        ) * pj.ParallelComponentSet(start=starts, end=ends)\n",
    "\n",
    "        # map jobs\n",
    "        futures[corefile][sub_corefile] = client.map(pj.expand_kwargs(run_batch), jobs)"
   ]
  },
  {
   "cell_type": "markdown",
   "metadata": {},
   "source": [
    "## Clean up temporary MFILES and close cluster"
   ]
  },
  {
   "cell_type": "code",
   "execution_count": null,
   "metadata": {},
   "outputs": [],
   "source": [
    "dd.wait(futures)\n",
    "client.cluster.close(), client.close()"
   ]
  },
  {
   "cell_type": "code",
   "execution_count": null,
   "metadata": {},
   "outputs": [],
   "source": [
    "FS.rm(str(TMP_MFILES_DIR.relative_to(\"/gcs\")), recursive=True)"
   ]
  }
 ],
 "metadata": {
  "kernelspec": {
   "display_name": "Python 3 (ipykernel)",
   "language": "python",
   "name": "python3"
  },
  "language_info": {
   "codemirror_mode": {
    "name": "ipython",
    "version": 3
   },
   "file_extension": ".py",
   "mimetype": "text/x-python",
   "name": "python",
   "nbconvert_exporter": "python",
   "pygments_lexer": "ipython3",
   "version": "3.10.8"
  },
  "nbdime-conflicts": {
   "local_diff": [
    {
     "key": "widgets",
     "op": "add",
     "value": {
      "application/vnd.jupyter.widget-state+json": {
       "state": {},
       "version_major": 2,
       "version_minor": 0
      }
     }
    }
   ],
   "remote_diff": [
    {
     "key": "widgets",
     "op": "add",
     "value": {
      "application/vnd.jupyter.widget-state+json": {
       "state": {
        "01751e9f631f4ad29269930e933bb9a1": {
         "model_module": "@jupyter-widgets/controls",
         "model_module_version": "1.5.0",
         "model_name": "VBoxModel",
         "state": {
          "children": [
           "IPY_MODEL_9087d1288cc74b25b96bc36457cf9c86",
           "IPY_MODEL_3e4f7718cfda4cd0a3f828c077674a29"
          ],
          "layout": "IPY_MODEL_a287cc2020e941dbb4ec8862559d8d03"
         }
        },
        "025b107359e8494985fcefba1c2e43ee": {
         "model_module": "@jupyter-widgets/base",
         "model_module_version": "1.2.0",
         "model_name": "LayoutModel",
         "state": {}
        },
        "026c0c222181416ab109ca7372d2c9bf": {
         "model_module": "@jupyter-widgets/controls",
         "model_module_version": "1.5.0",
         "model_name": "IntTextModel",
         "state": {
          "description": "Minimum",
          "layout": "IPY_MODEL_4e51cd8a9cc8443b9106b6d0eabc234c",
          "step": 1,
          "style": "IPY_MODEL_3f647d95b04142309b44ae885f866b92"
         }
        },
        "0755c45d2beb436a9e625c55adb7a929": {
         "model_module": "@jupyter-widgets/controls",
         "model_module_version": "1.5.0",
         "model_name": "DescriptionStyleModel",
         "state": {
          "description_width": ""
         }
        },
        "09a5e0b9bf1648eab18faf2e9cf58146": {
         "model_module": "@jupyter-widgets/controls",
         "model_module_version": "1.5.0",
         "model_name": "HTMLModel",
         "state": {
          "layout": "IPY_MODEL_d87c4689c4c44600a3c6e321c19c16f3",
          "style": "IPY_MODEL_0755c45d2beb436a9e625c55adb7a929",
          "value": "<div style=\"padding: 0px 10px 0px 10px; text-align: right\">67 / 67</div>"
         }
        },
        "0a7542ae1e874ca489b5cbfced51b642": {
         "model_module": "@jupyter-widgets/base",
         "model_module_version": "1.2.0",
         "model_name": "LayoutModel",
         "state": {}
        },
        "0cc92f85655f40d8a3e3ce8d85051489": {
         "model_module": "@jupyter-widgets/controls",
         "model_module_version": "1.5.0",
         "model_name": "DescriptionStyleModel",
         "state": {
          "description_width": ""
         }
        },
        "10ef31469b124f85bde701a7a52315bf": {
         "model_module": "@jupyter-widgets/base",
         "model_module_version": "1.2.0",
         "model_name": "LayoutModel",
         "state": {}
        },
        "1a6b7b3270494781b97a90279c2261b4": {
         "model_module": "@jupyter-widgets/controls",
         "model_module_version": "1.5.0",
         "model_name": "HTMLModel",
         "state": {
          "layout": "IPY_MODEL_fd53353613644e2f87ace812c76885a5",
          "style": "IPY_MODEL_eb249e5749ec4388abe3b2825fa0f3a5",
          "value": "<div style=\"padding: 0px 10px 5px 10px\"><b>Finished:</b>  1hr 11min  7.0s</div>"
         }
        },
        "1b9cdd9c6fab4c37ab2c7b23a1595312": {
         "model_module": "@jupyter-widgets/base",
         "model_module_version": "1.2.0",
         "model_name": "LayoutModel",
         "state": {}
        },
        "2104895dcf34414cbcc739b509bdeca2": {
         "model_module": "@jupyter-widgets/base",
         "model_module_version": "1.2.0",
         "model_name": "LayoutModel",
         "state": {}
        },
        "22e8ec715f0043ee88310eb409224faa": {
         "model_module": "@jupyter-widgets/controls",
         "model_module_version": "1.5.0",
         "model_name": "DescriptionStyleModel",
         "state": {
          "description_width": ""
         }
        },
        "24d74565e58a4ff7b9f8cc257726d629": {
         "model_module": "@jupyter-widgets/base",
         "model_module_version": "1.2.0",
         "model_name": "LayoutModel",
         "state": {}
        },
        "26e469238501404f96542480e40a64e5": {
         "model_module": "@jupyter-widgets/controls",
         "model_module_version": "1.5.0",
         "model_name": "ButtonStyleModel",
         "state": {}
        },
        "2819b95095a4402da59fb723ff853010": {
         "model_module": "@jupyter-widgets/controls",
         "model_module_version": "1.5.0",
         "model_name": "HTMLModel",
         "state": {
          "layout": "IPY_MODEL_33c5b71c428049ccbeb6c740b30b7ea2",
          "style": "IPY_MODEL_3f62acfa3c064961910b134f92ed7ab6",
          "value": "<div style=\"padding: 0px 10px 0px 10px; text-align:left; word-wrap: break-word;\">run_batch</div>"
         }
        },
        "28f4cce95baf40bfa512dbb8936e142c": {
         "model_module": "@jupyter-widgets/controls",
         "model_module_version": "1.5.0",
         "model_name": "HTMLModel",
         "state": {
          "layout": "IPY_MODEL_a20af9530e4e47fe81d1c3c30e8bd436",
          "style": "IPY_MODEL_834f4cc42c1546538f18bbffcde38398",
          "value": "<div style=\"padding: 0px 10px 5px 10px\"><b>Finished:</b> 46min 59.5s</div>"
         }
        },
        "29932152f2d640179a8ae7580e96df08": {
         "model_module": "@jupyter-widgets/controls",
         "model_module_version": "1.5.0",
         "model_name": "HBoxModel",
         "state": {
          "children": [
           "IPY_MODEL_93c4637d3469462b99192a248cbafd87",
           "IPY_MODEL_a9ac73548240496eb11975dfcdb9c044",
           "IPY_MODEL_897ffbbe561c4738b954fa0221797db7"
          ],
          "layout": "IPY_MODEL_67bc2a1fdda64e77b60cc2ae138d4f14"
         }
        },
        "33c5b71c428049ccbeb6c740b30b7ea2": {
         "model_module": "@jupyter-widgets/base",
         "model_module_version": "1.2.0",
         "model_name": "LayoutModel",
         "state": {}
        },
        "36e094751a9c4711b4b6c55f54c41fa8": {
         "model_module": "@jupyter-widgets/controls",
         "model_module_version": "1.5.0",
         "model_name": "DescriptionStyleModel",
         "state": {
          "description_width": ""
         }
        },
        "37c9c23980704317835e235be6179486": {
         "model_module": "@jupyter-widgets/controls",
         "model_module_version": "1.5.0",
         "model_name": "DescriptionStyleModel",
         "state": {
          "description_width": ""
         }
        },
        "38bc474a0d06487180f71a71ae69c5f6": {
         "model_module": "@jupyter-widgets/base",
         "model_module_version": "1.2.0",
         "model_name": "LayoutModel",
         "state": {}
        },
        "3e4f7718cfda4cd0a3f828c077674a29": {
         "model_module": "@jupyter-widgets/controls",
         "model_module_version": "1.5.0",
         "model_name": "VBoxModel",
         "state": {
          "children": [
           "IPY_MODEL_567f1375d858498d921e55182b8fdb5c"
          ],
          "layout": "IPY_MODEL_e32474e03e8f4559802b6144cd6a9aa4"
         }
        },
        "3f62acfa3c064961910b134f92ed7ab6": {
         "model_module": "@jupyter-widgets/controls",
         "model_module_version": "1.5.0",
         "model_name": "DescriptionStyleModel",
         "state": {
          "description_width": ""
         }
        },
        "3f647d95b04142309b44ae885f866b92": {
         "model_module": "@jupyter-widgets/controls",
         "model_module_version": "1.5.0",
         "model_name": "DescriptionStyleModel",
         "state": {
          "description_width": ""
         }
        },
        "43a78cbc080d4d94841c8f8af8b50eb4": {
         "model_module": "@jupyter-widgets/base",
         "model_module_version": "1.2.0",
         "model_name": "LayoutModel",
         "state": {}
        },
        "44c9f1e0775e4318a830fd4565de82c8": {
         "model_module": "@jupyter-widgets/controls",
         "model_module_version": "1.5.0",
         "model_name": "HBoxModel",
         "state": {
          "children": [
           "IPY_MODEL_4597fb498328415cb6321cdd865ea3a9",
           "IPY_MODEL_6dca74c3da00424e837b4fd8fd660fd8",
           "IPY_MODEL_2819b95095a4402da59fb723ff853010"
          ],
          "layout": "IPY_MODEL_a97a55314fee44b58172aecc6ab52ac4"
         }
        },
        "4597fb498328415cb6321cdd865ea3a9": {
         "model_module": "@jupyter-widgets/controls",
         "model_module_version": "1.5.0",
         "model_name": "HTMLModel",
         "state": {
          "layout": "IPY_MODEL_2104895dcf34414cbcc739b509bdeca2",
          "style": "IPY_MODEL_928181208ce2443f8278c26744d66926",
          "value": "<div style=\"padding: 0px 10px 0px 10px; text-align: right\">67 / 67</div>"
         }
        },
        "4db704dc7d05472c8b2f00743ef0a6ed": {
         "model_module": "@jupyter-widgets/controls",
         "model_module_version": "1.5.0",
         "model_name": "DescriptionStyleModel",
         "state": {
          "description_width": ""
         }
        },
        "4e51cd8a9cc8443b9106b6d0eabc234c": {
         "model_module": "@jupyter-widgets/base",
         "model_module_version": "1.2.0",
         "model_name": "LayoutModel",
         "state": {
          "width": "150px"
         }
        },
        "4f2b0dd904ce464e8eabc3de04a6dca5": {
         "model_module": "@jupyter-widgets/controls",
         "model_module_version": "1.5.0",
         "model_name": "HBoxModel",
         "state": {
          "children": [
           "IPY_MODEL_5bdc0c82d0034781bf5d3c84129405db",
           "IPY_MODEL_5861d125a6b84e2fb4df27ea013529a3"
          ],
          "layout": "IPY_MODEL_ef551c4113954c5aab97b743838180b4"
         }
        },
        "52822a8c109c4f47ad1e27b36dad4498": {
         "model_module": "@jupyter-widgets/base",
         "model_module_version": "1.2.0",
         "model_name": "LayoutModel",
         "state": {}
        },
        "55278627ad9f4195a3401edc7f0ce7eb": {
         "model_module": "@jupyter-widgets/controls",
         "model_module_version": "1.5.0",
         "model_name": "VBoxModel",
         "state": {
          "children": [
           "IPY_MODEL_a891144765dc45e484b20ea4aa7a0906",
           "IPY_MODEL_89fb4b6b807e420484a057e02a089834",
           "IPY_MODEL_f6930f6fc7ee4d80b0adf733e2eced6c",
           "IPY_MODEL_f953bcfe9daf4ac8ba8e4127453b36fd"
          ],
          "layout": "IPY_MODEL_1b9cdd9c6fab4c37ab2c7b23a1595312"
         }
        },
        "567f1375d858498d921e55182b8fdb5c": {
         "model_module": "@jupyter-widgets/controls",
         "model_module_version": "1.5.0",
         "model_name": "HBoxModel",
         "state": {
          "children": [
           "IPY_MODEL_68bc2ee7a74f4c2cbe40b167f4d34a22",
           "IPY_MODEL_d9457500ca8945f788df02c372ef5fcd",
           "IPY_MODEL_b932d9780cf9482ca4bc3eb88183c5c8"
          ],
          "layout": "IPY_MODEL_0a7542ae1e874ca489b5cbfced51b642"
         }
        },
        "56bc83bb6b5b43a587f918caa2ca64f4": {
         "model_module": "@jupyter-widgets/base",
         "model_module_version": "1.2.0",
         "model_name": "LayoutModel",
         "state": {}
        },
        "5861d125a6b84e2fb4df27ea013529a3": {
         "model_module": "@jupyter-widgets/controls",
         "model_module_version": "1.5.0",
         "model_name": "ButtonModel",
         "state": {
          "description": "Scale",
          "layout": "IPY_MODEL_4e51cd8a9cc8443b9106b6d0eabc234c",
          "style": "IPY_MODEL_69fc7ae4f5b4470faa449b8840a88e07"
         }
        },
        "58a5f49ba22c4157ab3c8bedfda73b52": {
         "model_module": "@jupyter-widgets/controls",
         "model_module_version": "1.5.0",
         "model_name": "HTMLModel",
         "state": {
          "layout": "IPY_MODEL_95b0281a6dea40d9ba011de14bdbfc7e",
          "style": "IPY_MODEL_36e094751a9c4711b4b6c55f54c41fa8",
          "value": "<div style=\"padding: 0px 10px 0px 10px; text-align:left; word-wrap: break-word;\">run_batch</div>"
         }
        },
        "5b2edaa051054124b317aa95de3b0a6a": {
         "model_module": "@jupyter-widgets/controls",
         "model_module_version": "1.5.0",
         "model_name": "HTMLModel",
         "state": {
          "layout": "IPY_MODEL_e62ab9c3134340ca832b788beeb30e12",
          "style": "IPY_MODEL_9675c2267a35465ab2a9c2fe5da02f9a",
          "value": "<div style=\"padding: 0px 10px 0px 10px; text-align:left; word-wrap: break-word;\">run_batch</div>"
         }
        },
        "5bdc0c82d0034781bf5d3c84129405db": {
         "model_module": "@jupyter-widgets/controls",
         "model_module_version": "1.5.0",
         "model_name": "IntTextModel",
         "state": {
          "description": "Workers",
          "layout": "IPY_MODEL_4e51cd8a9cc8443b9106b6d0eabc234c",
          "step": 1,
          "style": "IPY_MODEL_fabcf155c317400e92f810e06f4b44d0"
         }
        },
        "5c40b198f23b49d8b531ca1ad7a79e10": {
         "model_module": "@jupyter-widgets/base",
         "model_module_version": "1.2.0",
         "model_name": "LayoutModel",
         "state": {}
        },
        "60170fc9b8f7436bb8d8ef63385553d5": {
         "model_module": "@jupyter-widgets/controls",
         "model_module_version": "1.5.0",
         "model_name": "DescriptionStyleModel",
         "state": {
          "description_width": ""
         }
        },
        "6749914566c840f6bf5c62eee6c8e740": {
         "model_module": "@jupyter-widgets/controls",
         "model_module_version": "1.5.0",
         "model_name": "ProgressStyleModel",
         "state": {
          "description_width": ""
         }
        },
        "67bc2a1fdda64e77b60cc2ae138d4f14": {
         "model_module": "@jupyter-widgets/base",
         "model_module_version": "1.2.0",
         "model_name": "LayoutModel",
         "state": {}
        },
        "67c59408d5184f3a860eb11ecb43510e": {
         "model_module": "@jupyter-widgets/base",
         "model_module_version": "1.2.0",
         "model_name": "LayoutModel",
         "state": {}
        },
        "68bc2ee7a74f4c2cbe40b167f4d34a22": {
         "model_module": "@jupyter-widgets/controls",
         "model_module_version": "1.5.0",
         "model_name": "HTMLModel",
         "state": {
          "layout": "IPY_MODEL_840292dcfa7f4a4d897dca4c2a18fa63",
          "style": "IPY_MODEL_60170fc9b8f7436bb8d8ef63385553d5",
          "value": "<div style=\"padding: 0px 10px 0px 10px; text-align: right\">67 / 67</div>"
         }
        },
        "69fc7ae4f5b4470faa449b8840a88e07": {
         "model_module": "@jupyter-widgets/controls",
         "model_module_version": "1.5.0",
         "model_name": "ButtonStyleModel",
         "state": {}
        },
        "6dca74c3da00424e837b4fd8fd660fd8": {
         "model_module": "@jupyter-widgets/controls",
         "model_module_version": "1.5.0",
         "model_name": "FloatProgressModel",
         "state": {
          "bar_style": "success",
          "layout": "IPY_MODEL_aaa9b3dcff9a4761bf416075ee9c5371",
          "max": 1,
          "style": "IPY_MODEL_75e5184b73204e698bc55dd201b4245f",
          "value": 1
         }
        },
        "720cccf78c934a4b84f6f45f1d8a0af5": {
         "model_module": "@jupyter-widgets/controls",
         "model_module_version": "1.5.0",
         "model_name": "DescriptionStyleModel",
         "state": {
          "description_width": ""
         }
        },
        "72569d836c9e40f0909f8828cd2cdd4d": {
         "model_module": "@jupyter-widgets/base",
         "model_module_version": "1.2.0",
         "model_name": "LayoutModel",
         "state": {}
        },
        "737eb9c5b9bf4fc48d92e9bbffa1c77a": {
         "model_module": "@jupyter-widgets/controls",
         "model_module_version": "1.5.0",
         "model_name": "VBoxModel",
         "state": {
          "children": [
           "IPY_MODEL_29932152f2d640179a8ae7580e96df08"
          ],
          "layout": "IPY_MODEL_f29d6daccdab494ca9c05f43bd131207"
         }
        },
        "73c5d03be3fc4385af68f3c2ddc40e6c": {
         "model_module": "@jupyter-widgets/controls",
         "model_module_version": "1.5.0",
         "model_name": "DescriptionStyleModel",
         "state": {
          "description_width": ""
         }
        },
        "74097c600949435b84433cfca93f9dab": {
         "model_module": "@jupyter-widgets/base",
         "model_module_version": "1.2.0",
         "model_name": "LayoutModel",
         "state": {}
        },
        "74bab6fe2d904d8fa2abe91c57f49c0c": {
         "model_module": "@jupyter-widgets/controls",
         "model_module_version": "1.5.0",
         "model_name": "ProgressStyleModel",
         "state": {
          "description_width": ""
         }
        },
        "75e5184b73204e698bc55dd201b4245f": {
         "model_module": "@jupyter-widgets/controls",
         "model_module_version": "1.5.0",
         "model_name": "ProgressStyleModel",
         "state": {
          "description_width": ""
         }
        },
        "78a6359adf57408090e190c8280787a7": {
         "model_module": "@jupyter-widgets/controls",
         "model_module_version": "1.5.0",
         "model_name": "ProgressStyleModel",
         "state": {
          "description_width": ""
         }
        },
        "7913eda5863241f295001fd9a823f6a2": {
         "model_module": "@jupyter-widgets/controls",
         "model_module_version": "1.5.0",
         "model_name": "VBoxModel",
         "state": {
          "children": [
           "IPY_MODEL_28f4cce95baf40bfa512dbb8936e142c",
           "IPY_MODEL_737eb9c5b9bf4fc48d92e9bbffa1c77a"
          ],
          "layout": "IPY_MODEL_67c59408d5184f3a860eb11ecb43510e"
         }
        },
        "7a4dad3cf68b4e48b62e4fb446171ce3": {
         "model_module": "@jupyter-widgets/base",
         "model_module_version": "1.2.0",
         "model_name": "LayoutModel",
         "state": {}
        },
        "7b98d59f26354a6db4c6296ed34899c7": {
         "model_module": "@jupyter-widgets/controls",
         "model_module_version": "1.5.0",
         "model_name": "HBoxModel",
         "state": {
          "children": [
           "IPY_MODEL_09a5e0b9bf1648eab18faf2e9cf58146",
           "IPY_MODEL_8873037bb2724e93b5d5b7a672cbf5e8",
           "IPY_MODEL_5b2edaa051054124b317aa95de3b0a6a"
          ],
          "layout": "IPY_MODEL_38bc474a0d06487180f71a71ae69c5f6"
         }
        },
        "7fadbe16d1094cb38147abb7cb2f4925": {
         "model_module": "@jupyter-widgets/controls",
         "model_module_version": "1.5.0",
         "model_name": "IntTextModel",
         "state": {
          "description": "Maximum",
          "layout": "IPY_MODEL_4e51cd8a9cc8443b9106b6d0eabc234c",
          "step": 1,
          "style": "IPY_MODEL_d8c67fb04dba41dc858e0da764b0e6d5"
         }
        },
        "81a92892f3b54601827100fdfd3bf219": {
         "model_module": "@jupyter-widgets/base",
         "model_module_version": "1.2.0",
         "model_name": "LayoutModel",
         "state": {}
        },
        "834f4cc42c1546538f18bbffcde38398": {
         "model_module": "@jupyter-widgets/controls",
         "model_module_version": "1.5.0",
         "model_name": "DescriptionStyleModel",
         "state": {
          "description_width": ""
         }
        },
        "840292dcfa7f4a4d897dca4c2a18fa63": {
         "model_module": "@jupyter-widgets/base",
         "model_module_version": "1.2.0",
         "model_name": "LayoutModel",
         "state": {}
        },
        "8439432eab1b465a9f1196349dc4c136": {
         "model_module": "@jupyter-widgets/controls",
         "model_module_version": "1.5.0",
         "model_name": "HTMLModel",
         "state": {
          "layout": "IPY_MODEL_88bf4ff86b27405d835dffb337d5b9d8",
          "style": "IPY_MODEL_37c9c23980704317835e235be6179486",
          "value": "<div style=\"padding: 0px 10px 5px 10px\"><b>Finished:</b>  1hr 17min 56.4s</div>"
         }
        },
        "8873037bb2724e93b5d5b7a672cbf5e8": {
         "model_module": "@jupyter-widgets/controls",
         "model_module_version": "1.5.0",
         "model_name": "FloatProgressModel",
         "state": {
          "bar_style": "success",
          "layout": "IPY_MODEL_9b96383ec86a44a4b2093ea405248a60",
          "max": 1,
          "style": "IPY_MODEL_6749914566c840f6bf5c62eee6c8e740",
          "value": 1
         }
        },
        "88bf4ff86b27405d835dffb337d5b9d8": {
         "model_module": "@jupyter-widgets/base",
         "model_module_version": "1.2.0",
         "model_name": "LayoutModel",
         "state": {}
        },
        "897ffbbe561c4738b954fa0221797db7": {
         "model_module": "@jupyter-widgets/controls",
         "model_module_version": "1.5.0",
         "model_name": "HTMLModel",
         "state": {
          "layout": "IPY_MODEL_74097c600949435b84433cfca93f9dab",
          "style": "IPY_MODEL_9e581f60ab2f440cbb20185130d99954",
          "value": "<div style=\"padding: 0px 10px 0px 10px; text-align:left; word-wrap: break-word;\">run_batch</div>"
         }
        },
        "89fb4b6b807e420484a057e02a089834": {
         "model_module": "@jupyter-widgets/controls",
         "model_module_version": "1.5.0",
         "model_name": "HBoxModel",
         "state": {
          "children": [
           "IPY_MODEL_fa800f253f394091b4db6bd335b3f4b8",
           "IPY_MODEL_d6f815cd55c448a1a88e992d9912326c"
          ],
          "layout": "IPY_MODEL_52822a8c109c4f47ad1e27b36dad4498"
         }
        },
        "8b31180c33f44b6e8933e9cc0ec97903": {
         "model_module": "@jupyter-widgets/base",
         "model_module_version": "1.2.0",
         "model_name": "LayoutModel",
         "state": {}
        },
        "8d0fbf56bfc140659768ed3f41c45d90": {
         "model_module": "@jupyter-widgets/controls",
         "model_module_version": "1.5.0",
         "model_name": "ProgressStyleModel",
         "state": {
          "description_width": ""
         }
        },
        "9087d1288cc74b25b96bc36457cf9c86": {
         "model_module": "@jupyter-widgets/controls",
         "model_module_version": "1.5.0",
         "model_name": "HTMLModel",
         "state": {
          "layout": "IPY_MODEL_c9e534d150a14788a78ab42359f3dfab",
          "style": "IPY_MODEL_73c5d03be3fc4385af68f3c2ddc40e6c",
          "value": "<div style=\"padding: 0px 10px 5px 10px\"><b>Finished:</b>  9min 13.3s</div>"
         }
        },
        "90ee381c05984631b0607e0c4e5c834c": {
         "model_module": "@jupyter-widgets/controls",
         "model_module_version": "1.5.0",
         "model_name": "ButtonModel",
         "state": {
          "description": "Adapt",
          "layout": "IPY_MODEL_4e51cd8a9cc8443b9106b6d0eabc234c",
          "style": "IPY_MODEL_26e469238501404f96542480e40a64e5"
         }
        },
        "928181208ce2443f8278c26744d66926": {
         "model_module": "@jupyter-widgets/controls",
         "model_module_version": "1.5.0",
         "model_name": "DescriptionStyleModel",
         "state": {
          "description_width": ""
         }
        },
        "928228174ba64e6fa7e3400e55e237f7": {
         "model_module": "@jupyter-widgets/controls",
         "model_module_version": "1.5.0",
         "model_name": "DescriptionStyleModel",
         "state": {
          "description_width": ""
         }
        },
        "93c4637d3469462b99192a248cbafd87": {
         "model_module": "@jupyter-widgets/controls",
         "model_module_version": "1.5.0",
         "model_name": "HTMLModel",
         "state": {
          "layout": "IPY_MODEL_025b107359e8494985fcefba1c2e43ee",
          "style": "IPY_MODEL_22e8ec715f0043ee88310eb409224faa",
          "value": "<div style=\"padding: 0px 10px 0px 10px; text-align: right\">67 / 67</div>"
         }
        },
        "95b0281a6dea40d9ba011de14bdbfc7e": {
         "model_module": "@jupyter-widgets/base",
         "model_module_version": "1.2.0",
         "model_name": "LayoutModel",
         "state": {}
        },
        "9675c2267a35465ab2a9c2fe5da02f9a": {
         "model_module": "@jupyter-widgets/controls",
         "model_module_version": "1.5.0",
         "model_name": "DescriptionStyleModel",
         "state": {
          "description_width": ""
         }
        },
        "96ec83ef01fa4b6e8159cc3bb051509c": {
         "model_module": "@jupyter-widgets/controls",
         "model_module_version": "1.5.0",
         "model_name": "VBoxModel",
         "state": {
          "children": [
           "IPY_MODEL_a69276475e614fb6b89a163b5735ed36"
          ],
          "layout": "IPY_MODEL_7a4dad3cf68b4e48b62e4fb446171ce3"
         }
        },
        "9b96383ec86a44a4b2093ea405248a60": {
         "model_module": "@jupyter-widgets/base",
         "model_module_version": "1.2.0",
         "model_name": "LayoutModel",
         "state": {}
        },
        "9cb81102a0cd4a5181d3417d1236d930": {
         "model_module": "@jupyter-widgets/controls",
         "model_module_version": "1.5.0",
         "model_name": "FloatProgressModel",
         "state": {
          "bar_style": "success",
          "layout": "IPY_MODEL_10ef31469b124f85bde701a7a52315bf",
          "max": 1,
          "style": "IPY_MODEL_78a6359adf57408090e190c8280787a7",
          "value": 1
         }
        },
        "9e581f60ab2f440cbb20185130d99954": {
         "model_module": "@jupyter-widgets/controls",
         "model_module_version": "1.5.0",
         "model_name": "DescriptionStyleModel",
         "state": {
          "description_width": ""
         }
        },
        "a20af9530e4e47fe81d1c3c30e8bd436": {
         "model_module": "@jupyter-widgets/base",
         "model_module_version": "1.2.0",
         "model_name": "LayoutModel",
         "state": {}
        },
        "a287cc2020e941dbb4ec8862559d8d03": {
         "model_module": "@jupyter-widgets/base",
         "model_module_version": "1.2.0",
         "model_name": "LayoutModel",
         "state": {}
        },
        "a69276475e614fb6b89a163b5735ed36": {
         "model_module": "@jupyter-widgets/controls",
         "model_module_version": "1.5.0",
         "model_name": "HBoxModel",
         "state": {
          "children": [
           "IPY_MODEL_fa9e12916ada4a3c8f18016054293783",
           "IPY_MODEL_9cb81102a0cd4a5181d3417d1236d930",
           "IPY_MODEL_58a5f49ba22c4157ab3c8bedfda73b52"
          ],
          "layout": "IPY_MODEL_56bc83bb6b5b43a587f918caa2ca64f4"
         }
        },
        "a7faa49336aa4d049956a262bf2e5d84": {
         "model_module": "@jupyter-widgets/base",
         "model_module_version": "1.2.0",
         "model_name": "LayoutModel",
         "state": {}
        },
        "a891144765dc45e484b20ea4aa7a0906": {
         "model_module": "@jupyter-widgets/controls",
         "model_module_version": "1.5.0",
         "model_name": "HTMLModel",
         "state": {
          "layout": "IPY_MODEL_a7faa49336aa4d049956a262bf2e5d84",
          "style": "IPY_MODEL_928228174ba64e6fa7e3400e55e237f7",
          "value": "<h2>GatewayCluster</h2>"
         }
        },
        "a97a55314fee44b58172aecc6ab52ac4": {
         "model_module": "@jupyter-widgets/base",
         "model_module_version": "1.2.0",
         "model_name": "LayoutModel",
         "state": {}
        },
        "a9ac73548240496eb11975dfcdb9c044": {
         "model_module": "@jupyter-widgets/controls",
         "model_module_version": "1.5.0",
         "model_name": "FloatProgressModel",
         "state": {
          "bar_style": "success",
          "layout": "IPY_MODEL_8b31180c33f44b6e8933e9cc0ec97903",
          "max": 1,
          "style": "IPY_MODEL_74bab6fe2d904d8fa2abe91c57f49c0c",
          "value": 1
         }
        },
        "aaa9b3dcff9a4761bf416075ee9c5371": {
         "model_module": "@jupyter-widgets/base",
         "model_module_version": "1.2.0",
         "model_name": "LayoutModel",
         "state": {}
        },
        "aaf076c445f243f7a57f16607cc200e8": {
         "model_module": "@jupyter-widgets/controls",
         "model_module_version": "1.5.0",
         "model_name": "VBoxModel",
         "state": {
          "children": [
           "IPY_MODEL_8439432eab1b465a9f1196349dc4c136",
           "IPY_MODEL_96ec83ef01fa4b6e8159cc3bb051509c"
          ],
          "layout": "IPY_MODEL_72569d836c9e40f0909f8828cd2cdd4d"
         }
        },
        "ab4d0e904841425abf43a4b763e2d3e2": {
         "model_module": "@jupyter-widgets/base",
         "model_module_version": "1.2.0",
         "model_name": "LayoutModel",
         "state": {}
        },
        "ab5931b37c66495380648b6fc1c41fdd": {
         "model_module": "@jupyter-widgets/base",
         "model_module_version": "1.2.0",
         "model_name": "LayoutModel",
         "state": {}
        },
        "ac00b4f535dc4fa28df607d36261ba02": {
         "model_module": "@jupyter-widgets/controls",
         "model_module_version": "1.5.0",
         "model_name": "DescriptionStyleModel",
         "state": {
          "description_width": ""
         }
        },
        "b745ecb0604442f4934d64d3de414140": {
         "model_module": "@jupyter-widgets/controls",
         "model_module_version": "1.5.0",
         "model_name": "HBoxModel",
         "state": {
          "children": [
           "IPY_MODEL_026c0c222181416ab109ca7372d2c9bf",
           "IPY_MODEL_7fadbe16d1094cb38147abb7cb2f4925",
           "IPY_MODEL_90ee381c05984631b0607e0c4e5c834c"
          ],
          "layout": "IPY_MODEL_d71072ec97d24e24b1112ffe62a51af5"
         }
        },
        "b932d9780cf9482ca4bc3eb88183c5c8": {
         "model_module": "@jupyter-widgets/controls",
         "model_module_version": "1.5.0",
         "model_name": "HTMLModel",
         "state": {
          "layout": "IPY_MODEL_5c40b198f23b49d8b531ca1ad7a79e10",
          "style": "IPY_MODEL_0cc92f85655f40d8a3e3ce8d85051489",
          "value": "<div style=\"padding: 0px 10px 0px 10px; text-align:left; word-wrap: break-word;\">run_batch</div>"
         }
        },
        "bb592927448241b9ac4329b772f7bf86": {
         "model_module": "@jupyter-widgets/base",
         "model_module_version": "1.2.0",
         "model_name": "LayoutModel",
         "state": {}
        },
        "be2d98ad206a47ed944cf4d42fb9d328": {
         "model_module": "@jupyter-widgets/controls",
         "model_module_version": "1.5.0",
         "model_name": "DescriptionStyleModel",
         "state": {
          "description_width": ""
         }
        },
        "be7f5d3fadb44292873ce4da0d68b1b4": {
         "model_module": "@jupyter-widgets/base",
         "model_module_version": "1.2.0",
         "model_name": "LayoutModel",
         "state": {}
        },
        "c9e534d150a14788a78ab42359f3dfab": {
         "model_module": "@jupyter-widgets/base",
         "model_module_version": "1.2.0",
         "model_name": "LayoutModel",
         "state": {}
        },
        "cdb9b031355c4441b8b31d5c95be1dc5": {
         "model_module": "@jupyter-widgets/base",
         "model_module_version": "1.2.0",
         "model_name": "LayoutModel",
         "state": {
          "min_width": "150px"
         }
        },
        "ce7059379a394fb2bbe0b05add67b2f7": {
         "model_module": "@jupyter-widgets/base",
         "model_module_version": "1.2.0",
         "model_name": "LayoutModel",
         "state": {}
        },
        "d1aa2ba6533b433686f4c03d30ec42bb": {
         "model_module": "@jupyter-widgets/controls",
         "model_module_version": "1.5.0",
         "model_name": "VBoxModel",
         "state": {
          "children": [
           "IPY_MODEL_e47746b5a42348688e2f045605dee7d1",
           "IPY_MODEL_e4341f78b68f435ba6e6d2e9cb0de7d4"
          ],
          "layout": "IPY_MODEL_be7f5d3fadb44292873ce4da0d68b1b4"
         }
        },
        "d6f815cd55c448a1a88e992d9912326c": {
         "model_module": "@jupyter-widgets/controls",
         "model_module_version": "1.5.0",
         "model_name": "AccordionModel",
         "state": {
          "_titles": {
           "0": "Manual Scaling",
           "1": "Adaptive Scaling"
          },
          "children": [
           "IPY_MODEL_4f2b0dd904ce464e8eabc3de04a6dca5",
           "IPY_MODEL_b745ecb0604442f4934d64d3de414140"
          ],
          "layout": "IPY_MODEL_f91409ee90c14b29af8e8a956990badd",
          "selected_index": null
         }
        },
        "d70653312b8c4d49a3c44a62c7cf694c": {
         "model_module": "@jupyter-widgets/controls",
         "model_module_version": "1.5.0",
         "model_name": "VBoxModel",
         "state": {
          "children": [
           "IPY_MODEL_1a6b7b3270494781b97a90279c2261b4",
           "IPY_MODEL_efe768b143594a3a94aaaa4e67ae67aa"
          ],
          "layout": "IPY_MODEL_ce7059379a394fb2bbe0b05add67b2f7"
         }
        },
        "d71072ec97d24e24b1112ffe62a51af5": {
         "model_module": "@jupyter-widgets/base",
         "model_module_version": "1.2.0",
         "model_name": "LayoutModel",
         "state": {}
        },
        "d87c4689c4c44600a3c6e321c19c16f3": {
         "model_module": "@jupyter-widgets/base",
         "model_module_version": "1.2.0",
         "model_name": "LayoutModel",
         "state": {}
        },
        "d8c67fb04dba41dc858e0da764b0e6d5": {
         "model_module": "@jupyter-widgets/controls",
         "model_module_version": "1.5.0",
         "model_name": "DescriptionStyleModel",
         "state": {
          "description_width": ""
         }
        },
        "d9457500ca8945f788df02c372ef5fcd": {
         "model_module": "@jupyter-widgets/controls",
         "model_module_version": "1.5.0",
         "model_name": "FloatProgressModel",
         "state": {
          "bar_style": "success",
          "layout": "IPY_MODEL_bb592927448241b9ac4329b772f7bf86",
          "max": 1,
          "style": "IPY_MODEL_8d0fbf56bfc140659768ed3f41c45d90",
          "value": 1
         }
        },
        "dfb2dc339a494ea891ca3a03a38a839f": {
         "model_module": "@jupyter-widgets/controls",
         "model_module_version": "1.5.0",
         "model_name": "DescriptionStyleModel",
         "state": {
          "description_width": ""
         }
        },
        "e2c6461db44d4fcfba77abd869b822eb": {
         "model_module": "@jupyter-widgets/base",
         "model_module_version": "1.2.0",
         "model_name": "LayoutModel",
         "state": {}
        },
        "e32474e03e8f4559802b6144cd6a9aa4": {
         "model_module": "@jupyter-widgets/base",
         "model_module_version": "1.2.0",
         "model_name": "LayoutModel",
         "state": {}
        },
        "e4341f78b68f435ba6e6d2e9cb0de7d4": {
         "model_module": "@jupyter-widgets/controls",
         "model_module_version": "1.5.0",
         "model_name": "VBoxModel",
         "state": {
          "children": [
           "IPY_MODEL_7b98d59f26354a6db4c6296ed34899c7"
          ],
          "layout": "IPY_MODEL_ab5931b37c66495380648b6fc1c41fdd"
         }
        },
        "e47746b5a42348688e2f045605dee7d1": {
         "model_module": "@jupyter-widgets/controls",
         "model_module_version": "1.5.0",
         "model_name": "HTMLModel",
         "state": {
          "layout": "IPY_MODEL_43a78cbc080d4d94841c8f8af8b50eb4",
          "style": "IPY_MODEL_dfb2dc339a494ea891ca3a03a38a839f",
          "value": "<div style=\"padding: 0px 10px 5px 10px\"><b>Finished:</b>  1hr 16min 39.9s</div>"
         }
        },
        "e62ab9c3134340ca832b788beeb30e12": {
         "model_module": "@jupyter-widgets/base",
         "model_module_version": "1.2.0",
         "model_name": "LayoutModel",
         "state": {}
        },
        "eb249e5749ec4388abe3b2825fa0f3a5": {
         "model_module": "@jupyter-widgets/controls",
         "model_module_version": "1.5.0",
         "model_name": "DescriptionStyleModel",
         "state": {
          "description_width": ""
         }
        },
        "ef551c4113954c5aab97b743838180b4": {
         "model_module": "@jupyter-widgets/base",
         "model_module_version": "1.2.0",
         "model_name": "LayoutModel",
         "state": {}
        },
        "efe768b143594a3a94aaaa4e67ae67aa": {
         "model_module": "@jupyter-widgets/controls",
         "model_module_version": "1.5.0",
         "model_name": "VBoxModel",
         "state": {
          "children": [
           "IPY_MODEL_44c9f1e0775e4318a830fd4565de82c8"
          ],
          "layout": "IPY_MODEL_24d74565e58a4ff7b9f8cc257726d629"
         }
        },
        "f29d6daccdab494ca9c05f43bd131207": {
         "model_module": "@jupyter-widgets/base",
         "model_module_version": "1.2.0",
         "model_name": "LayoutModel",
         "state": {}
        },
        "f6930f6fc7ee4d80b0adf733e2eced6c": {
         "model_module": "@jupyter-widgets/controls",
         "model_module_version": "1.5.0",
         "model_name": "HTMLModel",
         "state": {
          "layout": "IPY_MODEL_e2c6461db44d4fcfba77abd869b822eb",
          "style": "IPY_MODEL_720cccf78c934a4b84f6f45f1d8a0af5",
          "value": "<p><b>Name: </b>daskhub-dev.7b42fe169b8647ed92c39ec0acec6d82</p>"
         }
        },
        "f91409ee90c14b29af8e8a956990badd": {
         "model_module": "@jupyter-widgets/base",
         "model_module_version": "1.2.0",
         "model_name": "LayoutModel",
         "state": {
          "min_width": "500px"
         }
        },
        "f953bcfe9daf4ac8ba8e4127453b36fd": {
         "model_module": "@jupyter-widgets/controls",
         "model_module_version": "1.5.0",
         "model_name": "HTMLModel",
         "state": {
          "layout": "IPY_MODEL_ab4d0e904841425abf43a4b763e2d3e2",
          "style": "IPY_MODEL_ac00b4f535dc4fa28df607d36261ba02",
          "value": "<p><b>Dashboard: </b><a href=\"/services/dask-gateway/clusters/daskhub-dev.7b42fe169b8647ed92c39ec0acec6d82/status\" target=\"_blank\">/services/dask-gateway/clusters/daskhub-dev.7b42fe169b8647ed92c39ec0acec6d82/status</a></p>\n"
         }
        },
        "fa800f253f394091b4db6bd335b3f4b8": {
         "model_module": "@jupyter-widgets/controls",
         "model_module_version": "1.5.0",
         "model_name": "HTMLModel",
         "state": {
          "layout": "IPY_MODEL_cdb9b031355c4441b8b31d5c95be1dc5",
          "style": "IPY_MODEL_4db704dc7d05472c8b2f00743ef0a6ed",
          "value": "\n<div>\n<style scoped>\n    .dataframe tbody tr th:only-of-type {\n        vertical-align: middle;\n    }\n\n    .dataframe tbody tr th {\n        vertical-align: top;\n    }\n\n    .dataframe thead th {\n        text-align: right;\n    }\n</style>\n<table style=\"text-align: right;\">\n    <tr><th>Workers</th> <td>64</td></tr>\n    <tr><th>Cores</th> <td>64</td></tr>\n    <tr><th>Memory</th> <td>416.00 GiB</td></tr>\n</table>\n</div>\n"
         }
        },
        "fa9e12916ada4a3c8f18016054293783": {
         "model_module": "@jupyter-widgets/controls",
         "model_module_version": "1.5.0",
         "model_name": "HTMLModel",
         "state": {
          "layout": "IPY_MODEL_81a92892f3b54601827100fdfd3bf219",
          "style": "IPY_MODEL_be2d98ad206a47ed944cf4d42fb9d328",
          "value": "<div style=\"padding: 0px 10px 0px 10px; text-align: right\">67 / 67</div>"
         }
        },
        "fabcf155c317400e92f810e06f4b44d0": {
         "model_module": "@jupyter-widgets/controls",
         "model_module_version": "1.5.0",
         "model_name": "DescriptionStyleModel",
         "state": {
          "description_width": ""
         }
        },
        "fd53353613644e2f87ace812c76885a5": {
         "model_module": "@jupyter-widgets/base",
         "model_module_version": "1.2.0",
         "model_name": "LayoutModel",
         "state": {}
        }
       },
       "version_major": 2,
       "version_minor": 0
      }
     }
    }
   ]
  },
  "widgets": {
   "application/vnd.jupyter.widget-state+json": {
    "state": {},
    "version_major": 2,
    "version_minor": 0
   }
  }
 },
 "nbformat": 4,
 "nbformat_minor": 4
}
