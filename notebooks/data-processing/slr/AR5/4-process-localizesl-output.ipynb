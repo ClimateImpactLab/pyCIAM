{
 "cells": [
  {
   "cell_type": "markdown",
   "metadata": {
    "tags": []
   },
   "source": [
    "# Aggregate TSV outputs of LocalizeSL into Zarr"
   ]
  },
  {
   "cell_type": "code",
   "execution_count": 45,
   "metadata": {},
   "outputs": [],
   "source": [
    "import dask.config\n",
    "import numpy as np\n",
    "import pandas as pd\n",
    "import shared\n",
    "import xarray as xr\n",
    "from rhg_compute_tools import xarray as rhgx\n",
    "from tqdm.notebook import tqdm\n",
    "\n",
    "from pyCIAM.utils import spherical_nearest_neighbor"
   ]
  },
  {
   "cell_type": "code",
   "execution_count": 37,
   "metadata": {
    "tags": [
     "parameters"
    ]
   },
   "outputs": [],
   "source": [
    "# When running on larger/scalable dask cluster, may wish to specify number of workers\n",
    "# Default is LocalCluster which will use the number of CPUs available on local machine\n",
    "N_WORKERS = None\n",
    "# N_WORKERS = 140\n",
    "\n",
    "# attrs for output zarr\n",
    "METHOD = \"\"\"LocalizeSL was used to estimate monte carlo draws of future GMSL and LMSL relative to a vertical datum of MSL2000. Following this, altimetry data was used to adjust projections to a MSL2005 datum to align with AR6 projections. Data quality adjustments:\n",
    "1. RCP6 ignored due to no post-2100 projections and fewer GCMS used for pre-2100 projections.\n",
    "2. Sites with <3 GCMs for an pre-2100 years dropped.\n",
    "3. Sites with any null values for post-2100 projections dropped.\"\"\"\n",
    "DESCRIPTION = \"LocalizeSL-based relative sea level rise projections\""
   ]
  },
  {
   "cell_type": "code",
   "execution_count": null,
   "metadata": {},
   "outputs": [],
   "source": [
    "client = shared.start_dask_cluster(n_workers=N_WORKERS)\n",
    "client"
   ]
  },
  {
   "cell_type": "markdown",
   "metadata": {},
   "source": [
    "## Get lists of outputs"
   ]
  },
  {
   "cell_type": "code",
   "execution_count": 5,
   "metadata": {},
   "outputs": [
    {
     "name": "stdout",
     "output_type": "stream",
     "text": [
      "Corefile: SLRProjections190726core_SEJ_full -- 4192 site scenario files found, 2 global files found\n",
      "Corefile: SLRProjections170113GRIDDEDcore -- 6288 site scenario files found, 3 global files found\n",
      "Corefile: SLRProjections200204GRIDDEDcore_D20 -- 6288 site scenario files found, 3 global files found\n",
      "Corefile: SLRProjections210628GRIDDEDcore_SROCC -- 6288 site scenario files found, 3 global files found\n",
      "From all corefiles, 2096 baseline paths found\n"
     ]
    }
   ],
   "source": [
    "lsl_baseline_paths = dict()\n",
    "\n",
    "corefile_paths = dict()\n",
    "for corefile in shared.LOCALIZESL_COREFILES:\n",
    "    corefile_paths[corefile] = dict()\n",
    "    dir_tsv = shared.DIR_SCRATCH / \"mcs\" / corefile / \"mc_tsv\"\n",
    "\n",
    "    all_lsl_paths = list(dir_tsv.glob(\"LSL*.tsv\"))\n",
    "    all_gsl_paths = list(dir_tsv.glob(\"GSL*.tsv\"))\n",
    "\n",
    "    corefile_paths[corefile][\"lsl_scenario_paths\"] = [\n",
    "        p for p in all_lsl_paths if \"_rcp60\" not in p.stem and \"_baseline\" not in p.stem\n",
    "    ]\n",
    "\n",
    "    all_baseline_paths = [p for p in all_lsl_paths if \"_baseline\" in p.stem]\n",
    "    baseline_paths = {p.stem.split(\"_\")[-2]: p for p in all_baseline_paths}\n",
    "\n",
    "    for site_id in baseline_paths:\n",
    "        lsl_baseline_paths[site_id] = baseline_paths[site_id]\n",
    "\n",
    "    corefile_paths[corefile][\"lsl_baseline_paths\"] = [\n",
    "        p for p in all_lsl_paths if \"_baseline\" in p.stem\n",
    "    ]\n",
    "\n",
    "    corefile_paths[corefile][\"gsl_paths\"] = [\n",
    "        p for p in all_gsl_paths if \"_rcp60\" not in p.stem and \"_baseline\" not in p.stem\n",
    "    ]\n",
    "\n",
    "    print(\n",
    "        f\"Corefile: {corefile} -- {len(corefile_paths[corefile]['lsl_scenario_paths'])} site scenario \"\n",
    "        f\"files found, \"\n",
    "        f\"{len(corefile_paths[corefile]['gsl_paths'])} global files found\"\n",
    "    )\n",
    "\n",
    "lsl_baseline_paths = list(lsl_baseline_paths.values())\n",
    "print(f\"From all corefiles, {len(lsl_baseline_paths)} baseline paths found\")"
   ]
  },
  {
   "cell_type": "markdown",
   "metadata": {},
   "source": [
    "## Define functions to load and process TSVs"
   ]
  },
  {
   "cell_type": "code",
   "execution_count": 6,
   "metadata": {},
   "outputs": [],
   "source": [
    "def combine_site_tsvs_into_dataframe(paths, is_baseline=False):\n",
    "    \"\"\"Open TSVs that are outputs of `WriteTableMC`, a function in the LocalizeSL repository\"\"\"\n",
    "\n",
    "    dfs = []\n",
    "    for path in tqdm(paths):\n",
    "        df = pd.read_csv(\n",
    "            path,\n",
    "            sep=\"\\t\",\n",
    "            skiprows=2,\n",
    "            header=None,\n",
    "            names=[\"year\"] + [i for i in range(10000)],\n",
    "        )\n",
    "        rcp = path.stem.split(\"_\")[-1]\n",
    "        corefile = path.parent.parent.name\n",
    "        df.insert(0, \"scenario\", f\"{corefile}_{rcp}\")\n",
    "        df = df.dropna(subset=[0])\n",
    "        dfs.append(df)\n",
    "\n",
    "    df_info = pd.read_csv(paths[0], nrows=0).columns[0]\n",
    "    coords = (df_info.split(\" \")[0]).split(\"_\")[1:]\n",
    "    # GSL\n",
    "    if coords == []:\n",
    "        lon = np.nan\n",
    "        lat = np.nan\n",
    "    # LSL\n",
    "    else:\n",
    "        lat = float(coords[0])\n",
    "        lon = float(coords[1])\n",
    "    site_id = path.stem.split(\"_\")[-2]\n",
    "\n",
    "    out_df = pd.concat(dfs, ignore_index=True)\n",
    "\n",
    "    out_df = out_df.sort_values([\"scenario\", \"year\"])\n",
    "    out_df.columns.name = \"mc_sample_id\"\n",
    "\n",
    "    return out_df, site_id, lon, lat\n",
    "\n",
    "\n",
    "def df_to_da(combined, site_id, lon, lat):\n",
    "    # Move columns representing sample instances to possible values of a single column\n",
    "    flattened = combined.melt(id_vars=[\"scenario\", \"year\"], value_name=\"msl_msl00\")\n",
    "\n",
    "    # Some type-casting\n",
    "    flattened[\"year\"] = flattened[\"year\"].astype(np.uint16)\n",
    "\n",
    "    # Convert centimeters to meters\n",
    "    flattened[\"msl_msl00\"] = flattened[\"msl_msl00\"] / 100\n",
    "    flattened[\"msl_msl00\"] = flattened[\"msl_msl00\"].astype(np.float32)\n",
    "\n",
    "    # Set index as dimensions of destination xarray Dataset\n",
    "    flattened = flattened.set_index([\"scenario\", \"year\", \"mc_sample_id\"])\n",
    "\n",
    "    # Convert to DataArray\n",
    "    ds = flattened.to_xarray()\n",
    "\n",
    "    # add in coords\n",
    "    ds = ds.expand_dims({\"site_id\": [site_id]})\n",
    "    ds.coords[\"lon\"] = (\"site_id\", [lon])\n",
    "    ds.coords[\"lat\"] = (\"site_id\", [lat])\n",
    "\n",
    "    # make sure longitude is -180 to 180\n",
    "    ds[\"lon\"] = ds.lon.where(ds.lon <= 180, -360 + ds.lon)\n",
    "\n",
    "    # some type casting to minimize size\n",
    "    ds[\"year\"] = ds.year.astype(np.uint16)\n",
    "    ds[\"mc_sample_id\"] = ds.mc_sample_id.astype(np.uint16)\n",
    "\n",
    "    # convert to DataArray\n",
    "    da = ds.msl_msl00\n",
    "\n",
    "    return da\n",
    "\n",
    "\n",
    "def process_site(paths, is_baseline=False):\n",
    "    combined, site_id, lon, lat = combine_site_tsvs_into_dataframe(paths)\n",
    "    if is_baseline:\n",
    "        combined[\"scenario\"] = \"baseline\"\n",
    "\n",
    "    da_out = df_to_da(\n",
    "        combined,\n",
    "        site_id,\n",
    "        lon,\n",
    "        lat,\n",
    "    )\n",
    "    if is_baseline:\n",
    "        return da_out.squeeze(\"scenario\").drop(\"scenario\")\n",
    "    return da_out\n",
    "\n",
    "\n",
    "def get_groups_from_paths(paths):\n",
    "    # group jobs by site_id\n",
    "    site_ids = [p.stem.split(\"_\")[-2] for p in paths]\n",
    "    site_ser = pd.Series(paths, index=site_ids)\n",
    "    return site_ser.groupby(level=0).apply(list).to_list()\n",
    "\n",
    "\n",
    "def process_all_sites(corefile):\n",
    "    lsl_groups = get_groups_from_paths(corefile_paths[corefile][\"lsl_scenario_paths\"])\n",
    "\n",
    "    # submit jobs to return futures of dataarrays\n",
    "    gsl_fut = client.submit(process_site, corefile_paths[corefile][\"gsl_paths\"])\n",
    "    lsl_fut = client.map(process_site, lsl_groups)\n",
    "    return gsl_fut, lsl_fut"
   ]
  },
  {
   "cell_type": "markdown",
   "metadata": {},
   "source": [
    "## Process all files"
   ]
  },
  {
   "cell_type": "code",
   "execution_count": 7,
   "metadata": {},
   "outputs": [
    {
     "name": "stdout",
     "output_type": "stream",
     "text": [
      "SLRProjections190726core_SEJ_full\n",
      "SLRProjections170113GRIDDEDcore\n",
      "SLRProjections200204GRIDDEDcore_D20\n",
      "SLRProjections210628GRIDDEDcore_SROCC\n"
     ]
    }
   ],
   "source": [
    "sl_arrs = []\n",
    "for ix, corefile in enumerate(shared.LOCALIZESL_COREFILES.keys()):\n",
    "    print(corefile)\n",
    "\n",
    "    # process results\n",
    "    gsl_fut, lsl_fut = process_all_sites(corefile)\n",
    "\n",
    "    # gather arrays\n",
    "    gsl_arr = rhgx.dataarrays_from_delayed([gsl_fut], client=client)[0].squeeze(\n",
    "        drop=True\n",
    "    )\n",
    "    lsl_arr = rhgx.dataarray_from_delayed(lsl_fut, dim=\"site_id\", client=client).astype(\n",
    "        np.float32\n",
    "    )\n",
    "\n",
    "    # merge arrays\n",
    "    sl_arr = xr.Dataset(\n",
    "        {\n",
    "            \"lsl_msl00\": lsl_arr,\n",
    "            \"gsl_msl00\": gsl_arr,\n",
    "        }\n",
    "    ).persist()\n",
    "\n",
    "    sl_arrs.append(sl_arr)\n",
    "\n",
    "baseline_groups = get_groups_from_paths(lsl_baseline_paths)\n",
    "lsl_baseline_fut = client.map(process_site, baseline_groups, is_baseline=True)\n",
    "\n",
    "lsl_baseline_arr = rhgx.dataarray_from_delayed(\n",
    "    lsl_baseline_fut, dim=\"site_id\", client=client\n",
    ").astype(np.float32)\n",
    "\n",
    "lsl_baseline_arr = xr.Dataset(\n",
    "    {\n",
    "        \"lsl_ncc_msl00\": lsl_baseline_arr,\n",
    "    }\n",
    ").persist()"
   ]
  },
  {
   "cell_type": "code",
   "execution_count": null,
   "metadata": {},
   "outputs": [],
   "source": [
    "sl_arr = xr.merge((xr.concat(sl_arrs, \"scenario\"), lsl_baseline_arr))"
   ]
  },
  {
   "cell_type": "markdown",
   "metadata": {},
   "source": [
    "## Clean the outputs"
   ]
  },
  {
   "cell_type": "markdown",
   "metadata": {},
   "source": [
    "Clean using the following criteria:\n",
    "\n",
    "- Ignore RCP6 when creating groups of trajectories binned by GMSL (this occurs later in the binning notebook). This is missing for all sites post-2100 (since no CMIP5 models were run for the extended timeline using RCP6 and has fewer GCMs used than other scenarios for the pre-2100 years (since RCP6 was not a prioritized scenario).\n",
    "- Drop any sites that have <3 GCMs for any pre-2100 years.\n",
    "- Ignoring RCP6 (which has missing values for all sites after 2100), drop any sites that have null values for any post-2100 years (no sites have missing values outside of RCP6 for pre-2100 years)"
   ]
  },
  {
   "cell_type": "code",
   "execution_count": null,
   "metadata": {
    "local_metadata": {
     "tags": []
    },
    "remote_metadata": {}
   },
   "outputs": [],
   "source": [
    "n_gcms = shared.open_zarr(shared.PATH_SLR_AR5_N_GCMS, chunks=None).numGCMs.load()"
   ]
  },
  {
   "cell_type": "code",
   "execution_count": null,
   "metadata": {},
   "outputs": [],
   "source": [
    "# filter to only sites w/ >=3 gcms\n",
    "good_sites = (\n",
    "    n_gcms.sel(year=slice(None, 2090)).min(dim=[\"year\", \"scenario\"]) >= 3\n",
    ").values\n",
    "\n",
    "# filter to sites that have no missing values\n",
    "good_sites = (\n",
    "    good_sites\n",
    "    & sl_arr.lsl_msl00.notnull().all(dim=[\"mc_sample_id\", \"scenario\", \"year\"]).values\n",
    ")\n",
    "\n",
    "# execute filtering\n",
    "with dask.config.set(**{\"array.slicing.split_large_chunks\": False}):\n",
    "    sl_arr = sl_arr.isel(site_id=good_sites).persist()"
   ]
  },
  {
   "cell_type": "markdown",
   "metadata": {},
   "source": [
    "## Adjust to 2005 levels"
   ]
  },
  {
   "cell_type": "code",
   "execution_count": 39,
   "metadata": {},
   "outputs": [],
   "source": [
    "adj = (\n",
    "    shared.open_dataarray(shared.PATH_SLR_HIST_TREND_MAP).rename(\n",
    "        longitude=\"lon\", latitude=\"lat\"\n",
    "    )\n",
    "    * 5\n",
    "    / 1000\n",
    ")\n",
    "adj[\"lon\"] = adj.lon.where(adj.lon <= 180, adj.lon - 360)\n",
    "adj = adj.to_dataframe().dropna().reset_index()\n",
    "\n",
    "sites = sl_arr[[\"lon\", \"lat\"]].to_dataframe()\n",
    "vals = adj.loc[\n",
    "    spherical_nearest_neighbor(sites, adj.reset_index()).values, \"sea_level_trends\"\n",
    "]\n",
    "vals.index = pd.Index(sl_arr.site_id.values, name=\"site_id\")\n",
    "\n",
    "sl_arr[[\"lsl_msl00\", \"lsl_ncc_msl00\"]] -= vals.to_xarray()"
   ]
  },
  {
   "cell_type": "code",
   "execution_count": 40,
   "metadata": {},
   "outputs": [],
   "source": [
    "adj = shared.open_dataset(shared.PATH_SLR_GMSL_HIST_TIMESERIES).msl.to_series()\n",
    "sl_arr[\"gsl_msl00\"] -= adj.loc[\"1996\":\"2014\"].mean() - adj.loc[\"1991\":\"2009\"].mean()"
   ]
  },
  {
   "cell_type": "markdown",
   "metadata": {},
   "source": [
    "## Clean"
   ]
  },
  {
   "cell_type": "code",
   "execution_count": 41,
   "metadata": {},
   "outputs": [],
   "source": [
    "sl_arr = sl_arr.rename(\n",
    "    {\n",
    "        \"gsl_msl00\": \"gsl_msl05\",\n",
    "        \"lsl_msl00\": \"lsl_msl05\",\n",
    "        \"lsl_ncc_msl00\": \"lsl_ncc_msl05\",\n",
    "    }\n",
    ")\n",
    "\n",
    "# update attrs\n",
    "sl_arr.lsl_msl05.attrs.update(\n",
    "    {\n",
    "        \"long_name\": \"Estimated Future LMSL, MSL05\",\n",
    "        \"description\": (\n",
    "            \"Monte Carlo estimates of local mean sea level for a given RCP scenario \"\n",
    "            \"and year. Estimates are made on a sparse 2-degree coastal grid, and are \"\n",
    "            \"relative to MSL05 vertical datum.\"\n",
    "        ),\n",
    "        \"units\": \"m\",\n",
    "    }\n",
    ")\n",
    "\n",
    "sl_arr.gsl_msl05.attrs.update(\n",
    "    {\n",
    "        \"long_name\": \"Estimated Future GMSL, MSL05\",\n",
    "        \"description\": (\n",
    "            \"Monte Carlo estimates of global mean sea level for a given RCP scenario \"\n",
    "            \"and year. Estimates are relative to MSL05 vertical datum.\"\n",
    "        ),\n",
    "        \"units\": \"m\",\n",
    "    }\n",
    ")\n",
    "\n",
    "sl_arr.lsl_ncc_msl05.attrs.update(\n",
    "    {\n",
    "        \"long_name\": \"Counterfactual Future LMSL (no climate change), MSL05\",\n",
    "        \"description\": (\n",
    "            \"Monte Carlo estimates of local mean sea level in the no-climate change scenario \"\n",
    "            \"for each year. Estimates are made on a sparse 2-degree coastal grid, and are \"\n",
    "            \"relative to MSL05 vertical datum.\"\n",
    "        ),\n",
    "        \"units\": \"m\",\n",
    "    }\n",
    ")\n",
    "\n",
    "sl_arr.attrs.update(\n",
    "    {\n",
    "        \"author\": shared.AUTHOR,\n",
    "        \"contact\": shared.CONTACT,\n",
    "        \"description\": DESCRIPTION,\n",
    "        \"method\": METHOD,\n",
    "        \"updated\": pd.Timestamp.now(tz=\"US/Pacific\").strftime(\"%c\"),\n",
    "    }\n",
    ")"
   ]
  },
  {
   "cell_type": "markdown",
   "metadata": {
    "tags": []
   },
   "source": [
    "## Save"
   ]
  },
  {
   "cell_type": "code",
   "execution_count": 43,
   "metadata": {},
   "outputs": [],
   "source": [
    "# re-chunk\n",
    "sl_arr = sl_arr.chunk(\n",
    "    {\"scenario\": -1, \"site_id\": 100, \"year\": -1, \"mc_sample_id\": 100}\n",
    ").persist()"
   ]
  },
  {
   "cell_type": "code",
   "execution_count": 53,
   "metadata": {},
   "outputs": [],
   "source": [
    "shared.save(sl_arr, shared.PATH_SLR_AR5_FULL, mode=\"w\")"
   ]
  },
  {
   "cell_type": "code",
   "execution_count": null,
   "metadata": {},
   "outputs": [],
   "source": [
    "client.cluster.close(), client.close()"
   ]
  }
 ],
 "metadata": {
  "kernelspec": {
   "display_name": "Python 3 (ipykernel)",
   "language": "python",
   "name": "python3"
  },
  "language_info": {
   "codemirror_mode": {
    "name": "ipython",
    "version": 3
   },
   "file_extension": ".py",
   "mimetype": "text/x-python",
   "name": "python",
   "nbconvert_exporter": "python",
   "pygments_lexer": "ipython3",
   "version": "3.10.8"
  },
  "nbdime-conflicts": {
   "local_diff": [
    {
     "key": "widgets",
     "op": "add",
     "value": {
      "application/vnd.jupyter.widget-state+json": {
       "state": {},
       "version_major": 2,
       "version_minor": 0
      }
     }
    }
   ],
   "remote_diff": [
    {
     "key": "widgets",
     "op": "add",
     "value": {
      "application/vnd.jupyter.widget-state+json": {
       "state": {
        "0076aa049aaa4ca3903afa05d5dcf14a": {
         "model_module": "@jupyter-widgets/controls",
         "model_module_version": "1.5.0",
         "model_name": "ButtonStyleModel",
         "state": {}
        },
        "02384fe74f774f47b037d5863b7070b0": {
         "model_module": "@jupyter-widgets/controls",
         "model_module_version": "1.5.0",
         "model_name": "HTMLModel",
         "state": {
          "layout": "IPY_MODEL_58c2f7e60e9f44f2856ae5f917718d2e",
          "style": "IPY_MODEL_4fd8d719926648e384cf0302d416a20a",
          "value": "<p><b>Dashboard: </b><a href=\"/services/dask-gateway/clusters/daskhub-dev.33349d5e586245c7a57e585ee1cc92a6/status\" target=\"_blank\">/services/dask-gateway/clusters/daskhub-dev.33349d5e586245c7a57e585ee1cc92a6/status</a></p>\n"
         }
        },
        "072710f5a5d24788beadfe83105a204a": {
         "model_module": "@jupyter-widgets/controls",
         "model_module_version": "1.5.0",
         "model_name": "HBoxModel",
         "state": {
          "children": [
           "IPY_MODEL_d427b85661fc464c91e900374b75212d",
           "IPY_MODEL_f3c6a0285b4f4efd878d83e6f7c20aa8"
          ],
          "layout": "IPY_MODEL_f0b4ddf4acd34d6384fd885c57c6d5cc"
         }
        },
        "13555bcc815840b98f8f4f080b9c08da": {
         "model_module": "@jupyter-widgets/base",
         "model_module_version": "1.2.0",
         "model_name": "LayoutModel",
         "state": {}
        },
        "1f0a472b1af54581a3181bf915e7e902": {
         "model_module": "@jupyter-widgets/base",
         "model_module_version": "1.2.0",
         "model_name": "LayoutModel",
         "state": {}
        },
        "225d8927d3c649cf906e04e2149828f9": {
         "model_module": "@jupyter-widgets/controls",
         "model_module_version": "1.5.0",
         "model_name": "DescriptionStyleModel",
         "state": {
          "description_width": ""
         }
        },
        "2ca364e8531042f09f61623a058bd0c3": {
         "model_module": "@jupyter-widgets/base",
         "model_module_version": "1.2.0",
         "model_name": "LayoutModel",
         "state": {
          "width": "150px"
         }
        },
        "37616593ee214ce68284e2dedf4f74cb": {
         "model_module": "@jupyter-widgets/controls",
         "model_module_version": "1.5.0",
         "model_name": "DescriptionStyleModel",
         "state": {
          "description_width": ""
         }
        },
        "4faa28ce442d4531bb90012eb58cd01f": {
         "model_module": "@jupyter-widgets/controls",
         "model_module_version": "1.5.0",
         "model_name": "IntTextModel",
         "state": {
          "description": "Workers",
          "layout": "IPY_MODEL_2ca364e8531042f09f61623a058bd0c3",
          "step": 1,
          "style": "IPY_MODEL_225d8927d3c649cf906e04e2149828f9"
         }
        },
        "4fd8d719926648e384cf0302d416a20a": {
         "model_module": "@jupyter-widgets/controls",
         "model_module_version": "1.5.0",
         "model_name": "DescriptionStyleModel",
         "state": {
          "description_width": ""
         }
        },
        "50a09203816b48a7bbe5a6b4f82447cd": {
         "model_module": "@jupyter-widgets/controls",
         "model_module_version": "1.5.0",
         "model_name": "HTMLModel",
         "state": {
          "layout": "IPY_MODEL_7cb3b025ed42447f90ff87f2010fb123",
          "style": "IPY_MODEL_cdaa5671ba4d4f769291c596fc333fab",
          "value": "<h2>GatewayCluster</h2>"
         }
        },
        "54ac6e8841c04dcfb48d1d3f97b17697": {
         "model_module": "@jupyter-widgets/controls",
         "model_module_version": "1.5.0",
         "model_name": "DescriptionStyleModel",
         "state": {
          "description_width": ""
         }
        },
        "5548e78809424dd6b70acaf470126ffc": {
         "model_module": "@jupyter-widgets/controls",
         "model_module_version": "1.5.0",
         "model_name": "DescriptionStyleModel",
         "state": {
          "description_width": ""
         }
        },
        "556480de37274becb4f321d0210e50e4": {
         "model_module": "@jupyter-widgets/controls",
         "model_module_version": "1.5.0",
         "model_name": "DescriptionStyleModel",
         "state": {
          "description_width": ""
         }
        },
        "5790eb0bb5a54f86b731c9e433d5be4b": {
         "model_module": "@jupyter-widgets/controls",
         "model_module_version": "1.5.0",
         "model_name": "VBoxModel",
         "state": {
          "children": [
           "IPY_MODEL_50a09203816b48a7bbe5a6b4f82447cd",
           "IPY_MODEL_072710f5a5d24788beadfe83105a204a",
           "IPY_MODEL_dd9f0374151f4865b7ef19850ac556aa",
           "IPY_MODEL_02384fe74f774f47b037d5863b7070b0"
          ],
          "layout": "IPY_MODEL_1f0a472b1af54581a3181bf915e7e902"
         }
        },
        "589e0bff592c48389395393cf8e6b434": {
         "model_module": "@jupyter-widgets/controls",
         "model_module_version": "1.5.0",
         "model_name": "IntTextModel",
         "state": {
          "description": "Minimum",
          "layout": "IPY_MODEL_2ca364e8531042f09f61623a058bd0c3",
          "step": 1,
          "style": "IPY_MODEL_5548e78809424dd6b70acaf470126ffc"
         }
        },
        "58c2f7e60e9f44f2856ae5f917718d2e": {
         "model_module": "@jupyter-widgets/base",
         "model_module_version": "1.2.0",
         "model_name": "LayoutModel",
         "state": {}
        },
        "64dc4bde5b1243729f601307cb5551e7": {
         "model_module": "@jupyter-widgets/controls",
         "model_module_version": "1.5.0",
         "model_name": "IntTextModel",
         "state": {
          "description": "Maximum",
          "layout": "IPY_MODEL_2ca364e8531042f09f61623a058bd0c3",
          "step": 1,
          "style": "IPY_MODEL_556480de37274becb4f321d0210e50e4"
         }
        },
        "7cb3b025ed42447f90ff87f2010fb123": {
         "model_module": "@jupyter-widgets/base",
         "model_module_version": "1.2.0",
         "model_name": "LayoutModel",
         "state": {}
        },
        "8f09161fb4784fff940eface7043fde1": {
         "model_module": "@jupyter-widgets/controls",
         "model_module_version": "1.5.0",
         "model_name": "ButtonModel",
         "state": {
          "description": "Scale",
          "layout": "IPY_MODEL_2ca364e8531042f09f61623a058bd0c3",
          "style": "IPY_MODEL_de3bf99ec72b4844a92d67c3761abbb7"
         }
        },
        "99c63563f34a41d09d2d5d98a37e6db5": {
         "model_module": "@jupyter-widgets/base",
         "model_module_version": "1.2.0",
         "model_name": "LayoutModel",
         "state": {
          "min_width": "150px"
         }
        },
        "b8d10e468f144cfea362b385cf79cd7c": {
         "model_module": "@jupyter-widgets/controls",
         "model_module_version": "1.5.0",
         "model_name": "ButtonModel",
         "state": {
          "description": "Adapt",
          "layout": "IPY_MODEL_2ca364e8531042f09f61623a058bd0c3",
          "style": "IPY_MODEL_0076aa049aaa4ca3903afa05d5dcf14a"
         }
        },
        "bf5b337abe18402bb7b5915277677be8": {
         "model_module": "@jupyter-widgets/base",
         "model_module_version": "1.2.0",
         "model_name": "LayoutModel",
         "state": {}
        },
        "c1a7fb7e3ba04c21a20719278bb006fb": {
         "model_module": "@jupyter-widgets/base",
         "model_module_version": "1.2.0",
         "model_name": "LayoutModel",
         "state": {}
        },
        "cdaa5671ba4d4f769291c596fc333fab": {
         "model_module": "@jupyter-widgets/controls",
         "model_module_version": "1.5.0",
         "model_name": "DescriptionStyleModel",
         "state": {
          "description_width": ""
         }
        },
        "d1710681c40241cd9755dc88200f5149": {
         "model_module": "@jupyter-widgets/controls",
         "model_module_version": "1.5.0",
         "model_name": "HBoxModel",
         "state": {
          "children": [
           "IPY_MODEL_4faa28ce442d4531bb90012eb58cd01f",
           "IPY_MODEL_8f09161fb4784fff940eface7043fde1"
          ],
          "layout": "IPY_MODEL_bf5b337abe18402bb7b5915277677be8"
         }
        },
        "d427b85661fc464c91e900374b75212d": {
         "model_module": "@jupyter-widgets/controls",
         "model_module_version": "1.5.0",
         "model_name": "HTMLModel",
         "state": {
          "layout": "IPY_MODEL_99c63563f34a41d09d2d5d98a37e6db5",
          "style": "IPY_MODEL_54ac6e8841c04dcfb48d1d3f97b17697",
          "value": "\n<div>\n<style scoped>\n    .dataframe tbody tr th:only-of-type {\n        vertical-align: middle;\n    }\n\n    .dataframe tbody tr th {\n        vertical-align: top;\n    }\n\n    .dataframe thead th {\n        text-align: right;\n    }\n</style>\n<table style=\"text-align: right;\">\n    <tr><th>Workers</th> <td>140</td></tr>\n    <tr><th>Cores</th> <td>140</td></tr>\n    <tr><th>Memory</th> <td>910.00 GiB</td></tr>\n</table>\n</div>\n"
         }
        },
        "dd9f0374151f4865b7ef19850ac556aa": {
         "model_module": "@jupyter-widgets/controls",
         "model_module_version": "1.5.0",
         "model_name": "HTMLModel",
         "state": {
          "layout": "IPY_MODEL_c1a7fb7e3ba04c21a20719278bb006fb",
          "style": "IPY_MODEL_37616593ee214ce68284e2dedf4f74cb",
          "value": "<p><b>Name: </b>daskhub-dev.33349d5e586245c7a57e585ee1cc92a6</p>"
         }
        },
        "de3bf99ec72b4844a92d67c3761abbb7": {
         "model_module": "@jupyter-widgets/controls",
         "model_module_version": "1.5.0",
         "model_name": "ButtonStyleModel",
         "state": {}
        },
        "f0b4ddf4acd34d6384fd885c57c6d5cc": {
         "model_module": "@jupyter-widgets/base",
         "model_module_version": "1.2.0",
         "model_name": "LayoutModel",
         "state": {}
        },
        "f3c6a0285b4f4efd878d83e6f7c20aa8": {
         "model_module": "@jupyter-widgets/controls",
         "model_module_version": "1.5.0",
         "model_name": "AccordionModel",
         "state": {
          "_titles": {
           "0": "Manual Scaling",
           "1": "Adaptive Scaling"
          },
          "children": [
           "IPY_MODEL_d1710681c40241cd9755dc88200f5149",
           "IPY_MODEL_fdc9fde437bd4309b55f0fc168dce3a6"
          ],
          "layout": "IPY_MODEL_f53e6c2926114df0892b2318f23d62ec",
          "selected_index": null
         }
        },
        "f53e6c2926114df0892b2318f23d62ec": {
         "model_module": "@jupyter-widgets/base",
         "model_module_version": "1.2.0",
         "model_name": "LayoutModel",
         "state": {
          "min_width": "500px"
         }
        },
        "fdc9fde437bd4309b55f0fc168dce3a6": {
         "model_module": "@jupyter-widgets/controls",
         "model_module_version": "1.5.0",
         "model_name": "HBoxModel",
         "state": {
          "children": [
           "IPY_MODEL_589e0bff592c48389395393cf8e6b434",
           "IPY_MODEL_64dc4bde5b1243729f601307cb5551e7",
           "IPY_MODEL_b8d10e468f144cfea362b385cf79cd7c"
          ],
          "layout": "IPY_MODEL_13555bcc815840b98f8f4f080b9c08da"
         }
        }
       },
       "version_major": 2,
       "version_minor": 0
      }
     }
    }
   ]
  },
  "widgets": {
   "application/vnd.jupyter.widget-state+json": {
    "state": {},
    "version_major": 2,
    "version_minor": 0
   }
  }
 },
 "nbformat": 4,
 "nbformat_minor": 4
}
