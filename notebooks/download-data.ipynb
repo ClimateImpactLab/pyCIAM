{
 "cells": [
  {
   "cell_type": "markdown",
   "id": "318ec323-147b-42a9-874b-6835b06813bc",
   "metadata": {},
   "source": [
    "# Download necessary files"
   ]
  },
  {
   "cell_type": "markdown",
   "id": "9ad66ba5-1ea0-49d5-a860-bbb4963946ed",
   "metadata": {},
   "source": [
    "This notebook downloads files necessary to replicate the analysis in Depsky et al. 2022."
   ]
  },
  {
   "cell_type": "code",
   "execution_count": null,
   "id": "426928ba-2557-4f0b-b23d-58bec67b0690",
   "metadata": {},
   "outputs": [],
   "source": [
    "%load_ext autoreload\n",
    "%autoreload 2"
   ]
  },
  {
   "cell_type": "code",
   "execution_count": null,
   "id": "a9431a2c-9f54-493b-9cdb-1ea9421f1433",
   "metadata": {},
   "outputs": [],
   "source": [
    "import shutil\n",
    "import tarfile\n",
    "from io import BytesIO\n",
    "from pathlib import Path\n",
    "from tempfile import NamedTemporaryFile, TemporaryDirectory\n",
    "from zipfile import ZipFile\n",
    "\n",
    "import requests\n",
    "from cartopy.io import shapereader\n",
    "from shared import (\n",
    "    DIR_GADM,\n",
    "    FS,\n",
    "    PATH_BORDERS,\n",
    "    PATH_COASTLINES,\n",
    "    PATH_SLIIDERS_ECON,\n",
    "    PATH_SLIIDERS_SLR,\n",
    ")"
   ]
  },
  {
   "cell_type": "markdown",
   "id": "a17d55fb-d63b-4476-a209-391909e913e3",
   "metadata": {},
   "source": [
    "## Plotting shapefiles"
   ]
  },
  {
   "cell_type": "markdown",
   "id": "d284b787-cd6c-4193-a402-5614027d1506",
   "metadata": {},
   "source": [
    "These are necessary to run the [pyCIAM-results-figures.ipynb](./pyCIAM-results-figures.ipynb) notebook, but are not directly used in the model execution."
   ]
  },
  {
   "cell_type": "markdown",
   "id": "eca8f9f2-63f0-4c3c-b49e-8bc7cd50d0df",
   "metadata": {},
   "source": [
    "### Natural Earth Country Boundaries"
   ]
  },
  {
   "cell_type": "code",
   "execution_count": null,
   "id": "e470d031-aedf-4a3e-b4ba-ce7422b5b6d5",
   "metadata": {},
   "outputs": [],
   "source": [
    "def copy_to_dst(glob, dst):\n",
    "    for f in glob:\n",
    "        if not (dst / f.name).is_file():\n",
    "            shutil.copy(f, dst)"
   ]
  },
  {
   "cell_type": "code",
   "execution_count": null,
   "id": "b182039a-7173-4469-b239-4c761a36b35f",
   "metadata": {
    "tags": []
   },
   "outputs": [],
   "source": [
    "PATH_BORDERS.parent.mkdir(exist_ok=True, parents=True)\n",
    "PATH_COASTLINES.parent.mkdir(exist_ok=True, parents=True)\n",
    "fname_boundary = Path(\n",
    "    shapereader.natural_earth(\n",
    "        resolution=\"50m\", category=\"cultural\", name=\"admin_0_boundary_lines_land\"\n",
    "    )\n",
    ")\n",
    "fname_coastlines = Path(\n",
    "    shapereader.natural_earth(resolution=\"110m\", category=\"physical\", name=\"coastline\")\n",
    ")\n",
    "copy_to_dst(fname_boundary.parent.glob(fname_boundary.stem + \"*\"), PATH_BORDERS.parent)\n",
    "copy_to_dst(\n",
    "    fname_coastlines.parent.glob(fname_coastlines.stem + \"*\"), PATH_COASTLINES.parent\n",
    ")"
   ]
  },
  {
   "cell_type": "markdown",
   "id": "9ea37e0e-246d-4767-8020-7a46238926cb",
   "metadata": {},
   "source": [
    "### GADM"
   ]
  },
  {
   "cell_type": "code",
   "execution_count": null,
   "id": "3b57bdc3-5ec2-46ad-901e-8359719c3009",
   "metadata": {},
   "outputs": [],
   "source": [
    "DIR_GADM.mkdir(exist_ok=True, parents=True)\n",
    "\n",
    "with TemporaryDirectory() as tmpdir:\n",
    "    with ZipFile(\n",
    "        BytesIO(\n",
    "            requests.get(\n",
    "                \"https://biogeo.ucdavis.edu/data/gadm3.6/gadm36_levels_shp.zip\"\n",
    "            ).content\n",
    "        )\n",
    "    ) as zipfile:\n",
    "        zipfile.extractall(tmpdir)\n",
    "    for i in [0, 1]:\n",
    "        copy_to_dst(Path(tmpdir).glob(f\"gadm36_{i}*\"), DIR_GADM)"
   ]
  },
  {
   "cell_type": "markdown",
   "id": "02944b01-d2b4-4ae5-ad02-8f1f6e786a30",
   "metadata": {
    "tags": []
   },
   "source": [
    "## SLIIDERS"
   ]
  },
  {
   "cell_type": "markdown",
   "id": "07458368-1f6a-4155-9a85-07247b3be731",
   "metadata": {},
   "source": [
    "SLIIDERS-SLR is a large file (17 GB) so this may take awhile. Users may download these datasets [via GUI](https://zenodo.org/record/6426191#.YlRGPC-B1pQ) as an alternative option"
   ]
  },
  {
   "cell_type": "code",
   "execution_count": null,
   "id": "efbab9dd-f55b-4d1f-9a73-fc574d2690ef",
   "metadata": {},
   "outputs": [],
   "source": [
    "def download_sliiders(src, dst):\n",
    "    with NamedTemporaryFile() as tmpfile:\n",
    "        tmpfile.write(requests.get(src).content)\n",
    "        with TemporaryDirectory() as tmpdir:\n",
    "            with tarfile.open(tmpfile.name, \"r:gz\") as tar:\n",
    "                tar.extractall(tmpdir)\n",
    "            FS.upload(tmpdir, dst, recursive=True)"
   ]
  },
  {
   "cell_type": "code",
   "execution_count": null,
   "id": "417ff42d-af22-489c-a38b-cf98fa0b12a5",
   "metadata": {
    "tags": []
   },
   "outputs": [],
   "source": [
    "for kind, dst in [(\"econ\", PATH_SLIIDERS_ECON.root), (\"slr\", PATH_SLIIDERS_SLR.root)]:\n",
    "    download_sliiders(\n",
    "        f\"https://zenodo.org/record/6449231/files/sliiders-{kind}.zarr.tar.gz?download=1\",\n",
    "        dst,\n",
    "    )"
   ]
  }
 ],
 "metadata": {
  "kernelspec": {
   "display_name": "Python 3 (ipykernel)",
   "language": "python",
   "name": "python3"
  },
  "language_info": {
   "codemirror_mode": {
    "name": "ipython",
    "version": 3
   },
   "file_extension": ".py",
   "mimetype": "text/x-python",
   "name": "python",
   "nbconvert_exporter": "python",
   "pygments_lexer": "ipython3",
   "version": "3.9.10"
  },
  "widgets": {
   "application/vnd.jupyter.widget-state+json": {
    "state": {},
    "version_major": 2,
    "version_minor": 0
   }
  }
 },
 "nbformat": 4,
 "nbformat_minor": 5
}
