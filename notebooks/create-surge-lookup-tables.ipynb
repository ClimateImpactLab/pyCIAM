{
 "cells": [
  {
   "cell_type": "markdown",
   "id": "5468498c-bfaa-408b-ae36-841b16a69a3e",
   "metadata": {},
   "source": [
    "# Create pyCIAM Storm Costs Lookup Table"
   ]
  },
  {
   "cell_type": "markdown",
   "id": "f6bee218-9782-40bf-8772-d2288235d1b1",
   "metadata": {},
   "source": [
    "Calculating the storm costs in a CIAM model involves a numerical integration over both elevation and the quantiles of storm surge at each segment-ADM1 location. This is too computationally intensive to run for all seg-ADMs for each year for all SLR trajectories, especially when using pyCIAM to run a Monte Carlo analysis across tens of thousands of SLR trajectories. Instead, we build a lookup table indexed by seg-ADM, LSLR, adaptation type (retreat vs. protect), cost type (mortality vs. capital loss), and `rhdiff` (the difference between the retreat/protect height and lslr). This is similar to how it is treated in the original CIAM model except that:\n",
    "\n",
    "1. We use a lookup table rather than a parameterized exponential function of `rhdiff` and `lslr`\n",
    "2. We account for elevational heterogeneity in population and capital when evaluating our costs in retreat scenarios. The original CIAM included `lslr` in their exponential function only for the protect adaptation type, while for `noAdaptation` and `retreat`, the function was only of `rhdiff`."
   ]
  },
  {
   "cell_type": "code",
   "execution_count": 1,
   "id": "40be5461-d797-4522-940f-cee7ddec7a49",
   "metadata": {},
   "outputs": [],
   "source": [
    "%load_ext autoreload\n",
    "%autoreload 2"
   ]
  },
  {
   "cell_type": "markdown",
   "id": "8590679c-89af-4eb6-a105-752fbb51440a",
   "metadata": {},
   "source": [
    "## Setup"
   ]
  },
  {
   "cell_type": "code",
   "execution_count": 2,
   "id": "afd03880-8e46-4d81-867d-bfb6505ea788",
   "metadata": {},
   "outputs": [
    {
     "name": "stderr",
     "output_type": "stream",
     "text": [
      "/srv/conda/envs/notebook/lib/python3.9/site-packages/dask_gateway/client.py:21: FutureWarning: format_bytes is deprecated and will be removed in a future release. Please use dask.utils.format_bytes instead.\n",
      "  from distributed.utils import LoopRunner, format_bytes\n"
     ]
    }
   ],
   "source": [
    "import distributed as dd\n",
    "import pandas as pd\n",
    "from dask_gateway import Gateway\n",
    "from shared import (\n",
    "    PATH_PARAMS,\n",
    "    PATH_SLIIDERS_ECON,\n",
    "    PATH_SLIIDERS_ECON_SEG,\n",
    "    PATH_SLIIDERS_SLR_QUANTILES,\n",
    "    PATH_SURGE_LOOKUP,\n",
    "    PATH_SURGE_LOOKUP_SEG,\n",
    "    upload_pkg,\n",
    ")\n",
    "\n",
    "from pyCIAM.surge import damage_funcs\n",
    "from pyCIAM.surge.lookup import create_surge_lookup"
   ]
  },
  {
   "cell_type": "code",
   "execution_count": 3,
   "id": "47979c48-7fff-49b4-b445-ea6bf746fa37",
   "metadata": {},
   "outputs": [],
   "source": [
    "N_WORKERS = 700\n",
    "SEG_CHUNKSIZE = 4\n",
    "\n",
    "PARAMS = pd.read_json(PATH_PARAMS)[\"values\"]"
   ]
  },
  {
   "cell_type": "code",
   "execution_count": 4,
   "id": "6104bced",
   "metadata": {},
   "outputs": [],
   "source": [
    "DMF_I = getattr(damage_funcs, PARAMS.dmf + \"_i\")\n",
    "DDF_I = getattr(damage_funcs, PARAMS.ddf + \"_i\")"
   ]
  },
  {
   "cell_type": "code",
   "execution_count": 5,
   "id": "dbb04b4a-14b8-4403-ad33-88bfe71bd8fc",
   "metadata": {},
   "outputs": [
    {
     "data": {
      "application/vnd.jupyter.widget-view+json": {
       "model_id": "226e66c44837429288e35e3be9849539",
       "version_major": 2,
       "version_minor": 0
      },
      "text/plain": [
       "VBox(children=(HTML(value='<h2>GatewayCluster</h2>'), HBox(children=(HTML(value='\\n<div>\\n<style scoped>\\n    …"
      ]
     },
     "metadata": {},
     "output_type": "display_data"
    }
   ],
   "source": [
    "gateway = Gateway()\n",
    "cluster = gateway.new_cluster(\n",
    "    idle_timeout=3600,\n",
    "    profile=\"micro\",\n",
    "    env_items={\n",
    "        \"DASK_DISTRIBUTED__WORKER__MEMORY__TARGET\": \"0.95\",\n",
    "        \"DASK_DISTRIBUTED__WORKER__MEMORY__SPILL\": \"0.95\",\n",
    "        \"DASK_DISTRIBUTED__WORKER__MEMORY__PAUSE\": \"0.95\",\n",
    "        \"DASK_DISTRIBUTED__WORKER__MEMORY__TERMINATE\": \"0.99\",\n",
    "    },\n",
    ")\n",
    "client = cluster.get_client()\n",
    "cluster.scale(N_WORKERS)\n",
    "\n",
    "client.upload_file(\"shared.py\")\n",
    "upload_pkg(client, \"../pyCIAM\")\n",
    "\n",
    "cluster"
   ]
  },
  {
   "cell_type": "markdown",
   "id": "8cd85123-c954-41a4-9c50-13dbbbba8c97",
   "metadata": {},
   "source": [
    "## Run surge damage calculations for each combo"
   ]
  },
  {
   "cell_type": "code",
   "execution_count": 7,
   "id": "9f38b3fa-c329-428e-b331-96c45e7c6828",
   "metadata": {},
   "outputs": [],
   "source": [
    "client.wait_for_workers(N_WORKERS * 0.75)"
   ]
  },
  {
   "cell_type": "code",
   "execution_count": 21,
   "id": "1e823775-0d12-4e52-93d1-7e3586913e65",
   "metadata": {
    "tags": []
   },
   "outputs": [],
   "source": [
    "futs = create_surge_lookup(\n",
    "    PATH_SLIIDERS_ECON,\n",
    "    PATH_SLIIDERS_SLR_QUANTILES,\n",
    "    PATH_SURGE_LOOKUP,\n",
    "    \"seg_adm\",\n",
    "    PARAMS.at_start,\n",
    "    PARAMS.n_interp_pts_lslr,\n",
    "    PARAMS.n_interp_pts_rhdiff,\n",
    "    DDF_I,\n",
    "    DMF_I,\n",
    "    client=client,\n",
    "    client_kwargs={\"batch_size\": N_WORKERS},\n",
    "    force_overwrite=False,\n",
    "    dmf_kwargs={\"floodmortality\": PARAMS.floodmortality},\n",
    "    seg_chunksize=4,\n",
    ")"
   ]
  },
  {
   "cell_type": "code",
   "execution_count": 23,
   "id": "f2ab586e-e091-4ea9-9429-e411adcf400f",
   "metadata": {},
   "outputs": [],
   "source": [
    "futs_seg = create_surge_lookup(\n",
    "    PATH_SLIIDERS_ECON_SEG,\n",
    "    PATH_SLIIDERS_SLR_QUANTILES,\n",
    "    PATH_SURGE_LOOKUP_SEG,\n",
    "    \"seg\",\n",
    "    PARAMS.at_start,\n",
    "    PARAMS.n_interp_pts_lslr,\n",
    "    PARAMS.n_interp_pts_rhdiff,\n",
    "    DDF_I,\n",
    "    DMF_I,\n",
    "    client=client,\n",
    "    client_kwargs={\"batch_size\": N_WORKERS},\n",
    "    force_overwrite=True,\n",
    "    dmf_kwargs={\"floodmortality\": PARAMS.floodmortality},\n",
    "    seg_chunksize=4,\n",
    ")"
   ]
  },
  {
   "cell_type": "markdown",
   "id": "ab098b05-e797-43c2-94f5-59cdc13ee40e",
   "metadata": {},
   "source": [
    "## Close"
   ]
  },
  {
   "cell_type": "code",
   "execution_count": 32,
   "id": "f941a509-7035-4105-8b79-88a97e759737",
   "metadata": {},
   "outputs": [
    {
     "data": {
      "text/plain": [
       "(None, None)"
      ]
     },
     "execution_count": 32,
     "metadata": {},
     "output_type": "execute_result"
    }
   ],
   "source": [
    "# ensure completion and close cluster\n",
    "dd.wait(futs + futs_seg)\n",
    "cluster.close(), client.close()"
   ]
  }
 ],
 "metadata": {
  "kernelspec": {
   "display_name": "Python 3 (ipykernel)",
   "language": "python",
   "name": "python3"
  },
  "language_info": {
   "codemirror_mode": {
    "name": "ipython",
    "version": 3
   },
   "file_extension": ".py",
   "mimetype": "text/x-python",
   "name": "python",
   "nbconvert_exporter": "python",
   "pygments_lexer": "ipython3",
   "version": "3.9.10"
  },
  "widgets": {
   "application/vnd.jupyter.widget-state+json": {
    "state": {
     "0974f7424a6f432094585af89fe04ec1": {
      "model_module": "@jupyter-widgets/controls",
      "model_module_version": "1.5.0",
      "model_name": "ButtonStyleModel",
      "state": {}
     },
     "0d627554358d4994b46b10b97e313639": {
      "model_module": "@jupyter-widgets/controls",
      "model_module_version": "1.5.0",
      "model_name": "HTMLModel",
      "state": {
       "layout": "IPY_MODEL_266b793713c8437c8cd7b7cf9b085b22",
       "style": "IPY_MODEL_e13ade667f8c404e8f1fa23033e40649",
       "value": "<h2>GatewayCluster</h2>"
      }
     },
     "116816e616ae453d86c725625b7f303a": {
      "model_module": "@jupyter-widgets/base",
      "model_module_version": "1.2.0",
      "model_name": "LayoutModel",
      "state": {}
     },
     "13f19aa066df40dd8dc70bfbee02d387": {
      "model_module": "@jupyter-widgets/base",
      "model_module_version": "1.2.0",
      "model_name": "LayoutModel",
      "state": {
       "width": "150px"
      }
     },
     "189645bf356d4299b63365d44440f3de": {
      "model_module": "@jupyter-widgets/controls",
      "model_module_version": "1.5.0",
      "model_name": "DescriptionStyleModel",
      "state": {
       "description_width": ""
      }
     },
     "19daca61d1dd44de809691ae17621e7e": {
      "model_module": "@jupyter-widgets/base",
      "model_module_version": "1.2.0",
      "model_name": "LayoutModel",
      "state": {}
     },
     "20c9003c6e884abf86e5bdb858abafcc": {
      "model_module": "@jupyter-widgets/controls",
      "model_module_version": "1.5.0",
      "model_name": "ButtonModel",
      "state": {
       "description": "Scale",
       "layout": "IPY_MODEL_13f19aa066df40dd8dc70bfbee02d387",
       "style": "IPY_MODEL_0974f7424a6f432094585af89fe04ec1"
      }
     },
     "226e66c44837429288e35e3be9849539": {
      "model_module": "@jupyter-widgets/controls",
      "model_module_version": "1.5.0",
      "model_name": "VBoxModel",
      "state": {
       "children": [
        "IPY_MODEL_0d627554358d4994b46b10b97e313639",
        "IPY_MODEL_726572067e3d4fa398cef26197def26e",
        "IPY_MODEL_dd7c5fa0eaaa4bb38576c91ba07f7aee",
        "IPY_MODEL_986f98dbeb444337a246ecb79ac53447"
       ],
       "layout": "IPY_MODEL_eaf7c7fb02ec4a6c8e457d04eac38acd"
      }
     },
     "266b793713c8437c8cd7b7cf9b085b22": {
      "model_module": "@jupyter-widgets/base",
      "model_module_version": "1.2.0",
      "model_name": "LayoutModel",
      "state": {}
     },
     "33422ede36a74db197d05d67b2517106": {
      "model_module": "@jupyter-widgets/controls",
      "model_module_version": "1.5.0",
      "model_name": "HBoxModel",
      "state": {
       "children": [
        "IPY_MODEL_f32bf92a6b414b12aaeee8c91aa08eef",
        "IPY_MODEL_d2b70f5643574b5893c5eac3ad8739eb",
        "IPY_MODEL_c7efd0d70837406bb08e7a6da750b8d9"
       ],
       "layout": "IPY_MODEL_116816e616ae453d86c725625b7f303a"
      }
     },
     "385a551c01904dc9a2e27703f7cb74e0": {
      "model_module": "@jupyter-widgets/controls",
      "model_module_version": "1.5.0",
      "model_name": "DescriptionStyleModel",
      "state": {
       "description_width": ""
      }
     },
     "413ed53730d74caca4ff3fef5ebfc30d": {
      "model_module": "@jupyter-widgets/controls",
      "model_module_version": "1.5.0",
      "model_name": "DescriptionStyleModel",
      "state": {
       "description_width": ""
      }
     },
     "43b65afe1301455bba90b30ab7e55896": {
      "model_module": "@jupyter-widgets/base",
      "model_module_version": "1.2.0",
      "model_name": "LayoutModel",
      "state": {}
     },
     "726572067e3d4fa398cef26197def26e": {
      "model_module": "@jupyter-widgets/controls",
      "model_module_version": "1.5.0",
      "model_name": "HBoxModel",
      "state": {
       "children": [
        "IPY_MODEL_7ca8cb1559dd4227b16a46ae23b96746",
        "IPY_MODEL_e9709cd6d2b1435580f797d24522c6f8"
       ],
       "layout": "IPY_MODEL_9f636ad2b02744a584c39361ed235111"
      }
     },
     "7ca8cb1559dd4227b16a46ae23b96746": {
      "model_module": "@jupyter-widgets/controls",
      "model_module_version": "1.5.0",
      "model_name": "HTMLModel",
      "state": {
       "layout": "IPY_MODEL_cd3de96cc31c4b9b97230751905721e3",
       "style": "IPY_MODEL_f5980a551025439bb949ad99059cb72d",
       "value": "\n<div>\n<style scoped>\n    .dataframe tbody tr th:only-of-type {\n        vertical-align: middle;\n    }\n\n    .dataframe tbody tr th {\n        vertical-align: top;\n    }\n\n    .dataframe thead th {\n        text-align: right;\n    }\n</style>\n<table style=\"text-align: right;\">\n    <tr><th>Workers</th> <td>700</td></tr>\n    <tr><th>Cores</th> <td>700</td></tr>\n    <tr><th>Memory</th> <td>4.44 TiB</td></tr>\n</table>\n</div>\n"
      }
     },
     "89d1fb9aa6ad4bf2a1b461b1a87363e7": {
      "model_module": "@jupyter-widgets/base",
      "model_module_version": "1.2.0",
      "model_name": "LayoutModel",
      "state": {}
     },
     "8f964ccd24b74264a129d2e6b730c9d4": {
      "model_module": "@jupyter-widgets/controls",
      "model_module_version": "1.5.0",
      "model_name": "IntTextModel",
      "state": {
       "description": "Workers",
       "layout": "IPY_MODEL_13f19aa066df40dd8dc70bfbee02d387",
       "step": 1,
       "style": "IPY_MODEL_413ed53730d74caca4ff3fef5ebfc30d"
      }
     },
     "9029adcf46794eb6b87cf32430598167": {
      "model_module": "@jupyter-widgets/controls",
      "model_module_version": "1.5.0",
      "model_name": "DescriptionStyleModel",
      "state": {
       "description_width": ""
      }
     },
     "986f98dbeb444337a246ecb79ac53447": {
      "model_module": "@jupyter-widgets/controls",
      "model_module_version": "1.5.0",
      "model_name": "HTMLModel",
      "state": {
       "layout": "IPY_MODEL_89d1fb9aa6ad4bf2a1b461b1a87363e7",
       "style": "IPY_MODEL_385a551c01904dc9a2e27703f7cb74e0",
       "value": "<p><b>Dashboard: </b><a href=\"/services/dask-gateway/clusters/daskhub-dev.7f19c8fb539d407f995f10d17a8595c1/status\" target=\"_blank\">/services/dask-gateway/clusters/daskhub-dev.7f19c8fb539d407f995f10d17a8595c1/status</a></p>\n"
      }
     },
     "9f636ad2b02744a584c39361ed235111": {
      "model_module": "@jupyter-widgets/base",
      "model_module_version": "1.2.0",
      "model_name": "LayoutModel",
      "state": {}
     },
     "aded4fc401bf4a73a1ca6715f0ef8786": {
      "model_module": "@jupyter-widgets/base",
      "model_module_version": "1.2.0",
      "model_name": "LayoutModel",
      "state": {
       "min_width": "500px"
      }
     },
     "ba4d42c587b54dfcb948609ccc3128e6": {
      "model_module": "@jupyter-widgets/controls",
      "model_module_version": "1.5.0",
      "model_name": "ButtonStyleModel",
      "state": {}
     },
     "c7efd0d70837406bb08e7a6da750b8d9": {
      "model_module": "@jupyter-widgets/controls",
      "model_module_version": "1.5.0",
      "model_name": "ButtonModel",
      "state": {
       "description": "Adapt",
       "layout": "IPY_MODEL_13f19aa066df40dd8dc70bfbee02d387",
       "style": "IPY_MODEL_ba4d42c587b54dfcb948609ccc3128e6"
      }
     },
     "cd3de96cc31c4b9b97230751905721e3": {
      "model_module": "@jupyter-widgets/base",
      "model_module_version": "1.2.0",
      "model_name": "LayoutModel",
      "state": {
       "min_width": "150px"
      }
     },
     "d2b70f5643574b5893c5eac3ad8739eb": {
      "model_module": "@jupyter-widgets/controls",
      "model_module_version": "1.5.0",
      "model_name": "IntTextModel",
      "state": {
       "description": "Maximum",
       "layout": "IPY_MODEL_13f19aa066df40dd8dc70bfbee02d387",
       "step": 1,
       "style": "IPY_MODEL_fb645242a66b42e38496f6df9fb1c314"
      }
     },
     "dd7c5fa0eaaa4bb38576c91ba07f7aee": {
      "model_module": "@jupyter-widgets/controls",
      "model_module_version": "1.5.0",
      "model_name": "HTMLModel",
      "state": {
       "layout": "IPY_MODEL_43b65afe1301455bba90b30ab7e55896",
       "style": "IPY_MODEL_9029adcf46794eb6b87cf32430598167",
       "value": "<p><b>Name: </b>daskhub-dev.7f19c8fb539d407f995f10d17a8595c1</p>"
      }
     },
     "e13ade667f8c404e8f1fa23033e40649": {
      "model_module": "@jupyter-widgets/controls",
      "model_module_version": "1.5.0",
      "model_name": "DescriptionStyleModel",
      "state": {
       "description_width": ""
      }
     },
     "e9709cd6d2b1435580f797d24522c6f8": {
      "model_module": "@jupyter-widgets/controls",
      "model_module_version": "1.5.0",
      "model_name": "AccordionModel",
      "state": {
       "_titles": {
        "0": "Manual Scaling",
        "1": "Adaptive Scaling"
       },
       "children": [
        "IPY_MODEL_fb8fbc77feff4f548a346bc229fc349f",
        "IPY_MODEL_33422ede36a74db197d05d67b2517106"
       ],
       "layout": "IPY_MODEL_aded4fc401bf4a73a1ca6715f0ef8786",
       "selected_index": null
      }
     },
     "eaf7c7fb02ec4a6c8e457d04eac38acd": {
      "model_module": "@jupyter-widgets/base",
      "model_module_version": "1.2.0",
      "model_name": "LayoutModel",
      "state": {}
     },
     "f32bf92a6b414b12aaeee8c91aa08eef": {
      "model_module": "@jupyter-widgets/controls",
      "model_module_version": "1.5.0",
      "model_name": "IntTextModel",
      "state": {
       "description": "Minimum",
       "layout": "IPY_MODEL_13f19aa066df40dd8dc70bfbee02d387",
       "step": 1,
       "style": "IPY_MODEL_189645bf356d4299b63365d44440f3de"
      }
     },
     "f5980a551025439bb949ad99059cb72d": {
      "model_module": "@jupyter-widgets/controls",
      "model_module_version": "1.5.0",
      "model_name": "DescriptionStyleModel",
      "state": {
       "description_width": ""
      }
     },
     "fb645242a66b42e38496f6df9fb1c314": {
      "model_module": "@jupyter-widgets/controls",
      "model_module_version": "1.5.0",
      "model_name": "DescriptionStyleModel",
      "state": {
       "description_width": ""
      }
     },
     "fb8fbc77feff4f548a346bc229fc349f": {
      "model_module": "@jupyter-widgets/controls",
      "model_module_version": "1.5.0",
      "model_name": "HBoxModel",
      "state": {
       "children": [
        "IPY_MODEL_8f964ccd24b74264a129d2e6b730c9d4",
        "IPY_MODEL_20c9003c6e884abf86e5bdb858abafcc"
       ],
       "layout": "IPY_MODEL_19daca61d1dd44de809691ae17621e7e"
      }
     }
    },
    "version_major": 2,
    "version_minor": 0
   }
  }
 },
 "nbformat": 4,
 "nbformat_minor": 5
}
