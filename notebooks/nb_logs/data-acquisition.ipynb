{
 "cells": [
  {
   "cell_type": "markdown",
   "id": "318ec323-147b-42a9-874b-6835b06813bc",
   "metadata": {
    "papermill": {
     "duration": 0.005472,
     "end_time": "2023-03-18T17:54:40.503497",
     "exception": false,
     "start_time": "2023-03-18T17:54:40.498025",
     "status": "completed"
    },
    "tags": []
   },
   "source": [
    "# Download necessary files"
   ]
  },
  {
   "cell_type": "markdown",
   "id": "9ad66ba5-1ea0-49d5-a860-bbb4963946ed",
   "metadata": {
    "papermill": {
     "duration": 0.003465,
     "end_time": "2023-03-18T17:54:40.510490",
     "exception": false,
     "start_time": "2023-03-18T17:54:40.507025",
     "status": "completed"
    },
    "tags": []
   },
   "source": [
    "This notebook downloads files necessary to replicate the analysis in Depsky et al. 2023."
   ]
  },
  {
   "cell_type": "code",
   "execution_count": 1,
   "id": "65deea57-083b-4641-8b86-d03d8dcf57de",
   "metadata": {
    "execution": {
     "iopub.execute_input": "2023-03-18T17:54:40.518999Z",
     "iopub.status.busy": "2023-03-18T17:54:40.518414Z",
     "iopub.status.idle": "2023-03-18T17:54:40.526376Z",
     "shell.execute_reply": "2023-03-18T17:54:40.525722Z"
    },
    "papermill": {
     "duration": 0.014319,
     "end_time": "2023-03-18T17:54:40.528115",
     "exception": false,
     "start_time": "2023-03-18T17:54:40.513796",
     "status": "completed"
    },
    "tags": []
   },
   "outputs": [],
   "source": [
    "import sys\n",
    "\n",
    "sys.path.append(\"..\")"
   ]
  },
  {
   "cell_type": "code",
   "execution_count": 2,
   "id": "a9431a2c-9f54-493b-9cdb-1ea9421f1433",
   "metadata": {
    "execution": {
     "iopub.execute_input": "2023-03-18T17:54:40.536100Z",
     "iopub.status.busy": "2023-03-18T17:54:40.535614Z",
     "iopub.status.idle": "2023-03-18T17:54:46.306188Z",
     "shell.execute_reply": "2023-03-18T17:54:46.304827Z"
    },
    "papermill": {
     "duration": 5.778126,
     "end_time": "2023-03-18T17:54:46.309343",
     "exception": false,
     "start_time": "2023-03-18T17:54:40.531217",
     "status": "completed"
    },
    "tags": []
   },
   "outputs": [],
   "source": [
    "import tempfile\n",
    "from io import BytesIO\n",
    "from os import environ\n",
    "from pathlib import Path\n",
    "from zipfile import ZipFile\n",
    "\n",
    "import numpy as np\n",
    "import pandas as pd\n",
    "import requests\n",
    "from cartopy.io import shapereader\n",
    "from fsspec import FSTimeoutError\n",
    "from fsspec.implementations.zip import ZipFileSystem\n",
    "from shared import (\n",
    "    DIR_SHP,\n",
    "    DIR_SLR_AR5_IFILES_RAW,\n",
    "    DIR_SLR_AR6_RAW,\n",
    "    DIR_SLR_SWEET_RAW,\n",
    "    LOCALIZESL_COREFILES,\n",
    "    LOCALIZESL_REV,\n",
    "    PATH_BORDERS,\n",
    "    PATH_COASTLINES,\n",
    "    PATH_DIAZ_INPUTS_RAW,\n",
    "    PATH_GADM,\n",
    "    PATH_MOVEFACTOR_DATA,\n",
    "    PATH_PWT,\n",
    "    PATH_SLIIDERS,\n",
    "    PATH_SLIIDERS_INCOME_INTERMEDIATE_FILE,\n",
    "    PATH_SLR_AR5_QUANTILES,\n",
    "    PATH_SLR_GMSL_HIST_TIMESERIES,\n",
    "    PATH_SLR_HIST_TREND_MAP,\n",
    "    PATHS_SURGE_LOOKUP,\n",
    "    copy,\n",
    "    save,\n",
    ")"
   ]
  },
  {
   "cell_type": "code",
   "execution_count": 3,
   "id": "7e3d5ad1-a9e5-4b03-9dca-57b5b2098e4c",
   "metadata": {
    "execution": {
     "iopub.execute_input": "2023-03-18T17:54:46.321045Z",
     "iopub.status.busy": "2023-03-18T17:54:46.320747Z",
     "iopub.status.idle": "2023-03-18T17:54:46.327058Z",
     "shell.execute_reply": "2023-03-18T17:54:46.326219Z"
    },
    "papermill": {
     "duration": 0.013945,
     "end_time": "2023-03-18T17:54:46.329343",
     "exception": false,
     "start_time": "2023-03-18T17:54:46.315398",
     "status": "completed"
    },
    "tags": [
     "parameters"
    ]
   },
   "outputs": [],
   "source": [
    "Z_URL_BASE = \"https://zenodo.org/api/\"\n",
    "Z_URL_RECORDS = Z_URL_BASE + \"records/{doi}\"\n",
    "Z_URL_DEPOSITS = Z_URL_BASE + \"deposit/depositions/{doi}\"\n",
    "\n",
    "# This will need to point to the correct version of the SLIIDERS zenodo store (see\n",
    "# Depsky et al. 2023 for the version associated with that manuscript)\n",
    "Z_SLIIDERS_DOI = \"7693868\"\n",
    "Z_PYCIAM_DOI = \"7693869\"\n",
    "Z_AR6_DOI = \"6382554\"\n",
    "Z_SWEET_DOI = \"6067895\"\n",
    "\n",
    "\n",
    "DOWNLOAD_DIAZ_INPUTS = True\n",
    "DOWNLOAD_SLIIDERS = True\n",
    "DOWNLOAD_SURGE_LOOKUPS = True\n",
    "\n",
    "DOWNLOAD_PLOTTING_DATA = True\n",
    "\n",
    "DOWNLOAD_SLR_AR5 = True\n",
    "DOWNLOAD_SLR_AR6 = True\n",
    "DOWNLOAD_SLR_SWEET = True\n",
    "\n",
    "# Only needed if you would like to re-run LocalizeSL to re-generate AR5 SLR inputs\n",
    "# (requires matlab or octave). The output of this workflow, quantiled to the quantiles\n",
    "# we are working with in Depsky et al. 2023, is obtained with DOWNLOAD_SLR_AR5=True\n",
    "DOWNLOAD_LOCALIZESL_INPUTS = False\n",
    "\n",
    "# pre-release\n",
    "PARAMS = {\"access_token\": environ[\"ACCESS_TOKEN\"]}\n",
    "Z_URL_SLIIDERS_PC = Z_URL_DEPOSITS\n",
    "\n",
    "# post-release\n",
    "# PARAMS = {}\n",
    "# Z_URL = Z_URL_RECORDS"
   ]
  },
  {
   "cell_type": "code",
   "execution_count": 4,
   "id": "9da08e5c",
   "metadata": {
    "execution": {
     "iopub.execute_input": "2023-03-18T17:54:46.339901Z",
     "iopub.status.busy": "2023-03-18T17:54:46.339423Z",
     "iopub.status.idle": "2023-03-18T17:54:46.344658Z",
     "shell.execute_reply": "2023-03-18T17:54:46.343537Z"
    },
    "papermill": {
     "duration": 0.014813,
     "end_time": "2023-03-18T17:54:46.347267",
     "exception": false,
     "start_time": "2023-03-18T17:54:46.332454",
     "status": "completed"
    },
    "tags": [
     "injected-parameters"
    ]
   },
   "outputs": [],
   "source": [
    "# Parameters\n",
    "DOWNLOAD_DIAZ_INPUTS = False\n",
    "DOWNLOAD_PLOTTING_DATA = False\n",
    "DOWNLOAD_SLR_AR5 = False\n",
    "DOWNLOAD_SLR_SWEET = False\n"
   ]
  },
  {
   "cell_type": "code",
   "execution_count": 5,
   "id": "8d519f83-eb91-4cb0-b2e7-5918b91d5143",
   "metadata": {
    "execution": {
     "iopub.execute_input": "2023-03-18T17:54:46.358252Z",
     "iopub.status.busy": "2023-03-18T17:54:46.357736Z",
     "iopub.status.idle": "2023-03-18T17:54:46.368758Z",
     "shell.execute_reply": "2023-03-18T17:54:46.368099Z"
    },
    "papermill": {
     "duration": 0.021208,
     "end_time": "2023-03-18T17:54:46.371848",
     "exception": false,
     "start_time": "2023-03-18T17:54:46.350640",
     "status": "completed"
    },
    "tags": []
   },
   "outputs": [],
   "source": [
    "def get_download_link(files, prefix):\n",
    "    links = [\n",
    "        i[\"links\"]\n",
    "        for i in files\n",
    "        if i.get(\"filename\", \"\").startswith(prefix)\n",
    "        or i.get(\"key\", \"\").startswith(prefix)\n",
    "    ]\n",
    "    assert len(links) == 1\n",
    "    links = links[0]\n",
    "    return links.get(\"download\", links[\"self\"])\n",
    "\n",
    "\n",
    "def download_and_extract_full_zip(lpath, url):\n",
    "    if lpath.exists():\n",
    "        return None\n",
    "    lpath.parent.mkdir(exist_ok=True, parents=True)\n",
    "\n",
    "    content = BytesIO(requests.get(url, params=PARAMS).content)\n",
    "    if isinstance(lpath, Path):\n",
    "        with ZipFile(content, \"r\") as zip_ref:\n",
    "            zip_ref.extractall(lpath)\n",
    "    else:\n",
    "        with tempfile.TemporaryDirectory() as tmpdir:\n",
    "            with ZipFile(content, \"r\") as zip_ref:\n",
    "                zip_ref.extractall(tmpdir)\n",
    "            copy(Path(tmpdir), lpath)\n",
    "\n",
    "\n",
    "def download_and_extract_partial_zip(lpath, url, zip_glob, n_retries=5):\n",
    "    lpath.mkdir(exist_ok=True, parents=True)\n",
    "    z = ZipFileSystem(url)\n",
    "    if isinstance(zip_glob, (list, set, tuple, np.ndarray)):\n",
    "        files_remote = zip_glob\n",
    "    else:\n",
    "        files_remote = [p for p in z.glob(zip_glob) if not p.endswith(\"/\")]\n",
    "    files_local = [lpath / Path(f).name for f in files_remote]\n",
    "    for fr, fl in list(zip(files_remote, files_local)):\n",
    "        if not fl.is_file():\n",
    "            retries = 0\n",
    "            while retries < n_retries:\n",
    "                print(f\"...Downloading {fl.name} (attempt {retries+1}/{n_retries})\")\n",
    "                try:\n",
    "                    data = z.cat_file(fr)\n",
    "                    break\n",
    "                except FSTimeoutError:\n",
    "                    if retries < (n_retries - 1):\n",
    "                        retries += 1\n",
    "                    else:\n",
    "                        raise\n",
    "            print(f\"...Writing {fl.name}\")\n",
    "            fl.write_bytes(data)\n",
    "\n",
    "\n",
    "def download_and_extract_from_zenodo(lpath, files, prefix, zip_glob=None):\n",
    "    dl = get_download_link(files, prefix)\n",
    "    if zip_glob is None:\n",
    "        return download_and_extract_full_zip(lpath, dl)\n",
    "    else:\n",
    "        return download_and_extract_partial_zip(lpath, dl, zip_glob)"
   ]
  },
  {
   "cell_type": "code",
   "execution_count": 6,
   "id": "f8316f7d-38c6-4e9c-ac5a-78fa05418e61",
   "metadata": {
    "execution": {
     "iopub.execute_input": "2023-03-18T17:54:46.381941Z",
     "iopub.status.busy": "2023-03-18T17:54:46.381606Z",
     "iopub.status.idle": "2023-03-18T17:54:47.618657Z",
     "shell.execute_reply": "2023-03-18T17:54:47.618037Z"
    },
    "papermill": {
     "duration": 1.244416,
     "end_time": "2023-03-18T17:54:47.620641",
     "exception": false,
     "start_time": "2023-03-18T17:54:46.376225",
     "status": "completed"
    },
    "tags": []
   },
   "outputs": [],
   "source": [
    "pyciam_files = requests.get(\n",
    "    Z_URL_SLIIDERS_PC.format(doi=Z_PYCIAM_DOI), params=PARAMS\n",
    ").json()[\"files\"]"
   ]
  },
  {
   "cell_type": "markdown",
   "id": "a17d55fb-d63b-4476-a209-391909e913e3",
   "metadata": {
    "papermill": {
     "duration": 0.003511,
     "end_time": "2023-03-18T17:54:47.627688",
     "exception": false,
     "start_time": "2023-03-18T17:54:47.624177",
     "status": "completed"
    },
    "tags": []
   },
   "source": [
    "## Data for plotting and results calculation"
   ]
  },
  {
   "cell_type": "markdown",
   "id": "d284b787-cd6c-4193-a402-5614027d1506",
   "metadata": {
    "papermill": {
     "duration": 0.003615,
     "end_time": "2023-03-18T17:54:47.634459",
     "exception": false,
     "start_time": "2023-03-18T17:54:47.630844",
     "status": "completed"
    },
    "tags": []
   },
   "source": [
    "These are necessary to run the [pyCIAM-results-figures.ipynb](./pyCIAM-results-figures.ipynb) notebook, but are not directly used in the model execution."
   ]
  },
  {
   "cell_type": "markdown",
   "id": "eca8f9f2-63f0-4c3c-b49e-8bc7cd50d0df",
   "metadata": {
    "papermill": {
     "duration": 0.0039,
     "end_time": "2023-03-18T17:54:47.643326",
     "exception": false,
     "start_time": "2023-03-18T17:54:47.639426",
     "status": "completed"
    },
    "tags": []
   },
   "source": [
    "### Natural Earth Country Boundaries"
   ]
  },
  {
   "cell_type": "code",
   "execution_count": 7,
   "id": "b182039a-7173-4469-b239-4c761a36b35f",
   "metadata": {
    "execution": {
     "iopub.execute_input": "2023-03-18T17:54:47.652889Z",
     "iopub.status.busy": "2023-03-18T17:54:47.652514Z",
     "iopub.status.idle": "2023-03-18T17:54:47.659947Z",
     "shell.execute_reply": "2023-03-18T17:54:47.658615Z"
    },
    "papermill": {
     "duration": 0.015929,
     "end_time": "2023-03-18T17:54:47.662907",
     "exception": false,
     "start_time": "2023-03-18T17:54:47.646978",
     "status": "completed"
    },
    "tags": []
   },
   "outputs": [],
   "source": [
    "if DOWNLOAD_PLOTTING_DATA:\n",
    "    DIR_SHP.mkdir(exist_ok=True, parents=True)\n",
    "    # Natural Earth coastline data\n",
    "    if not PATH_BORDERS.is_file():\n",
    "        print(\"Downloading Natural Earth borders data...\")\n",
    "        fname_boundary = Path(\n",
    "            shapereader.natural_earth(\n",
    "                resolution=\"10m\",\n",
    "                category=\"cultural\",\n",
    "                name=\"admin_0_boundary_lines_land\",\n",
    "            )\n",
    "        )\n",
    "        copy(fname_boundary.parent, PATH_BORDERS.parent)\n",
    "\n",
    "    if not PATH_COASTLINES.is_file():\n",
    "        print(\"Downloading Natural Earth coastlines data...\")\n",
    "        fname_coastlines = Path(\n",
    "            shapereader.natural_earth(\n",
    "                resolution=\"10m\", category=\"physical\", name=\"coastline\"\n",
    "            )\n",
    "        )\n",
    "        copy(fname_coastlines.parent, PATH_COASTLINES.parent)\n",
    "\n",
    "    # GADM\n",
    "    print(\"Downloading GADM data...\")\n",
    "    if not PATH_GADM.is_file():\n",
    "        GADM_NAME = PATH_GADM.stem\n",
    "        download_and_extract_partial_zip(\n",
    "            PATH_GADM.parent,\n",
    "            f\"https://geodata.ucdavis.edu/gadm/gadm4.1/{GADM_NAME}.zip\",\n",
    "            f\"{GADM_NAME}.gpkg\",\n",
    "        )\n",
    "\n",
    "    # Penn World Table\n",
    "    print(\"Downloading PWT data...\")\n",
    "    if not PATH_PWT.is_file():\n",
    "        save(\n",
    "            pd.read_excel(\"https://www.rug.nl/ggdc/docs/pwt100.xlsx\", sheet_name=2),\n",
    "            PATH_PWT,\n",
    "        )\n",
    "\n",
    "    # SLIIDERS intermediate output used for normalizing costs by GDP for presentation in\n",
    "    # Depsky et al. 2023\n",
    "    print(\"Downloading SLIIDERS intermediate file...\")\n",
    "    download_and_extract_from_zenodo(\n",
    "        PATH_SLIIDERS_INCOME_INTERMEDIATE_FILE, pyciam_files, \"inputs/ypk_\"\n",
    "    )\n",
    "\n",
    "    # Output of the non-market relocation cost analysis in Depsky et al. 2023\n",
    "    print(\"Downloading movefactor analysis outputs...\")\n",
    "    download_and_extract_from_zenodo(\n",
    "        PATH_MOVEFACTOR_DATA, pyciam_files, \"products/suboptimal\"\n",
    "    )"
   ]
  },
  {
   "cell_type": "markdown",
   "id": "02944b01-d2b4-4ae5-ad02-8f1f6e786a30",
   "metadata": {
    "papermill": {
     "duration": 0.00403,
     "end_time": "2023-03-18T17:54:47.671523",
     "exception": false,
     "start_time": "2023-03-18T17:54:47.667493",
     "status": "completed"
    },
    "tags": []
   },
   "source": [
    "## SLIIDERS"
   ]
  },
  {
   "cell_type": "code",
   "execution_count": 8,
   "id": "cd36a5b5-147e-4185-bfab-ead1ab385a17",
   "metadata": {
    "execution": {
     "iopub.execute_input": "2023-03-18T17:54:47.679764Z",
     "iopub.status.busy": "2023-03-18T17:54:47.679486Z",
     "iopub.status.idle": "2023-03-18T17:54:54.296185Z",
     "shell.execute_reply": "2023-03-18T17:54:54.295401Z"
    },
    "papermill": {
     "duration": 6.624184,
     "end_time": "2023-03-18T17:54:54.299808",
     "exception": false,
     "start_time": "2023-03-18T17:54:47.675624",
     "status": "completed"
    },
    "tags": []
   },
   "outputs": [
    {
     "name": "stdout",
     "output_type": "stream",
     "text": [
      "Downloading SLIIDERS...\n"
     ]
    }
   ],
   "source": [
    "if DOWNLOAD_SLIIDERS:\n",
    "    print(\"Downloading SLIIDERS...\")\n",
    "    sliiders_files = requests.get(\n",
    "        Z_URL_SLIIDERS_PC.format(doi=Z_SLIIDERS_DOI), params=PARAMS\n",
    "    ).json()[\"files\"]\n",
    "    download_and_extract_from_zenodo(\n",
    "        PATH_SLIIDERS, sliiders_files, \"products/sliiders-v\"\n",
    "    )"
   ]
  },
  {
   "cell_type": "markdown",
   "id": "801f1d20-1cc5-40a9-83e4-c292ac9cba9b",
   "metadata": {
    "papermill": {
     "duration": 0.006263,
     "end_time": "2023-03-18T17:54:54.314316",
     "exception": false,
     "start_time": "2023-03-18T17:54:54.308053",
     "status": "completed"
    },
    "tags": []
   },
   "source": [
    "## Diaz 2016 inputs"
   ]
  },
  {
   "cell_type": "code",
   "execution_count": 9,
   "id": "ac24be38-f3a5-4f79-9090-9fbe89c90ff8",
   "metadata": {
    "execution": {
     "iopub.execute_input": "2023-03-18T17:54:54.324869Z",
     "iopub.status.busy": "2023-03-18T17:54:54.324595Z",
     "iopub.status.idle": "2023-03-18T17:54:54.328185Z",
     "shell.execute_reply": "2023-03-18T17:54:54.327432Z"
    },
    "papermill": {
     "duration": 0.010481,
     "end_time": "2023-03-18T17:54:54.330108",
     "exception": false,
     "start_time": "2023-03-18T17:54:54.319627",
     "status": "completed"
    },
    "tags": []
   },
   "outputs": [],
   "source": [
    "if DOWNLOAD_DIAZ_INPUTS:\n",
    "    print(\"Downloading Diaz 2016 inputs...\")\n",
    "    download_and_extract_from_zenodo(\n",
    "        PATH_DIAZ_INPUTS_RAW, pyciam_files, \"inputs/diaz2016_inputs\"\n",
    "    )"
   ]
  },
  {
   "cell_type": "markdown",
   "id": "36028871-9be6-4f68-9fe8-b99da2c09c21",
   "metadata": {
    "papermill": {
     "duration": 0.003478,
     "end_time": "2023-03-18T17:54:54.337903",
     "exception": false,
     "start_time": "2023-03-18T17:54:54.334425",
     "status": "completed"
    },
    "tags": []
   },
   "source": [
    "## SLR Inputs"
   ]
  },
  {
   "cell_type": "code",
   "execution_count": 10,
   "id": "003f01c4-0851-4c2c-8359-fc1f2d715527",
   "metadata": {
    "execution": {
     "iopub.execute_input": "2023-03-18T17:54:54.350722Z",
     "iopub.status.busy": "2023-03-18T17:54:54.350126Z",
     "iopub.status.idle": "2023-03-18T17:55:07.601403Z",
     "shell.execute_reply": "2023-03-18T17:55:07.600074Z"
    },
    "papermill": {
     "duration": 13.261547,
     "end_time": "2023-03-18T17:55:07.604171",
     "exception": false,
     "start_time": "2023-03-18T17:54:54.342624",
     "status": "completed"
    },
    "tags": []
   },
   "outputs": [
    {
     "name": "stdout",
     "output_type": "stream",
     "text": [
      "Downloading AR6 SLR projections: total, global...\n"
     ]
    },
    {
     "name": "stdout",
     "output_type": "stream",
     "text": [
      "Downloading AR6 SLR projections: total, regional...\n"
     ]
    },
    {
     "name": "stdout",
     "output_type": "stream",
     "text": [
      "Downloading AR6 SLR projections: verticallandmotion, regional...\n"
     ]
    }
   ],
   "source": [
    "if DOWNLOAD_SLR_AR5:\n",
    "    print(\"Downloading LocalizeSL pre-computed quantiles...\")\n",
    "    download_and_extract_from_zenodo(\n",
    "        PATH_SLR_AR5_QUANTILES, pyciam_files, \"inputs/ar5-msl\"\n",
    "    )\n",
    "\n",
    "if DOWNLOAD_SLR_SWEET:\n",
    "    print(\"Downloading SLR projections from Sweet 2022...\")\n",
    "    sweet_files = requests.get(\n",
    "        Z_URL_RECORDS.format(doi=Z_SWEET_DOI), params=PARAMS\n",
    "    ).json()[\"files\"]\n",
    "    download_and_extract_from_zenodo(\n",
    "        DIR_SLR_SWEET_RAW,\n",
    "        sweet_files,\n",
    "        \"Interagency_Report.zip\",\n",
    "        zip_glob=[\n",
    "            \"Results/TR_global_projections.nc\",\n",
    "            \"Results/TR_gridded_projections.nc\",\n",
    "            \"Results/TR_local_projections.nc\",\n",
    "        ],\n",
    "    )\n",
    "\n",
    "if DOWNLOAD_SLR_AR6:\n",
    "    ar6_files = requests.get(Z_URL_RECORDS.format(doi=Z_AR6_DOI), params=PARAMS).json()[\n",
    "        \"files\"\n",
    "    ]\n",
    "\n",
    "    # get total SLR\n",
    "    for scope, name in [(\"global\", \"ar6\"), (\"regional\", \"ar6-regional-confidence\")]:\n",
    "        print(f\"Downloading AR6 SLR projections: total, {scope}...\")\n",
    "        download_and_extract_from_zenodo(\n",
    "            DIR_SLR_AR6_RAW / scope,\n",
    "            ar6_files,\n",
    "            f\"{name}.zip\",\n",
    "            zip_glob=(\n",
    "                f\"{name}/{scope}/confidence_output_files/**/ssp*/total_*values.nc\"\n",
    "            ),\n",
    "        )\n",
    "\n",
    "    # get only the contribution of vertical land motion\n",
    "    print(\"Downloading AR6 SLR projections: verticallandmotion, regional...\")\n",
    "    download_and_extract_from_zenodo(\n",
    "        DIR_SLR_AR6_RAW / \"regional\",\n",
    "        ar6_files,\n",
    "        \"ar6-regional-confidence.zip\",\n",
    "        zip_glob=(\n",
    "            \"ar6-regional-confidence/regional/confidence_output_files/**/ssp*/\"\n",
    "            \"verticallandmotion_*values.nc\"\n",
    "        ),\n",
    "    )\n",
    "\n",
    "if DOWNLOAD_SLR_AR5 or DOWNLOAD_SLR_SWEET:\n",
    "    # must also add some historical trends to convert from 2000 to 2005 MSL datum\n",
    "    BASE_URL = \"https://data.aviso.altimetry.fr/aviso-gateway/data/indicators/msl/\"\n",
    "    print(\"Downloading map of historical SLR...\")\n",
    "    with PATH_SLR_HIST_TREND_MAP.open(\"wb\") as f:\n",
    "        f.write(\n",
    "            requests.get(\n",
    "                BASE_URL + \"MSL_Map_MERGED_Global_AVISO_NoGIA_Adjust.nc\"\n",
    "            ).content\n",
    "        )\n",
    "    print(\"Downloading historical GMSL timeseries...\")\n",
    "    with PATH_SLR_GMSL_HIST_TIMESERIES.open(\"wb\") as f:\n",
    "        f.write(\n",
    "            requests.get(\n",
    "                BASE_URL + \"MSL_Serie_MERGED_Global_AVISO_GIA_Adjust_Filter2m.nc\"\n",
    "            ).content\n",
    "        )"
   ]
  },
  {
   "cell_type": "markdown",
   "id": "81125eca-4add-4d40-a93f-f2b18bac4265",
   "metadata": {
    "papermill": {
     "duration": 0.005941,
     "end_time": "2023-03-18T17:55:07.616846",
     "exception": false,
     "start_time": "2023-03-18T17:55:07.610905",
     "status": "completed"
    },
    "tags": []
   },
   "source": [
    "## Storm Surge Lookup Tables"
   ]
  },
  {
   "cell_type": "code",
   "execution_count": 11,
   "id": "cb8f902f-6fb8-4ed0-95b3-fa5c6899212a",
   "metadata": {
    "execution": {
     "iopub.execute_input": "2023-03-18T17:55:07.626859Z",
     "iopub.status.busy": "2023-03-18T17:55:07.625791Z",
     "iopub.status.idle": "2023-03-18T17:55:07.632952Z",
     "shell.execute_reply": "2023-03-18T17:55:07.632023Z"
    },
    "papermill": {
     "duration": 0.015756,
     "end_time": "2023-03-18T17:55:07.635976",
     "exception": false,
     "start_time": "2023-03-18T17:55:07.620220",
     "status": "completed"
    },
    "tags": []
   },
   "outputs": [
    {
     "name": "stdout",
     "output_type": "stream",
     "text": [
      "Downloading segment-level storm surge lookup...\n",
      "Downloading segment/admin unit-level storm surge lookup...\n"
     ]
    }
   ],
   "source": [
    "if DOWNLOAD_SURGE_LOOKUPS:\n",
    "    print(\"Downloading segment-level storm surge lookup...\")\n",
    "    download_and_extract_from_zenodo(\n",
    "        PATHS_SURGE_LOOKUP[\"seg\"], pyciam_files, \"inputs/surge-lookup-v1.1-seg.\"\n",
    "    )\n",
    "\n",
    "    print(\"Downloading segment/admin unit-level storm surge lookup...\")\n",
    "    download_and_extract_from_zenodo(\n",
    "        PATHS_SURGE_LOOKUP[\"seg_adm\"], pyciam_files, \"inputs/surge-lookup-v1.1-seg_adm\"\n",
    "    )"
   ]
  },
  {
   "cell_type": "markdown",
   "id": "8213ae2d-ebcd-414d-a1cc-8c8f828898a2",
   "metadata": {
    "papermill": {
     "duration": 0.004512,
     "end_time": "2023-03-18T17:55:07.646979",
     "exception": false,
     "start_time": "2023-03-18T17:55:07.642467",
     "status": "completed"
    },
    "tags": []
   },
   "source": [
    "## LocalizeSL Inputs"
   ]
  },
  {
   "cell_type": "code",
   "execution_count": 12,
   "id": "1aa31c42-72c5-406c-acaa-51a9e4fb8330",
   "metadata": {
    "execution": {
     "iopub.execute_input": "2023-03-18T17:55:07.657449Z",
     "iopub.status.busy": "2023-03-18T17:55:07.656922Z",
     "iopub.status.idle": "2023-03-18T17:55:07.662453Z",
     "shell.execute_reply": "2023-03-18T17:55:07.661508Z"
    },
    "papermill": {
     "duration": 0.01451,
     "end_time": "2023-03-18T17:55:07.665630",
     "exception": false,
     "start_time": "2023-03-18T17:55:07.651120",
     "status": "completed"
    },
    "tags": []
   },
   "outputs": [],
   "source": [
    "if DOWNLOAD_LOCALIZESL_INPUTS:\n",
    "    DIR_SLR_AR5_IFILES_RAW.mkdir(exist_ok=True, parents=True)\n",
    "\n",
    "    for corefile_name in LOCALIZESL_COREFILES:\n",
    "        print(f\"Downloading LocalizeSL corefile: {corefile_name}...\")\n",
    "        url = (\n",
    "            f\"https://github.com/bobkopp/LocalizeSL/raw/{LOCALIZESL_REV}/IFILES/\"\n",
    "            f\"{corefile_name}.mat\"\n",
    "        )\n",
    "\n",
    "        filename = Path(url).name\n",
    "        with (DIR_SLR_AR5_IFILES_RAW / filename).open(\"wb\") as f:\n",
    "            f.write(requests.get(url).content)"
   ]
  }
 ],
 "metadata": {
  "kernelspec": {
   "display_name": "Python 3 (ipykernel)",
   "language": "python",
   "name": "python3"
  },
  "language_info": {
   "codemirror_mode": {
    "name": "ipython",
    "version": 3
   },
   "file_extension": ".py",
   "mimetype": "text/x-python",
   "name": "python",
   "nbconvert_exporter": "python",
   "pygments_lexer": "ipython3",
   "version": "3.10.8"
  },
  "papermill": {
   "default_parameters": {},
   "duration": 30.105493,
   "end_time": "2023-03-18T17:55:08.394744",
   "environment_variables": {},
   "exception": null,
   "input_path": "data-acquisition.ipynb",
   "output_path": "/Users/ianbolliger/git-repos/pyciam/notebooks/nb_logs/data-acquisition.ipynb",
   "parameters": {
    "DOWNLOAD_DIAZ_INPUTS": false,
    "DOWNLOAD_PLOTTING_DATA": false,
    "DOWNLOAD_SLR_AR5": false,
    "DOWNLOAD_SLR_SWEET": false
   },
   "start_time": "2023-03-18T17:54:38.289251",
   "version": "2.3.4"
  },
  "widgets": {
   "application/vnd.jupyter.widget-state+json": {
    "state": {},
    "version_major": 2,
    "version_minor": 0
   }
  }
 },
 "nbformat": 4,
 "nbformat_minor": 5
}