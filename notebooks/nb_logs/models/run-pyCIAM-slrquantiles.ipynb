{
 "cells": [
  {
   "cell_type": "markdown",
   "id": "599be0db",
   "metadata": {
    "tags": [
     "papermill-error-cell-tag"
    ]
   },
   "source": [
    "<span style=\"color:red; font-family:Helvetica Neue, Helvetica, Arial, sans-serif; font-size:2em;\">An Exception was encountered at '<a href=\"#papermill-error-cell\">In [8]</a>'.</span>"
   ]
  },
  {
   "cell_type": "markdown",
   "id": "dd1a1833",
   "metadata": {
    "papermill": {
     "duration": 0.004601,
     "end_time": "2023-03-18T18:54:53.486914",
     "exception": false,
     "start_time": "2023-03-18T18:54:53.482313",
     "status": "completed"
    },
    "tags": []
   },
   "source": [
    "# Run pyCIAM"
   ]
  },
  {
   "cell_type": "code",
   "execution_count": 1,
   "id": "afe5a3f4",
   "metadata": {
    "execution": {
     "iopub.execute_input": "2023-03-18T18:54:53.494139Z",
     "iopub.status.busy": "2023-03-18T18:54:53.493791Z",
     "iopub.status.idle": "2023-03-18T18:54:53.542895Z",
     "shell.execute_reply": "2023-03-18T18:54:53.541576Z"
    },
    "papermill": {
     "duration": 0.054907,
     "end_time": "2023-03-18T18:54:53.544933",
     "exception": false,
     "start_time": "2023-03-18T18:54:53.490026",
     "status": "completed"
    },
    "tags": []
   },
   "outputs": [],
   "source": [
    "%load_ext autoreload\n",
    "%autoreload 2"
   ]
  },
  {
   "cell_type": "code",
   "execution_count": 2,
   "id": "b453691b",
   "metadata": {
    "execution": {
     "iopub.execute_input": "2023-03-18T18:54:53.550070Z",
     "iopub.status.busy": "2023-03-18T18:54:53.549804Z",
     "iopub.status.idle": "2023-03-18T18:54:53.578776Z",
     "shell.execute_reply": "2023-03-18T18:54:53.577562Z"
    },
    "papermill": {
     "duration": 0.03463,
     "end_time": "2023-03-18T18:54:53.581235",
     "exception": false,
     "start_time": "2023-03-18T18:54:53.546605",
     "status": "completed"
    },
    "tags": []
   },
   "outputs": [],
   "source": [
    "import sys\n",
    "\n",
    "sys.path.append(\"../\")"
   ]
  },
  {
   "cell_type": "code",
   "execution_count": 3,
   "id": "9de3f153",
   "metadata": {
    "execution": {
     "iopub.execute_input": "2023-03-18T18:54:53.586560Z",
     "iopub.status.busy": "2023-03-18T18:54:53.586254Z",
     "iopub.status.idle": "2023-03-18T18:54:59.054330Z",
     "shell.execute_reply": "2023-03-18T18:54:59.053259Z"
    },
    "papermill": {
     "duration": 5.473305,
     "end_time": "2023-03-18T18:54:59.056343",
     "exception": false,
     "start_time": "2023-03-18T18:54:53.583038",
     "status": "completed"
    },
    "tags": []
   },
   "outputs": [],
   "source": [
    "from shared import (\n",
    "    AUTHOR,\n",
    "    CONTACT,\n",
    "    DIR_SCRATCH,\n",
    "    HISTORY,\n",
    "    PATH_OUTPUTS,\n",
    "    PATH_PARAMS,\n",
    "    PATH_REFA,\n",
    "    PATH_SLIIDERS,\n",
    "    PATH_SLIIDERS_SEG,\n",
    "    PATH_SLR_AR5_QUANTILES,\n",
    "    PATH_SLR_AR6,\n",
    "    PATH_SLR_SWEET,\n",
    "    PATHS_SURGE_LOOKUP,\n",
    "    QUANTILES,\n",
    "    STORAGE_OPTIONS,\n",
    "    start_dask_cluster,\n",
    ")\n",
    "\n",
    "from pyCIAM.run import execute_pyciam"
   ]
  },
  {
   "cell_type": "code",
   "execution_count": 4,
   "id": "d79d43eb",
   "metadata": {
    "execution": {
     "iopub.execute_input": "2023-03-18T18:54:59.062032Z",
     "iopub.status.busy": "2023-03-18T18:54:59.061705Z",
     "iopub.status.idle": "2023-03-18T18:54:59.150795Z",
     "shell.execute_reply": "2023-03-18T18:54:59.149953Z"
    },
    "papermill": {
     "duration": 0.094777,
     "end_time": "2023-03-18T18:54:59.153014",
     "exception": false,
     "start_time": "2023-03-18T18:54:59.058237",
     "status": "completed"
    },
    "tags": [
     "parameters"
    ]
   },
   "outputs": [],
   "source": [
    "AR6_ONLY = False\n",
    "\n",
    "TMPPATH = DIR_SCRATCH / \"pyCIAM_results_quantiles_prechunked.zarr\"\n",
    "\n",
    "# When running on larger/scalable dask cluster, may wish to specify number of workers\n",
    "# Default is LocalCluster which will use the number of CPUs available on local machine\n",
    "N_WORKERS = None\n",
    "# N_WORKERS = 400\n",
    "\n",
    "SEG_CHUNKSIZE = 3\n",
    "\n",
    "SEG_ADM_SUBSET = None\n",
    "\n",
    "DESCRIPTION = \"Projected coastal damages from pyCIAM, using quantiles of SLR scenarios.\""
   ]
  },
  {
   "cell_type": "code",
   "execution_count": 5,
   "id": "37c1db3e",
   "metadata": {
    "execution": {
     "iopub.execute_input": "2023-03-18T18:54:59.158182Z",
     "iopub.status.busy": "2023-03-18T18:54:59.157912Z",
     "iopub.status.idle": "2023-03-18T18:54:59.233333Z",
     "shell.execute_reply": "2023-03-18T18:54:59.232469Z"
    },
    "papermill": {
     "duration": 0.080435,
     "end_time": "2023-03-18T18:54:59.235474",
     "exception": false,
     "start_time": "2023-03-18T18:54:59.155039",
     "status": "completed"
    },
    "tags": [
     "injected-parameters"
    ]
   },
   "outputs": [],
   "source": [
    "# Parameters\n",
    "SEG_ADM_SUBSET = \"USA\"\n",
    "AR6_ONLY = True\n"
   ]
  },
  {
   "cell_type": "code",
   "execution_count": 6,
   "id": "14d971d4",
   "metadata": {
    "execution": {
     "iopub.execute_input": "2023-03-18T18:54:59.240759Z",
     "iopub.status.busy": "2023-03-18T18:54:59.240512Z",
     "iopub.status.idle": "2023-03-18T18:54:59.309476Z",
     "shell.execute_reply": "2023-03-18T18:54:59.308128Z"
    },
    "papermill": {
     "duration": 0.073799,
     "end_time": "2023-03-18T18:54:59.311697",
     "exception": false,
     "start_time": "2023-03-18T18:54:59.237898",
     "status": "completed"
    },
    "tags": []
   },
   "outputs": [],
   "source": [
    "if AR6_ONLY:\n",
    "    all_slr_ds = [PATH_SLR_AR6]\n",
    "    all_slr_name = [\"ar6\"]\n",
    "else:\n",
    "    all_slr_ds = [PATH_SLR_AR6, PATH_SLR_AR5_QUANTILES, PATH_SLR_SWEET]\n",
    "    all_slr_name = [\"ar6\", \"ar5\", \"sweet\"]"
   ]
  },
  {
   "cell_type": "code",
   "execution_count": 7,
   "id": "a335007b",
   "metadata": {
    "execution": {
     "iopub.execute_input": "2023-03-18T18:54:59.319671Z",
     "iopub.status.busy": "2023-03-18T18:54:59.319208Z",
     "iopub.status.idle": "2023-03-18T18:55:00.739913Z",
     "shell.execute_reply": "2023-03-18T18:55:00.739189Z"
    },
    "papermill": {
     "duration": 1.427179,
     "end_time": "2023-03-18T18:55:00.741458",
     "exception": false,
     "start_time": "2023-03-18T18:54:59.314279",
     "status": "completed"
    },
    "tags": []
   },
   "outputs": [
    {
     "name": "stderr",
     "output_type": "stream",
     "text": [
      "2023-03-18 10:55:00,183 - distributed.diskutils - INFO - Found stale lock file and directory '/var/folders/gd/x7gb9lc133n_cyv3j7hxdbtw0000gn/T/dask-worker-space/worker-40j2yirt', purging\n",
      "2023-03-18 10:55:00,184 - distributed.diskutils - INFO - Found stale lock file and directory '/var/folders/gd/x7gb9lc133n_cyv3j7hxdbtw0000gn/T/dask-worker-space/worker-zwwhucw9', purging\n",
      "2023-03-18 10:55:00,185 - distributed.diskutils - INFO - Found stale lock file and directory '/var/folders/gd/x7gb9lc133n_cyv3j7hxdbtw0000gn/T/dask-worker-space/worker-j0voo667', purging\n",
      "2023-03-18 10:55:00,186 - distributed.diskutils - INFO - Found stale lock file and directory '/var/folders/gd/x7gb9lc133n_cyv3j7hxdbtw0000gn/T/dask-worker-space/worker-cuvipm83', purging\n"
     ]
    },
    {
     "name": "stdout",
     "output_type": "stream",
     "text": [
      "http://127.0.0.1:8787/status\n"
     ]
    },
    {
     "data": {
      "text/html": [
       "<div>\n",
       "    <div style=\"width: 24px; height: 24px; background-color: #e1e1e1; border: 3px solid #9D9D9D; border-radius: 5px; position: absolute;\"> </div>\n",
       "    <div style=\"margin-left: 48px;\">\n",
       "        <h3 style=\"margin-bottom: 0px;\">Client</h3>\n",
       "        <p style=\"color: #9D9D9D; margin-bottom: 0px;\">Client-61d1397a-c5be-11ed-b171-3e22fbeee13a</p>\n",
       "        <table style=\"width: 100%; text-align: left;\">\n",
       "\n",
       "        <tr>\n",
       "        \n",
       "            <td style=\"text-align: left;\"><strong>Connection method:</strong> Cluster object</td>\n",
       "            <td style=\"text-align: left;\"><strong>Cluster type:</strong> distributed.LocalCluster</td>\n",
       "        \n",
       "        </tr>\n",
       "\n",
       "        \n",
       "            <tr>\n",
       "                <td style=\"text-align: left;\">\n",
       "                    <strong>Dashboard: </strong> <a href=\"http://127.0.0.1:8787/status\" target=\"_blank\">http://127.0.0.1:8787/status</a>\n",
       "                </td>\n",
       "                <td style=\"text-align: left;\"></td>\n",
       "            </tr>\n",
       "        \n",
       "\n",
       "        </table>\n",
       "\n",
       "        \n",
       "\n",
       "        \n",
       "            <details>\n",
       "            <summary style=\"margin-bottom: 20px;\"><h3 style=\"display: inline;\">Cluster Info</h3></summary>\n",
       "            <div class=\"jp-RenderedHTMLCommon jp-RenderedHTML jp-mod-trusted jp-OutputArea-output\">\n",
       "    <div style=\"width: 24px; height: 24px; background-color: #e1e1e1; border: 3px solid #9D9D9D; border-radius: 5px; position: absolute;\">\n",
       "    </div>\n",
       "    <div style=\"margin-left: 48px;\">\n",
       "        <h3 style=\"margin-bottom: 0px; margin-top: 0px;\">LocalCluster</h3>\n",
       "        <p style=\"color: #9D9D9D; margin-bottom: 0px;\">cbc7fb30</p>\n",
       "        <table style=\"width: 100%; text-align: left;\">\n",
       "            <tr>\n",
       "                <td style=\"text-align: left;\">\n",
       "                    <strong>Dashboard:</strong> <a href=\"http://127.0.0.1:8787/status\" target=\"_blank\">http://127.0.0.1:8787/status</a>\n",
       "                </td>\n",
       "                <td style=\"text-align: left;\">\n",
       "                    <strong>Workers:</strong> 4\n",
       "                </td>\n",
       "            </tr>\n",
       "            <tr>\n",
       "                <td style=\"text-align: left;\">\n",
       "                    <strong>Total threads:</strong> 8\n",
       "                </td>\n",
       "                <td style=\"text-align: left;\">\n",
       "                    <strong>Total memory:</strong> 16.00 GiB\n",
       "                </td>\n",
       "            </tr>\n",
       "            \n",
       "            <tr>\n",
       "    <td style=\"text-align: left;\"><strong>Status:</strong> running</td>\n",
       "    <td style=\"text-align: left;\"><strong>Using processes:</strong> True</td>\n",
       "</tr>\n",
       "\n",
       "            \n",
       "        </table>\n",
       "\n",
       "        <details>\n",
       "            <summary style=\"margin-bottom: 20px;\">\n",
       "                <h3 style=\"display: inline;\">Scheduler Info</h3>\n",
       "            </summary>\n",
       "\n",
       "            <div style=\"\">\n",
       "    <div>\n",
       "        <div style=\"width: 24px; height: 24px; background-color: #FFF7E5; border: 3px solid #FF6132; border-radius: 5px; position: absolute;\"> </div>\n",
       "        <div style=\"margin-left: 48px;\">\n",
       "            <h3 style=\"margin-bottom: 0px;\">Scheduler</h3>\n",
       "            <p style=\"color: #9D9D9D; margin-bottom: 0px;\">Scheduler-cf49ceb4-6342-4fd5-b2cb-3aca42523ecf</p>\n",
       "            <table style=\"width: 100%; text-align: left;\">\n",
       "                <tr>\n",
       "                    <td style=\"text-align: left;\">\n",
       "                        <strong>Comm:</strong> tcp://127.0.0.1:61497\n",
       "                    </td>\n",
       "                    <td style=\"text-align: left;\">\n",
       "                        <strong>Workers:</strong> 4\n",
       "                    </td>\n",
       "                </tr>\n",
       "                <tr>\n",
       "                    <td style=\"text-align: left;\">\n",
       "                        <strong>Dashboard:</strong> <a href=\"http://127.0.0.1:8787/status\" target=\"_blank\">http://127.0.0.1:8787/status</a>\n",
       "                    </td>\n",
       "                    <td style=\"text-align: left;\">\n",
       "                        <strong>Total threads:</strong> 8\n",
       "                    </td>\n",
       "                </tr>\n",
       "                <tr>\n",
       "                    <td style=\"text-align: left;\">\n",
       "                        <strong>Started:</strong> Just now\n",
       "                    </td>\n",
       "                    <td style=\"text-align: left;\">\n",
       "                        <strong>Total memory:</strong> 16.00 GiB\n",
       "                    </td>\n",
       "                </tr>\n",
       "            </table>\n",
       "        </div>\n",
       "    </div>\n",
       "\n",
       "    <details style=\"margin-left: 48px;\">\n",
       "        <summary style=\"margin-bottom: 20px;\">\n",
       "            <h3 style=\"display: inline;\">Workers</h3>\n",
       "        </summary>\n",
       "\n",
       "        \n",
       "        <div style=\"margin-bottom: 20px;\">\n",
       "            <div style=\"width: 24px; height: 24px; background-color: #DBF5FF; border: 3px solid #4CC9FF; border-radius: 5px; position: absolute;\"> </div>\n",
       "            <div style=\"margin-left: 48px;\">\n",
       "            <details>\n",
       "                <summary>\n",
       "                    <h4 style=\"margin-bottom: 0px; display: inline;\">Worker: 0</h4>\n",
       "                </summary>\n",
       "                <table style=\"width: 100%; text-align: left;\">\n",
       "                    <tr>\n",
       "                        <td style=\"text-align: left;\">\n",
       "                            <strong>Comm: </strong> tcp://127.0.0.1:61509\n",
       "                        </td>\n",
       "                        <td style=\"text-align: left;\">\n",
       "                            <strong>Total threads: </strong> 2\n",
       "                        </td>\n",
       "                    </tr>\n",
       "                    <tr>\n",
       "                        <td style=\"text-align: left;\">\n",
       "                            <strong>Dashboard: </strong> <a href=\"http://127.0.0.1:61513/status\" target=\"_blank\">http://127.0.0.1:61513/status</a>\n",
       "                        </td>\n",
       "                        <td style=\"text-align: left;\">\n",
       "                            <strong>Memory: </strong> 4.00 GiB\n",
       "                        </td>\n",
       "                    </tr>\n",
       "                    <tr>\n",
       "                        <td style=\"text-align: left;\">\n",
       "                            <strong>Nanny: </strong> tcp://127.0.0.1:61500\n",
       "                        </td>\n",
       "                        <td style=\"text-align: left;\"></td>\n",
       "                    </tr>\n",
       "                    <tr>\n",
       "                        <td colspan=\"2\" style=\"text-align: left;\">\n",
       "                            <strong>Local directory: </strong> /var/folders/gd/x7gb9lc133n_cyv3j7hxdbtw0000gn/T/dask-worker-space/worker-1waizhpu\n",
       "                        </td>\n",
       "                    </tr>\n",
       "\n",
       "                    \n",
       "\n",
       "                    \n",
       "\n",
       "                </table>\n",
       "            </details>\n",
       "            </div>\n",
       "        </div>\n",
       "        \n",
       "        <div style=\"margin-bottom: 20px;\">\n",
       "            <div style=\"width: 24px; height: 24px; background-color: #DBF5FF; border: 3px solid #4CC9FF; border-radius: 5px; position: absolute;\"> </div>\n",
       "            <div style=\"margin-left: 48px;\">\n",
       "            <details>\n",
       "                <summary>\n",
       "                    <h4 style=\"margin-bottom: 0px; display: inline;\">Worker: 1</h4>\n",
       "                </summary>\n",
       "                <table style=\"width: 100%; text-align: left;\">\n",
       "                    <tr>\n",
       "                        <td style=\"text-align: left;\">\n",
       "                            <strong>Comm: </strong> tcp://127.0.0.1:61508\n",
       "                        </td>\n",
       "                        <td style=\"text-align: left;\">\n",
       "                            <strong>Total threads: </strong> 2\n",
       "                        </td>\n",
       "                    </tr>\n",
       "                    <tr>\n",
       "                        <td style=\"text-align: left;\">\n",
       "                            <strong>Dashboard: </strong> <a href=\"http://127.0.0.1:61510/status\" target=\"_blank\">http://127.0.0.1:61510/status</a>\n",
       "                        </td>\n",
       "                        <td style=\"text-align: left;\">\n",
       "                            <strong>Memory: </strong> 4.00 GiB\n",
       "                        </td>\n",
       "                    </tr>\n",
       "                    <tr>\n",
       "                        <td style=\"text-align: left;\">\n",
       "                            <strong>Nanny: </strong> tcp://127.0.0.1:61501\n",
       "                        </td>\n",
       "                        <td style=\"text-align: left;\"></td>\n",
       "                    </tr>\n",
       "                    <tr>\n",
       "                        <td colspan=\"2\" style=\"text-align: left;\">\n",
       "                            <strong>Local directory: </strong> /var/folders/gd/x7gb9lc133n_cyv3j7hxdbtw0000gn/T/dask-worker-space/worker-ogx9js29\n",
       "                        </td>\n",
       "                    </tr>\n",
       "\n",
       "                    \n",
       "\n",
       "                    \n",
       "\n",
       "                </table>\n",
       "            </details>\n",
       "            </div>\n",
       "        </div>\n",
       "        \n",
       "        <div style=\"margin-bottom: 20px;\">\n",
       "            <div style=\"width: 24px; height: 24px; background-color: #DBF5FF; border: 3px solid #4CC9FF; border-radius: 5px; position: absolute;\"> </div>\n",
       "            <div style=\"margin-left: 48px;\">\n",
       "            <details>\n",
       "                <summary>\n",
       "                    <h4 style=\"margin-bottom: 0px; display: inline;\">Worker: 2</h4>\n",
       "                </summary>\n",
       "                <table style=\"width: 100%; text-align: left;\">\n",
       "                    <tr>\n",
       "                        <td style=\"text-align: left;\">\n",
       "                            <strong>Comm: </strong> tcp://127.0.0.1:61512\n",
       "                        </td>\n",
       "                        <td style=\"text-align: left;\">\n",
       "                            <strong>Total threads: </strong> 2\n",
       "                        </td>\n",
       "                    </tr>\n",
       "                    <tr>\n",
       "                        <td style=\"text-align: left;\">\n",
       "                            <strong>Dashboard: </strong> <a href=\"http://127.0.0.1:61516/status\" target=\"_blank\">http://127.0.0.1:61516/status</a>\n",
       "                        </td>\n",
       "                        <td style=\"text-align: left;\">\n",
       "                            <strong>Memory: </strong> 4.00 GiB\n",
       "                        </td>\n",
       "                    </tr>\n",
       "                    <tr>\n",
       "                        <td style=\"text-align: left;\">\n",
       "                            <strong>Nanny: </strong> tcp://127.0.0.1:61502\n",
       "                        </td>\n",
       "                        <td style=\"text-align: left;\"></td>\n",
       "                    </tr>\n",
       "                    <tr>\n",
       "                        <td colspan=\"2\" style=\"text-align: left;\">\n",
       "                            <strong>Local directory: </strong> /var/folders/gd/x7gb9lc133n_cyv3j7hxdbtw0000gn/T/dask-worker-space/worker-d7kcfgr0\n",
       "                        </td>\n",
       "                    </tr>\n",
       "\n",
       "                    \n",
       "\n",
       "                    \n",
       "\n",
       "                </table>\n",
       "            </details>\n",
       "            </div>\n",
       "        </div>\n",
       "        \n",
       "        <div style=\"margin-bottom: 20px;\">\n",
       "            <div style=\"width: 24px; height: 24px; background-color: #DBF5FF; border: 3px solid #4CC9FF; border-radius: 5px; position: absolute;\"> </div>\n",
       "            <div style=\"margin-left: 48px;\">\n",
       "            <details>\n",
       "                <summary>\n",
       "                    <h4 style=\"margin-bottom: 0px; display: inline;\">Worker: 3</h4>\n",
       "                </summary>\n",
       "                <table style=\"width: 100%; text-align: left;\">\n",
       "                    <tr>\n",
       "                        <td style=\"text-align: left;\">\n",
       "                            <strong>Comm: </strong> tcp://127.0.0.1:61515\n",
       "                        </td>\n",
       "                        <td style=\"text-align: left;\">\n",
       "                            <strong>Total threads: </strong> 2\n",
       "                        </td>\n",
       "                    </tr>\n",
       "                    <tr>\n",
       "                        <td style=\"text-align: left;\">\n",
       "                            <strong>Dashboard: </strong> <a href=\"http://127.0.0.1:61518/status\" target=\"_blank\">http://127.0.0.1:61518/status</a>\n",
       "                        </td>\n",
       "                        <td style=\"text-align: left;\">\n",
       "                            <strong>Memory: </strong> 4.00 GiB\n",
       "                        </td>\n",
       "                    </tr>\n",
       "                    <tr>\n",
       "                        <td style=\"text-align: left;\">\n",
       "                            <strong>Nanny: </strong> tcp://127.0.0.1:61503\n",
       "                        </td>\n",
       "                        <td style=\"text-align: left;\"></td>\n",
       "                    </tr>\n",
       "                    <tr>\n",
       "                        <td colspan=\"2\" style=\"text-align: left;\">\n",
       "                            <strong>Local directory: </strong> /var/folders/gd/x7gb9lc133n_cyv3j7hxdbtw0000gn/T/dask-worker-space/worker-n51fiq3t\n",
       "                        </td>\n",
       "                    </tr>\n",
       "\n",
       "                    \n",
       "\n",
       "                    \n",
       "\n",
       "                </table>\n",
       "            </details>\n",
       "            </div>\n",
       "        </div>\n",
       "        \n",
       "\n",
       "    </details>\n",
       "</div>\n",
       "\n",
       "        </details>\n",
       "    </div>\n",
       "</div>\n",
       "            </details>\n",
       "        \n",
       "\n",
       "    </div>\n",
       "</div>"
      ],
      "text/plain": [
       "<Client: 'tcp://127.0.0.1:61497' processes=4 threads=8, memory=16.00 GiB>"
      ]
     },
     "execution_count": 7,
     "metadata": {},
     "output_type": "execute_result"
    }
   ],
   "source": [
    "client = start_dask_cluster(\n",
    "    n_workers=N_WORKERS,\n",
    ")\n",
    "client"
   ]
  },
  {
   "cell_type": "markdown",
   "id": "80a0b8eb",
   "metadata": {
    "tags": [
     "papermill-error-cell-tag"
    ]
   },
   "source": [
    "<span id=\"papermill-error-cell\" style=\"color:red; font-family:Helvetica Neue, Helvetica, Arial, sans-serif; font-size:2em;\">Execution using papermill encountered an exception here and stopped:</span>"
   ]
  },
  {
   "cell_type": "code",
   "execution_count": 8,
   "id": "dc30a4e1",
   "metadata": {
    "execution": {
     "iopub.execute_input": "2023-03-18T18:55:00.748006Z",
     "iopub.status.busy": "2023-03-18T18:55:00.747693Z",
     "iopub.status.idle": "2023-03-18T18:55:04.240695Z",
     "shell.execute_reply": "2023-03-18T18:55:04.239408Z"
    },
    "papermill": {
     "duration": 3.498068,
     "end_time": "2023-03-18T18:55:04.242404",
     "exception": true,
     "start_time": "2023-03-18T18:55:00.744336",
     "status": "failed"
    },
    "tags": []
   },
   "outputs": [
    {
     "ename": "InvalidIndexError",
     "evalue": "Reindexing only valid with uniquely valued Index objects",
     "output_type": "error",
     "traceback": [
      "\u001b[0;31m---------------------------------------------------------------------------\u001b[0m",
      "\u001b[0;31mInvalidIndexError\u001b[0m                         Traceback (most recent call last)",
      "Cell \u001b[0;32mIn[8], line 1\u001b[0m\n\u001b[0;32m----> 1\u001b[0m \u001b[43mexecute_pyciam\u001b[49m\u001b[43m(\u001b[49m\n\u001b[1;32m      2\u001b[0m \u001b[43m    \u001b[49m\u001b[43mPATH_PARAMS\u001b[49m\u001b[43m,\u001b[49m\n\u001b[1;32m      3\u001b[0m \u001b[43m    \u001b[49m\u001b[43mPATH_SLIIDERS\u001b[49m\u001b[43m,\u001b[49m\n\u001b[1;32m      4\u001b[0m \u001b[43m    \u001b[49m\u001b[43mall_slr_ds\u001b[49m\u001b[43m,\u001b[49m\n\u001b[1;32m      5\u001b[0m \u001b[43m    \u001b[49m\u001b[43mall_slr_name\u001b[49m\u001b[43m,\u001b[49m\n\u001b[1;32m      6\u001b[0m \u001b[43m    \u001b[49m\u001b[43mPATH_REFA\u001b[49m\u001b[43m,\u001b[49m\n\u001b[1;32m      7\u001b[0m \u001b[43m    \u001b[49m\u001b[43mecon_input_path_seg\u001b[49m\u001b[38;5;241;43m=\u001b[39;49m\u001b[43mPATH_SLIIDERS_SEG\u001b[49m\u001b[43m,\u001b[49m\n\u001b[1;32m      8\u001b[0m \u001b[43m    \u001b[49m\u001b[43moutput_path\u001b[49m\u001b[38;5;241;43m=\u001b[39;49m\u001b[43mPATH_OUTPUTS\u001b[49m\u001b[43m,\u001b[49m\n\u001b[1;32m      9\u001b[0m \u001b[43m    \u001b[49m\u001b[43mseg_var_subset\u001b[49m\u001b[38;5;241;43m=\u001b[39;49m\u001b[43mSEG_ADM_SUBSET\u001b[49m\u001b[43m,\u001b[49m\n\u001b[1;32m     10\u001b[0m \u001b[43m    \u001b[49m\u001b[43msurge_input_paths\u001b[49m\u001b[38;5;241;43m=\u001b[39;49m\u001b[43mPATHS_SURGE_LOOKUP\u001b[49m\u001b[43m,\u001b[49m\n\u001b[1;32m     11\u001b[0m \u001b[43m    \u001b[49m\u001b[43mtmp_output_path\u001b[49m\u001b[38;5;241;43m=\u001b[39;49m\u001b[43mTMPPATH\u001b[49m\u001b[43m,\u001b[49m\n\u001b[1;32m     12\u001b[0m \u001b[43m    \u001b[49m\u001b[43mquantiles\u001b[49m\u001b[38;5;241;43m=\u001b[39;49m\u001b[43mQUANTILES\u001b[49m\u001b[43m,\u001b[49m\n\u001b[1;32m     13\u001b[0m \u001b[43m    \u001b[49m\u001b[43mdask_client_func\u001b[49m\u001b[38;5;241;43m=\u001b[39;49m\u001b[38;5;28;43;01mlambda\u001b[39;49;00m\u001b[43m:\u001b[49m\u001b[43m \u001b[49m\u001b[43mclient\u001b[49m\u001b[43m,\u001b[49m\n\u001b[1;32m     14\u001b[0m \u001b[43m    \u001b[49m\u001b[43mstorage_options\u001b[49m\u001b[38;5;241;43m=\u001b[39;49m\u001b[43mSTORAGE_OPTIONS\u001b[49m\u001b[43m,\u001b[49m\n\u001b[1;32m     15\u001b[0m \u001b[43m    \u001b[49m\u001b[43mextra_attrs\u001b[49m\u001b[38;5;241;43m=\u001b[39;49m\u001b[43m{\u001b[49m\n\u001b[1;32m     16\u001b[0m \u001b[43m        \u001b[49m\u001b[38;5;124;43m\"\u001b[39;49m\u001b[38;5;124;43mauthor\u001b[39;49m\u001b[38;5;124;43m\"\u001b[39;49m\u001b[43m:\u001b[49m\u001b[43m \u001b[49m\u001b[43mAUTHOR\u001b[49m\u001b[43m,\u001b[49m\n\u001b[1;32m     17\u001b[0m \u001b[43m        \u001b[49m\u001b[38;5;124;43m\"\u001b[39;49m\u001b[38;5;124;43mcontact\u001b[39;49m\u001b[38;5;124;43m\"\u001b[39;49m\u001b[43m:\u001b[49m\u001b[43m \u001b[49m\u001b[43mCONTACT\u001b[49m\u001b[43m,\u001b[49m\n\u001b[1;32m     18\u001b[0m \u001b[43m        \u001b[49m\u001b[38;5;124;43m\"\u001b[39;49m\u001b[38;5;124;43mdescription\u001b[39;49m\u001b[38;5;124;43m\"\u001b[39;49m\u001b[43m:\u001b[49m\u001b[43m \u001b[49m\u001b[43mDESCRIPTION\u001b[49m\u001b[43m,\u001b[49m\n\u001b[1;32m     19\u001b[0m \u001b[43m        \u001b[49m\u001b[38;5;124;43m\"\u001b[39;49m\u001b[38;5;124;43mhistory\u001b[39;49m\u001b[38;5;124;43m\"\u001b[39;49m\u001b[43m:\u001b[49m\u001b[43m \u001b[49m\u001b[43mHISTORY\u001b[49m\u001b[43m,\u001b[49m\n\u001b[1;32m     20\u001b[0m \u001b[43m    \u001b[49m\u001b[43m}\u001b[49m\u001b[43m,\u001b[49m\n\u001b[1;32m     21\u001b[0m \u001b[43m)\u001b[49m\n",
      "File \u001b[0;32m~/git-repos/pyciam/pyCIAM/run.py:1112\u001b[0m, in \u001b[0;36mexecute_pyciam\u001b[0;34m(params_path, econ_input_path, slr_input_paths, slr_names, refA_path, econ_input_path_seg, surge_input_paths, output_path, tmp_output_path, mc_dim, seg_var, seg_var_subset, adm_var, quantiles, extra_attrs, econ_input_seg_chunksize, surge_batchsize, surge_seg_chunksize, refA_seg_chunksize, pyciam_seg_chunksize, diaz_inputs, diaz_config, dask_client_func, storage_options, **model_kwargs)\u001b[0m\n\u001b[1;32m   1110\u001b[0m     \u001b[38;5;28;01massert\u001b[39;00m tmp_output_path \u001b[38;5;129;01mis\u001b[39;00m \u001b[38;5;129;01mnot\u001b[39;00m \u001b[38;5;28;01mNone\u001b[39;00m\n\u001b[1;32m   1111\u001b[0m     \u001b[38;5;28;01mif\u001b[39;00m \u001b[38;5;129;01mnot\u001b[39;00m econ_input_path_seg\u001b[38;5;241m.\u001b[39mis_dir():\n\u001b[0;32m-> 1112\u001b[0m         \u001b[43mcollapse_econ_inputs_to_seg\u001b[49m\u001b[43m(\u001b[49m\n\u001b[1;32m   1113\u001b[0m \u001b[43m            \u001b[49m\u001b[43mecon_input_path\u001b[49m\u001b[43m,\u001b[49m\n\u001b[1;32m   1114\u001b[0m \u001b[43m            \u001b[49m\u001b[43mecon_input_path_seg\u001b[49m\u001b[43m,\u001b[49m\n\u001b[1;32m   1115\u001b[0m \u001b[43m            \u001b[49m\u001b[43mseg_var_subset\u001b[49m\u001b[38;5;241;43m=\u001b[39;49m\u001b[43mseg_var_subset\u001b[49m\u001b[43m,\u001b[49m\n\u001b[1;32m   1116\u001b[0m \u001b[43m            \u001b[49m\u001b[43moutput_chunksize\u001b[49m\u001b[38;5;241;43m=\u001b[39;49m\u001b[43mecon_input_seg_chunksize\u001b[49m\u001b[43m,\u001b[49m\n\u001b[1;32m   1117\u001b[0m \u001b[43m            \u001b[49m\u001b[43mstorage_options\u001b[49m\u001b[38;5;241;43m=\u001b[39;49m\u001b[43mstorage_options\u001b[49m\u001b[43m,\u001b[49m\n\u001b[1;32m   1118\u001b[0m \u001b[43m            \u001b[49m\u001b[43mseg_var\u001b[49m\u001b[38;5;241;43m=\u001b[39;49m\u001b[43mseg_var\u001b[49m\u001b[43m,\u001b[49m\n\u001b[1;32m   1119\u001b[0m \u001b[43m        \u001b[49m\u001b[43m)\u001b[49m\n\u001b[1;32m   1121\u001b[0m \u001b[38;5;66;03m########################################\u001b[39;00m\n\u001b[1;32m   1122\u001b[0m \u001b[38;5;66;03m# create surge lookup table if necessary\u001b[39;00m\n\u001b[1;32m   1123\u001b[0m \u001b[38;5;66;03m########################################\u001b[39;00m\n\u001b[1;32m   1124\u001b[0m surge_futs \u001b[38;5;241m=\u001b[39m {}\n",
      "File \u001b[0;32m~/git-repos/pyciam/pyCIAM/utils.py:200\u001b[0m, in \u001b[0;36mcollapse_econ_inputs_to_seg\u001b[0;34m(econ_input_path, output_path, seg_var_subset, output_chunksize, seg_var, storage_options)\u001b[0m\n\u001b[1;32m    192\u001b[0m \u001b[38;5;28;01mdef\u001b[39;00m \u001b[38;5;21mcollapse_econ_inputs_to_seg\u001b[39m(\n\u001b[1;32m    193\u001b[0m     econ_input_path,\n\u001b[1;32m    194\u001b[0m     output_path,\n\u001b[0;32m   (...)\u001b[0m\n\u001b[1;32m    198\u001b[0m     storage_options\u001b[38;5;241m=\u001b[39m{},\n\u001b[1;32m    199\u001b[0m ):\n\u001b[0;32m--> 200\u001b[0m     sliiders \u001b[38;5;241m=\u001b[39m \u001b[43msubset_econ_inputs\u001b[49m\u001b[43m(\u001b[49m\n\u001b[1;32m    201\u001b[0m \u001b[43m        \u001b[49m\u001b[43mxr\u001b[49m\u001b[38;5;241;43m.\u001b[39;49m\u001b[43mopen_zarr\u001b[49m\u001b[43m(\u001b[49m\n\u001b[1;32m    202\u001b[0m \u001b[43m            \u001b[49m\u001b[43mecon_input_path\u001b[49m\u001b[43m,\u001b[49m\u001b[43m \u001b[49m\u001b[43mstorage_options\u001b[49m\u001b[38;5;241;43m=\u001b[39;49m\u001b[43mstorage_options\u001b[49m\u001b[43m,\u001b[49m\u001b[43m \u001b[49m\u001b[43mchunks\u001b[49m\u001b[38;5;241;43m=\u001b[39;49m\u001b[38;5;28;43;01mNone\u001b[39;49;00m\n\u001b[1;32m    203\u001b[0m \u001b[43m        \u001b[49m\u001b[43m)\u001b[49m\u001b[38;5;241;43m.\u001b[39;49m\u001b[43mload\u001b[49m\u001b[43m(\u001b[49m\u001b[43m)\u001b[49m\u001b[43m,\u001b[49m\n\u001b[1;32m    204\u001b[0m \u001b[43m        \u001b[49m\u001b[43mseg_var\u001b[49m\u001b[43m,\u001b[49m\n\u001b[1;32m    205\u001b[0m \u001b[43m        \u001b[49m\u001b[43mseg_var_subset\u001b[49m\u001b[43m,\u001b[49m\n\u001b[1;32m    206\u001b[0m \u001b[43m    \u001b[49m\u001b[43m)\u001b[49m\n\u001b[1;32m    208\u001b[0m     \u001b[38;5;66;03m# clean and cast for double-precision math\u001b[39;00m\n\u001b[1;32m    209\u001b[0m     \u001b[38;5;28;01mfor\u001b[39;00m v \u001b[38;5;129;01min\u001b[39;00m sliiders\u001b[38;5;241m.\u001b[39mvariables:\n",
      "File \u001b[0;32m~/git-repos/pyciam/pyCIAM/utils.py:281\u001b[0m, in \u001b[0;36msubset_econ_inputs\u001b[0;34m(ds, seg_var, seg_var_subset)\u001b[0m\n\u001b[1;32m    278\u001b[0m     \u001b[38;5;28;01mreturn\u001b[39;00m ds\u001b[38;5;241m.\u001b[39msel(seg\u001b[38;5;241m=\u001b[39mds\u001b[38;5;241m.\u001b[39mseg\u001b[38;5;241m.\u001b[39mstr\u001b[38;5;241m.\u001b[39mcontains(seg_var_subset))\n\u001b[1;32m    280\u001b[0m necessary_segs \u001b[38;5;241m=\u001b[39m ds\u001b[38;5;241m.\u001b[39mseg\u001b[38;5;241m.\u001b[39msel({seg_var: ds[seg_var]\u001b[38;5;241m.\u001b[39mstr\u001b[38;5;241m.\u001b[39mcontains(seg_var_subset)})\n\u001b[0;32m--> 281\u001b[0m \u001b[38;5;28;01mreturn\u001b[39;00m \u001b[43mds\u001b[49m\u001b[38;5;241;43m.\u001b[39;49m\u001b[43mswap_dims\u001b[49m\u001b[43m(\u001b[49m\u001b[43m{\u001b[49m\u001b[43mseg_var\u001b[49m\u001b[43m:\u001b[49m\u001b[43m \u001b[49m\u001b[38;5;124;43m\"\u001b[39;49m\u001b[38;5;124;43mseg\u001b[39;49m\u001b[38;5;124;43m\"\u001b[39;49m\u001b[43m}\u001b[49m\u001b[43m)\u001b[49m\u001b[38;5;241;43m.\u001b[39;49m\u001b[43msel\u001b[49m\u001b[43m(\u001b[49m\u001b[43mseg\u001b[49m\u001b[38;5;241;43m=\u001b[39;49m\u001b[43mnecessary_segs\u001b[49m\u001b[43m)\u001b[49m\u001b[38;5;241m.\u001b[39mswap_dims(seg\u001b[38;5;241m=\u001b[39mseg_var)\n",
      "File \u001b[0;32m~/opt/miniconda3/envs/pyciam/lib/python3.11/site-packages/xarray/core/dataset.py:2572\u001b[0m, in \u001b[0;36mDataset.sel\u001b[0;34m(self, indexers, method, tolerance, drop, **indexers_kwargs)\u001b[0m\n\u001b[1;32m   2511\u001b[0m \u001b[38;5;250m\u001b[39m\u001b[38;5;124;03m\"\"\"Returns a new dataset with each array indexed by tick labels\u001b[39;00m\n\u001b[1;32m   2512\u001b[0m \u001b[38;5;124;03malong the specified dimension(s).\u001b[39;00m\n\u001b[1;32m   2513\u001b[0m \n\u001b[0;32m   (...)\u001b[0m\n\u001b[1;32m   2569\u001b[0m \u001b[38;5;124;03mDataArray.sel\u001b[39;00m\n\u001b[1;32m   2570\u001b[0m \u001b[38;5;124;03m\"\"\"\u001b[39;00m\n\u001b[1;32m   2571\u001b[0m indexers \u001b[38;5;241m=\u001b[39m either_dict_or_kwargs(indexers, indexers_kwargs, \u001b[38;5;124m\"\u001b[39m\u001b[38;5;124msel\u001b[39m\u001b[38;5;124m\"\u001b[39m)\n\u001b[0;32m-> 2572\u001b[0m query_results \u001b[38;5;241m=\u001b[39m \u001b[43mmap_index_queries\u001b[49m\u001b[43m(\u001b[49m\n\u001b[1;32m   2573\u001b[0m \u001b[43m    \u001b[49m\u001b[38;5;28;43mself\u001b[39;49m\u001b[43m,\u001b[49m\u001b[43m \u001b[49m\u001b[43mindexers\u001b[49m\u001b[38;5;241;43m=\u001b[39;49m\u001b[43mindexers\u001b[49m\u001b[43m,\u001b[49m\u001b[43m \u001b[49m\u001b[43mmethod\u001b[49m\u001b[38;5;241;43m=\u001b[39;49m\u001b[43mmethod\u001b[49m\u001b[43m,\u001b[49m\u001b[43m \u001b[49m\u001b[43mtolerance\u001b[49m\u001b[38;5;241;43m=\u001b[39;49m\u001b[43mtolerance\u001b[49m\n\u001b[1;32m   2574\u001b[0m \u001b[43m\u001b[49m\u001b[43m)\u001b[49m\n\u001b[1;32m   2576\u001b[0m \u001b[38;5;28;01mif\u001b[39;00m drop:\n\u001b[1;32m   2577\u001b[0m     no_scalar_variables \u001b[38;5;241m=\u001b[39m {}\n",
      "File \u001b[0;32m~/opt/miniconda3/envs/pyciam/lib/python3.11/site-packages/xarray/core/indexing.py:183\u001b[0m, in \u001b[0;36mmap_index_queries\u001b[0;34m(obj, indexers, method, tolerance, **indexers_kwargs)\u001b[0m\n\u001b[1;32m    181\u001b[0m         results\u001b[38;5;241m.\u001b[39mappend(IndexSelResult(labels))\n\u001b[1;32m    182\u001b[0m     \u001b[38;5;28;01melse\u001b[39;00m:\n\u001b[0;32m--> 183\u001b[0m         results\u001b[38;5;241m.\u001b[39mappend(\u001b[43mindex\u001b[49m\u001b[38;5;241;43m.\u001b[39;49m\u001b[43msel\u001b[49m\u001b[43m(\u001b[49m\u001b[43mlabels\u001b[49m\u001b[43m,\u001b[49m\u001b[43m \u001b[49m\u001b[38;5;241;43m*\u001b[39;49m\u001b[38;5;241;43m*\u001b[39;49m\u001b[43moptions\u001b[49m\u001b[43m)\u001b[49m)\n\u001b[1;32m    185\u001b[0m merged \u001b[38;5;241m=\u001b[39m merge_sel_results(results)\n\u001b[1;32m    187\u001b[0m \u001b[38;5;66;03m# drop dimension coordinates found in dimension indexers\u001b[39;00m\n\u001b[1;32m    188\u001b[0m \u001b[38;5;66;03m# (also drop multi-index if any)\u001b[39;00m\n\u001b[1;32m    189\u001b[0m \u001b[38;5;66;03m# (.sel() already ensures alignment)\u001b[39;00m\n",
      "File \u001b[0;32m~/opt/miniconda3/envs/pyciam/lib/python3.11/site-packages/xarray/core/indexes.py:476\u001b[0m, in \u001b[0;36mPandasIndex.sel\u001b[0;34m(self, labels, method, tolerance)\u001b[0m\n\u001b[1;32m    474\u001b[0m     indexer \u001b[38;5;241m=\u001b[39m label_array\n\u001b[1;32m    475\u001b[0m \u001b[38;5;28;01melse\u001b[39;00m:\n\u001b[0;32m--> 476\u001b[0m     indexer \u001b[38;5;241m=\u001b[39m \u001b[43mget_indexer_nd\u001b[49m\u001b[43m(\u001b[49m\u001b[38;5;28;43mself\u001b[39;49m\u001b[38;5;241;43m.\u001b[39;49m\u001b[43mindex\u001b[49m\u001b[43m,\u001b[49m\u001b[43m \u001b[49m\u001b[43mlabel_array\u001b[49m\u001b[43m,\u001b[49m\u001b[43m \u001b[49m\u001b[43mmethod\u001b[49m\u001b[43m,\u001b[49m\u001b[43m \u001b[49m\u001b[43mtolerance\u001b[49m\u001b[43m)\u001b[49m\n\u001b[1;32m    477\u001b[0m     \u001b[38;5;28;01mif\u001b[39;00m np\u001b[38;5;241m.\u001b[39many(indexer \u001b[38;5;241m<\u001b[39m \u001b[38;5;241m0\u001b[39m):\n\u001b[1;32m    478\u001b[0m         \u001b[38;5;28;01mraise\u001b[39;00m \u001b[38;5;167;01mKeyError\u001b[39;00m(\u001b[38;5;124mf\u001b[39m\u001b[38;5;124m\"\u001b[39m\u001b[38;5;124mnot all values found in index \u001b[39m\u001b[38;5;132;01m{\u001b[39;00mcoord_name\u001b[38;5;132;01m!r}\u001b[39;00m\u001b[38;5;124m\"\u001b[39m)\n",
      "File \u001b[0;32m~/opt/miniconda3/envs/pyciam/lib/python3.11/site-packages/xarray/core/indexes.py:262\u001b[0m, in \u001b[0;36mget_indexer_nd\u001b[0;34m(index, labels, method, tolerance)\u001b[0m\n\u001b[1;32m    258\u001b[0m \u001b[38;5;250m\u001b[39m\u001b[38;5;124;03m\"\"\"Wrapper around :meth:`pandas.Index.get_indexer` supporting n-dimensional\u001b[39;00m\n\u001b[1;32m    259\u001b[0m \u001b[38;5;124;03mlabels\u001b[39;00m\n\u001b[1;32m    260\u001b[0m \u001b[38;5;124;03m\"\"\"\u001b[39;00m\n\u001b[1;32m    261\u001b[0m flat_labels \u001b[38;5;241m=\u001b[39m np\u001b[38;5;241m.\u001b[39mravel(labels)\n\u001b[0;32m--> 262\u001b[0m flat_indexer \u001b[38;5;241m=\u001b[39m \u001b[43mindex\u001b[49m\u001b[38;5;241;43m.\u001b[39;49m\u001b[43mget_indexer\u001b[49m\u001b[43m(\u001b[49m\u001b[43mflat_labels\u001b[49m\u001b[43m,\u001b[49m\u001b[43m \u001b[49m\u001b[43mmethod\u001b[49m\u001b[38;5;241;43m=\u001b[39;49m\u001b[43mmethod\u001b[49m\u001b[43m,\u001b[49m\u001b[43m \u001b[49m\u001b[43mtolerance\u001b[49m\u001b[38;5;241;43m=\u001b[39;49m\u001b[43mtolerance\u001b[49m\u001b[43m)\u001b[49m\n\u001b[1;32m    263\u001b[0m indexer \u001b[38;5;241m=\u001b[39m flat_indexer\u001b[38;5;241m.\u001b[39mreshape(labels\u001b[38;5;241m.\u001b[39mshape)\n\u001b[1;32m    264\u001b[0m \u001b[38;5;28;01mreturn\u001b[39;00m indexer\n",
      "File \u001b[0;32m~/opt/miniconda3/envs/pyciam/lib/python3.11/site-packages/pandas/core/indexes/base.py:3904\u001b[0m, in \u001b[0;36mIndex.get_indexer\u001b[0;34m(self, target, method, limit, tolerance)\u001b[0m\n\u001b[1;32m   3901\u001b[0m \u001b[38;5;28mself\u001b[39m\u001b[38;5;241m.\u001b[39m_check_indexing_method(method, limit, tolerance)\n\u001b[1;32m   3903\u001b[0m \u001b[38;5;28;01mif\u001b[39;00m \u001b[38;5;129;01mnot\u001b[39;00m \u001b[38;5;28mself\u001b[39m\u001b[38;5;241m.\u001b[39m_index_as_unique:\n\u001b[0;32m-> 3904\u001b[0m     \u001b[38;5;28;01mraise\u001b[39;00m InvalidIndexError(\u001b[38;5;28mself\u001b[39m\u001b[38;5;241m.\u001b[39m_requires_unique_msg)\n\u001b[1;32m   3906\u001b[0m \u001b[38;5;28;01mif\u001b[39;00m \u001b[38;5;28mlen\u001b[39m(target) \u001b[38;5;241m==\u001b[39m \u001b[38;5;241m0\u001b[39m:\n\u001b[1;32m   3907\u001b[0m     \u001b[38;5;28;01mreturn\u001b[39;00m np\u001b[38;5;241m.\u001b[39marray([], dtype\u001b[38;5;241m=\u001b[39mnp\u001b[38;5;241m.\u001b[39mintp)\n",
      "\u001b[0;31mInvalidIndexError\u001b[0m: Reindexing only valid with uniquely valued Index objects"
     ]
    }
   ],
   "source": [
    "execute_pyciam(\n",
    "    PATH_PARAMS,\n",
    "    PATH_SLIIDERS,\n",
    "    all_slr_ds,\n",
    "    all_slr_name,\n",
    "    PATH_REFA,\n",
    "    econ_input_path_seg=PATH_SLIIDERS_SEG,\n",
    "    output_path=PATH_OUTPUTS,\n",
    "    seg_var_subset=SEG_ADM_SUBSET,\n",
    "    surge_input_paths=PATHS_SURGE_LOOKUP,\n",
    "    tmp_output_path=TMPPATH,\n",
    "    quantiles=QUANTILES,\n",
    "    dask_client_func=lambda: client,\n",
    "    storage_options=STORAGE_OPTIONS,\n",
    "    extra_attrs={\n",
    "        \"author\": AUTHOR,\n",
    "        \"contact\": CONTACT,\n",
    "        \"description\": DESCRIPTION,\n",
    "        \"history\": HISTORY,\n",
    "    },\n",
    ")"
   ]
  }
 ],
 "metadata": {
  "kernelspec": {
   "display_name": "Python 3 (ipykernel)",
   "language": "python",
   "name": "python3"
  },
  "language_info": {
   "codemirror_mode": {
    "name": "ipython",
    "version": 3
   },
   "file_extension": ".py",
   "mimetype": "text/x-python",
   "name": "python",
   "nbconvert_exporter": "python",
   "pygments_lexer": "ipython3",
   "version": "3.11.0"
  },
  "papermill": {
   "default_parameters": {},
   "duration": 15.649177,
   "end_time": "2023-03-18T18:55:06.865768",
   "environment_variables": {},
   "exception": true,
   "input_path": "models/run-pyCIAM-slrquantiles.ipynb",
   "output_path": "/Users/ianbolliger/git-repos/pyciam/notebooks/nb_logs/models/run-pyCIAM-slrquantiles.ipynb",
   "parameters": {
    "AR6_ONLY": true,
    "SEG_ADM_SUBSET": "USA"
   },
   "start_time": "2023-03-18T18:54:51.216591",
   "version": "2.3.4"
  },
  "widgets": {
   "application/vnd.jupyter.widget-state+json": {
    "state": {},
    "version_major": 2,
    "version_minor": 0
   }
  }
 },
 "nbformat": 4,
 "nbformat_minor": 5
}