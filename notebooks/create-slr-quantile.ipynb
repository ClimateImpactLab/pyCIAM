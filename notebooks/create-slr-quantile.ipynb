{
 "cells": [
  {
   "cell_type": "markdown",
   "id": "c32fb782-2a80-4ec3-b06f-54945f90ed00",
   "metadata": {},
   "source": [
    "# Create Quantile-based SLR dataset"
   ]
  },
  {
   "cell_type": "code",
   "execution_count": 1,
   "id": "6e6f74de-7123-4e93-85f8-bbe5dfd7844c",
   "metadata": {},
   "outputs": [],
   "source": [
    "%load_ext autoreload\n",
    "%autoreload 2"
   ]
  },
  {
   "cell_type": "code",
   "execution_count": 2,
   "id": "ce02a65c-ceae-475d-820f-40c91ee1b45c",
   "metadata": {},
   "outputs": [
    {
     "name": "stderr",
     "output_type": "stream",
     "text": [
      "/srv/conda/envs/notebook/lib/python3.9/site-packages/dask_gateway/client.py:21: FutureWarning: format_bytes is deprecated and will be removed in a future release. Please use dask.utils.format_bytes instead.\n",
      "  from distributed.utils import LoopRunner, format_bytes\n"
     ]
    }
   ],
   "source": [
    "import xarray as xr\n",
    "from shared import PATH_SLIIDERS_SLR, PATH_SLIIDERS_SLR_QUANTILES, QUANTILES\n",
    "\n",
    "from rhg_compute_tools.xarray import dataarray_from_delayed"
   ]
  },
  {
   "cell_type": "code",
   "execution_count": 10,
   "id": "990cd2f2-a1f7-4a23-b1ec-0486668947a0",
   "metadata": {},
   "outputs": [
    {
     "data": {
      "text/plain": [
       "<xarray.backends.zarr.ZarrStore at 0x7fe6bc896eb0>"
      ]
     },
     "execution_count": 10,
     "metadata": {},
     "output_type": "execute_result"
    }
   ],
   "source": [
    "ds = (\n",
    "    xr.open_zarr(PATH_SLIIDERS_SLR, chunks={\"mc_sample_id\": -1})\n",
    "    .quantile(QUANTILES, dim=\"mc_sample_id\")\n",
    "    .rename(quantile=\"mc_sample_id\")\n",
    ")\n",
    "for v in ds.variables:\n",
    "    ds[v].encoding = {}\n",
    "    if ds[v].dtype == object:\n",
    "        ds[v] = ds[v].astype(\"unicode\")\n",
    "ds.to_zarr(PATH_SLIIDERS_SLR_QUANTILES, mode=\"w\")"
   ]
  }
 ],
 "metadata": {
  "kernelspec": {
   "display_name": "Python 3 (ipykernel)",
   "language": "python",
   "name": "python3"
  },
  "language_info": {
   "codemirror_mode": {
    "name": "ipython",
    "version": 3
   },
   "file_extension": ".py",
   "mimetype": "text/x-python",
   "name": "python",
   "nbconvert_exporter": "python",
   "pygments_lexer": "ipython3",
   "version": "3.9.10"
  },
  "widgets": {
   "application/vnd.jupyter.widget-state+json": {
    "state": {},
    "version_major": 2,
    "version_minor": 0
   }
  }
 },
 "nbformat": 4,
 "nbformat_minor": 5
}
