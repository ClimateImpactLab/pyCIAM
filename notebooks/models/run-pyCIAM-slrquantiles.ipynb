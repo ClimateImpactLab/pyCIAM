{
 "cells": [
  {
   "cell_type": "markdown",
   "metadata": {
    "tags": []
   },
   "source": [
    "# Run pyCIAM"
   ]
  },
  {
   "cell_type": "code",
   "execution_count": null,
   "metadata": {
    "tags": []
   },
   "outputs": [],
   "source": [
    "import sys\n",
    "\n",
    "sys.path.append(\"../\")"
   ]
  },
  {
   "cell_type": "code",
   "execution_count": null,
   "metadata": {
    "tags": []
   },
   "outputs": [],
   "source": [
    "from shared import (\n",
    "    AUTHOR,\n",
    "    CONTACT,\n",
    "    DIR_SCRATCH,\n",
    "    HISTORY,\n",
    "    PATH_OUTPUTS,\n",
    "    PATH_PARAMS,\n",
    "    PATH_REFA,\n",
    "    PATH_SLIIDERS,\n",
    "    PATH_SLIIDERS_SEG,\n",
    "    PATH_SLR_AR5_QUANTILES,\n",
    "    PATH_SLR_AR6,\n",
    "    PATH_SLR_SWEET,\n",
    "    PATHS_SURGE_LOOKUP,\n",
    "    QUANTILES,\n",
    "    STORAGE_OPTIONS,\n",
    "    start_dask_cluster,\n",
    ")\n",
    "\n",
    "from pyCIAM.run import execute_pyciam"
   ]
  },
  {
   "cell_type": "code",
   "execution_count": null,
   "metadata": {
    "tags": [
     "parameters"
    ]
   },
   "outputs": [],
   "source": [
    "AR6_ONLY = False\n",
    "\n",
    "TMPPATH = DIR_SCRATCH / \"pyCIAM_results_quantiles_prechunked.zarr\"\n",
    "\n",
    "# When running on larger/scalable dask cluster, may wish to specify number of workers\n",
    "# Default is LocalCluster which will use the number of CPUs available on local machine\n",
    "N_WORKERS = None\n",
    "# N_WORKERS = 400\n",
    "\n",
    "SEG_CHUNKSIZE = 3\n",
    "\n",
    "SEG_ADM_SUBSET = None\n",
    "\n",
    "DESCRIPTION = \"Projected coastal damages from pyCIAM, using quantiles of SLR scenarios.\""
   ]
  },
  {
   "cell_type": "code",
   "execution_count": null,
   "metadata": {
    "tags": []
   },
   "outputs": [],
   "source": [
    "if AR6_ONLY:\n",
    "    all_slr_ds = [PATH_SLR_AR6]\n",
    "    all_slr_name = [\"ar6\"]\n",
    "else:\n",
    "    all_slr_ds = [PATH_SLR_AR6, PATH_SLR_AR5_QUANTILES, PATH_SLR_SWEET]\n",
    "    all_slr_name = [\"ar6\", \"ar5\", \"sweet\"]"
   ]
  },
  {
   "cell_type": "code",
   "execution_count": null,
   "metadata": {
    "tags": []
   },
   "outputs": [],
   "source": [
    "client = start_dask_cluster(\n",
    "    n_workers=N_WORKERS,\n",
    ")\n",
    "client"
   ]
  },
  {
   "cell_type": "code",
   "execution_count": null,
   "metadata": {
    "tags": []
   },
   "outputs": [],
   "source": [
    "execute_pyciam(\n",
    "    PATH_PARAMS,\n",
    "    PATH_SLIIDERS,\n",
    "    all_slr_ds,\n",
    "    all_slr_name,\n",
    "    PATH_REFA,\n",
    "    econ_input_path_seg=PATH_SLIIDERS_SEG,\n",
    "    output_path=PATH_OUTPUTS,\n",
    "    seg_var_subset=SEG_ADM_SUBSET,\n",
    "    surge_input_paths=PATHS_SURGE_LOOKUP,\n",
    "    tmp_output_path=TMPPATH,\n",
    "    quantiles=QUANTILES,\n",
    "    dask_client_func=lambda: client,\n",
    "    storage_options=STORAGE_OPTIONS,\n",
    "    extra_attrs={\n",
    "        \"author\": AUTHOR,\n",
    "        \"contact\": CONTACT,\n",
    "        \"description\": DESCRIPTION,\n",
    "        \"history\": HISTORY,\n",
    "    },\n",
    ")"
   ]
  }
 ],
 "metadata": {
  "kernelspec": {
   "display_name": "Python 3 (ipykernel)",
   "language": "python",
   "name": "python3"
  },
  "language_info": {
   "codemirror_mode": {
    "name": "ipython",
    "version": 3
   },
   "file_extension": ".py",
   "mimetype": "text/x-python",
   "name": "python",
   "nbconvert_exporter": "python",
   "pygments_lexer": "ipython3",
   "version": "3.11.0"
  },
  "widgets": {
   "application/vnd.jupyter.widget-state+json": {
    "state": {},
    "version_major": 2,
    "version_minor": 0
   }
  }
 },
 "nbformat": 4,
 "nbformat_minor": 4
}
