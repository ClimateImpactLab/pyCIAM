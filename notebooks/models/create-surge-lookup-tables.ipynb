{
 "cells": [
  {
   "cell_type": "markdown",
   "id": "5468498c-bfaa-408b-ae36-841b16a69a3e",
   "metadata": {},
   "source": [
    "# Create pyCIAM Storm Costs Lookup Table"
   ]
  },
  {
   "cell_type": "markdown",
   "id": "f6bee218-9782-40bf-8772-d2288235d1b1",
   "metadata": {},
   "source": [
    "Calculating the storm costs in a CIAM model involves a numerical integration over both elevation and the quantiles of storm surge at each segment-ADM1 location. This is too computationally intensive to run for all seg-ADMs for each year for all SLR trajectories, especially when using pyCIAM to run a Monte Carlo analysis across tens of thousands of SLR trajectories. Instead, we build a lookup table indexed by seg-ADM, LSLR, adaptation type (retreat vs. protect), cost type (mortality vs. capital loss), and `rhdiff` (the difference between the retreat/protect height and lslr). This is similar to how it is treated in the original CIAM model except that:\n",
    "\n",
    "1. We use a lookup table rather than a parameterized exponential function of `rhdiff` and `lslr`\n",
    "2. We account for elevational heterogeneity in population and capital when evaluating our costs in retreat scenarios. The original CIAM included `lslr` in their exponential function only for the protect adaptation type, while for `noAdaptation` and `retreat`, the function was only of `rhdiff`."
   ]
  },
  {
   "cell_type": "markdown",
   "id": "8590679c-89af-4eb6-a105-752fbb51440a",
   "metadata": {},
   "source": [
    "## Setup"
   ]
  },
  {
   "cell_type": "code",
   "execution_count": 1,
   "id": "6b183aa3-366a-4f5f-bb95-5ef4bf48d438",
   "metadata": {
    "tags": []
   },
   "outputs": [],
   "source": [
    "%load_ext autoreload\n",
    "%autoreload 2"
   ]
  },
  {
   "cell_type": "code",
   "execution_count": 2,
   "id": "cd4b2928-65a0-4733-9c71-fbefa85590be",
   "metadata": {
    "tags": []
   },
   "outputs": [],
   "source": [
    "import sys\n",
    "\n",
    "sys.path.append(\"../\")"
   ]
  },
  {
   "cell_type": "code",
   "execution_count": 3,
   "id": "afd03880-8e46-4d81-867d-bfb6505ea788",
   "metadata": {
    "tags": []
   },
   "outputs": [
    {
     "name": "stderr",
     "output_type": "stream",
     "text": [
      "/srv/conda/envs/notebook/lib/python3.10/site-packages/google/cloud/storage/transfer_manager.py:30: UserWarning: The module `transfer_manager` is a preview feature. Functionality and API may change. This warning will be removed in a future release.\n",
      "  warnings.warn(\n",
      "/home/jovyan/git-repos/pyCIAM-public/notebooks/models/../shared.py:3: UserWarning: Shapely 2.0 is installed, but because PyGEOS is also installed, GeoPandas will still use PyGEOS by default for now. To force to use and test Shapely 2.0, you have to set the environment variable USE_PYGEOS=0. You can do this before starting the Python process, or in your code before importing geopandas:\n",
      "\n",
      "import os\n",
      "os.environ['USE_PYGEOS'] = '0'\n",
      "import geopandas\n",
      "\n",
      "In a future release, GeoPandas will switch to using Shapely by default. If you are using PyGEOS directly (calling PyGEOS functions on geometries from GeoPandas), this will then stop working and you are encouraged to migrate from PyGEOS to Shapely 2.0 (https://shapely.readthedocs.io/en/latest/migration_pygeos.html).\n",
      "  import geopandas as gpd\n"
     ]
    }
   ],
   "source": [
    "import distributed as dd\n",
    "import pandas as pd\n",
    "from pyCIAM.surge import damage_funcs\n",
    "from pyCIAM.surge.lookup import create_surge_lookup\n",
    "from shared import (\n",
    "    PATH_PARAMS,\n",
    "    PATH_SLIIDERS,\n",
    "    PATH_SLIIDERS_SEG,\n",
    "    PATH_SLR_AR5_QUANTILES,\n",
    "    PATH_SLR_AR6,\n",
    "    PATH_SLR_SWEET,\n",
    "    PATHS_SURGE_LOOKUP,\n",
    "    QUANTILES,\n",
    "    STORAGE_OPTIONS,\n",
    "    start_dask_cluster,\n",
    ")"
   ]
  },
  {
   "cell_type": "code",
   "execution_count": 4,
   "id": "47979c48-7fff-49b4-b445-ea6bf746fa37",
   "metadata": {
    "tags": [
     "parameters"
    ]
   },
   "outputs": [],
   "source": [
    "# When running on larger/scalable dask cluster, may wish to specify number of workers\n",
    "# Default is LocalCluster which will use the number of CPUs available on local machine\n",
    "N_WORKERS_MIN = 7\n",
    "N_WORKERS_MAX = 700\n",
    "SEG_CHUNKSIZE = 5\n",
    "\n",
    "PARAMS = pd.read_json(PATH_PARAMS)[\"values\"]"
   ]
  },
  {
   "cell_type": "code",
   "execution_count": 5,
   "id": "6104bced",
   "metadata": {
    "tags": []
   },
   "outputs": [],
   "source": [
    "DMF_I = getattr(damage_funcs, PARAMS.dmf + \"_i\")\n",
    "DDF_I = getattr(damage_funcs, PARAMS.ddf + \"_i\")"
   ]
  },
  {
   "cell_type": "code",
   "execution_count": 6,
   "id": "dbb04b4a-14b8-4403-ad33-88bfe71bd8fc",
   "metadata": {
    "tags": []
   },
   "outputs": [
    {
     "data": {
      "application/vnd.jupyter.widget-view+json": {
       "model_id": "fcadb94377b4430d9c2964ac9c808c2a",
       "version_major": 2,
       "version_minor": 0
      },
      "text/plain": [
       "VBox(children=(HTML(value='<h2>GatewayCluster</h2>'), HBox(children=(HTML(value='\\n<div>\\n<style scoped>\\n    …"
      ]
     },
     "metadata": {},
     "output_type": "display_data"
    }
   ],
   "source": [
    "client, cluster = start_dask_cluster()\n",
    "cluster.adapt(minimum=N_WORKERS_MIN, maximum=N_WORKERS_MAX)\n",
    "cluster"
   ]
  },
  {
   "cell_type": "markdown",
   "id": "8cd85123-c954-41a4-9c50-13dbbbba8c97",
   "metadata": {},
   "source": [
    "## Run surge damage calculations for each combo"
   ]
  },
  {
   "cell_type": "code",
   "execution_count": 7,
   "id": "1e823775-0d12-4e52-93d1-7e3586913e65",
   "metadata": {
    "tags": []
   },
   "outputs": [],
   "source": [
    "futs = {}\n",
    "for kind, sliiders in [(\"seg_adm\", PATH_SLIIDERS), (\"seg\", PATH_SLIIDERS_SEG)]:\n",
    "    futs[kind] = create_surge_lookup(\n",
    "        sliiders,\n",
    "        [PATH_SLR_AR5_QUANTILES, PATH_SLR_AR6, PATH_SLR_SWEET],\n",
    "        PATHS_SURGE_LOOKUP[kind],\n",
    "        kind,\n",
    "        PARAMS.at_start,\n",
    "        PARAMS.n_interp_pts_lslr,\n",
    "        PARAMS.n_interp_pts_rhdiff,\n",
    "        DDF_I,\n",
    "        DMF_I,\n",
    "        quantiles=QUANTILES,\n",
    "        start_year=PARAMS.model_start,\n",
    "        slr_0_years=PARAMS.slr_0_year,\n",
    "        client=client,\n",
    "        client_kwargs={\"batch_size\": N_WORKERS_MAX},\n",
    "        force_overwrite=True,\n",
    "        seg_chunksize=SEG_CHUNKSIZE,\n",
    "        mc_dim=\"quantile\",\n",
    "        storage_options=STORAGE_OPTIONS,\n",
    "    )"
   ]
  },
  {
   "cell_type": "markdown",
   "id": "ab098b05-e797-43c2-94f5-59cdc13ee40e",
   "metadata": {},
   "source": [
    "## Close"
   ]
  },
  {
   "cell_type": "code",
   "execution_count": 11,
   "id": "f941a509-7035-4105-8b79-88a97e759737",
   "metadata": {
    "tags": []
   },
   "outputs": [],
   "source": [
    "# ensure completion and close cluster\n",
    "all_futs = futs[\"seg\"] + futs[\"seg_adm\"]\n",
    "dd.wait(all_futs)\n",
    "assert [f.status == \"finished\" for f in all_futs]\n",
    "finished = True"
   ]
  },
  {
   "cell_type": "code",
   "execution_count": 12,
   "id": "15563792-1ba0-435a-9981-e2b15eaa8dcd",
   "metadata": {
    "tags": []
   },
   "outputs": [
    {
     "data": {
      "text/plain": [
       "(None, None)"
      ]
     },
     "execution_count": 12,
     "metadata": {},
     "output_type": "execute_result"
    }
   ],
   "source": [
    "cluster.close(), client.close()"
   ]
  }
 ],
 "metadata": {
  "kernelspec": {
   "display_name": "Python 3 (ipykernel)",
   "language": "python",
   "name": "python3"
  },
  "language_info": {
   "codemirror_mode": {
    "name": "ipython",
    "version": 3
   },
   "file_extension": ".py",
   "mimetype": "text/x-python",
   "name": "python",
   "nbconvert_exporter": "python",
   "pygments_lexer": "ipython3",
   "version": "3.10.10"
  },
  "widgets": {
   "application/vnd.jupyter.widget-state+json": {
    "state": {},
    "version_major": 2,
    "version_minor": 0
   }
  }
 },
 "nbformat": 4,
 "nbformat_minor": 5
}
