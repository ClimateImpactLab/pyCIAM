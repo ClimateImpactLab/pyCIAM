{
 "cells": [
  {
   "cell_type": "code",
   "execution_count": 1,
   "id": "75f08584-26db-4144-98a0-b0e184467528",
   "metadata": {},
   "outputs": [],
   "source": [
    "%load_ext autoreload\n",
    "%autoreload 2"
   ]
  },
  {
   "cell_type": "code",
   "execution_count": 2,
   "id": "1530a104-fd32-4d20-869e-a6064075063d",
   "metadata": {},
   "outputs": [],
   "source": [
    "import xarray as xr\n",
    "from shared import PATH_SLIIDERS_ECON, PATH_SLIIDERS_ECON_SEG"
   ]
  },
  {
   "cell_type": "code",
   "execution_count": 3,
   "id": "11240e7b-6f7c-4e71-b029-b5c13f7f55b2",
   "metadata": {},
   "outputs": [],
   "source": [
    "SEG_CHUNKSIZE = 100"
   ]
  },
  {
   "cell_type": "code",
   "execution_count": 4,
   "id": "3d939378-9247-4174-9e8c-98c250562fde",
   "metadata": {
    "tags": []
   },
   "outputs": [],
   "source": [
    "sliiders = xr.open_zarr(PATH_SLIIDERS_ECON).load()\n",
    "\n",
    "# clean and cast for double-precision math\n",
    "for v in sliiders.variables:\n",
    "    sliiders[v].encoding = {}\n",
    "    if sliiders[v].dtype == \"float32\":\n",
    "        sliiders[v] = sliiders[v].astype(\"float64\")"
   ]
  },
  {
   "cell_type": "code",
   "execution_count": 5,
   "id": "18c2d278-e48c-49d9-a54f-5a9329de69cd",
   "metadata": {},
   "outputs": [],
   "source": [
    "ref_ypcc = sliiders.ypcc.sel(country=\"USA\", drop=True).rename(\"ref_income\")\n",
    "\n",
    "grouper = sliiders.seg\n",
    "usa_ypcc_ref = (\n",
    "    sliiders.ypcc.sel(country=\"USA\", drop=True).load().reset_coords(drop=True)\n",
    ")\n",
    "\n",
    "out = (\n",
    "    sliiders[[\"K_2019\", \"pop_2019\", \"landarea\", \"length\", \"wetland\"]]\n",
    "    .groupby(grouper)\n",
    "    .sum(\"seg_adm\")\n",
    ")\n",
    "\n",
    "out[[\"surge_height\", \"gumbel_params\", \"SLR_site_id\"]] = (\n",
    "    sliiders[[\"surge_height\", \"gumbel_params\", \"SLR_site_id\"]].groupby(grouper).first()\n",
    ")\n",
    "\n",
    "\n",
    "def weighted_avg(varname, wts_in):\n",
    "    if \"seg_adm\" not in sliiders[varname].dims:\n",
    "        sliiders[varname] = sliiders[varname].sel(country=sliiders.seg_country)\n",
    "    wts_out = wts_in.groupby(grouper).sum(\"seg_adm\")\n",
    "    unweighted = sliiders[varname].groupby(grouper).sum(\"seg_adm\")\n",
    "    out[varname] = (\n",
    "        (sliiders[varname] * wts_in).groupby(grouper).sum(\"seg_adm\") / wts_out\n",
    "    ).where(wts_out > 0, unweighted)\n",
    "\n",
    "\n",
    "for v, w in [\n",
    "    (\n",
    "        \"mobcapfrac\",\n",
    "        sliiders.K_2019.sum(\"elev\"),\n",
    "    ),\n",
    "    (\"pop_scale\", sliiders.pop_2019.sum(\"elev\")),\n",
    "    (\"K_scale\", sliiders.K_2019.sum(\"elev\")),\n",
    "    (\"interior\", sliiders.landarea.sum(\"elev\")),\n",
    "    (\"pc\", sliiders.length),\n",
    "    (\"ypcc\", sliiders.pop_2019.sum(\"elev\")),\n",
    "    (\"wetlandservice\", sliiders.wetland.sum(\"elev\")),\n",
    "]:\n",
    "    weighted_avg(v, w)\n",
    "\n",
    "out[\"rho\"] = out.ypcc / (out.ypcc + usa_ypcc_ref.sel(year=2000, drop=True))\n",
    "\n",
    "# merge on non-aggregated vars\n",
    "other_vars = sliiders[\n",
    "    [\n",
    "        d\n",
    "        for d in sliiders.data_vars\n",
    "        if \"seg_adm\" not in sliiders[d].dims and d not in out.data_vars\n",
    "    ]\n",
    "]\n",
    "out = xr.merge((out, other_vars))\n",
    "out[\"ref_income\"] = ref_ypcc"
   ]
  },
  {
   "cell_type": "code",
   "execution_count": 6,
   "id": "149e9408-1ba5-4da5-a9dd-ad7f3cfa71d3",
   "metadata": {
    "tags": []
   },
   "outputs": [
    {
     "data": {
      "text/plain": [
       "<xarray.backends.zarr.ZarrStore at 0x7f0436f70dd0>"
      ]
     },
     "execution_count": 6,
     "metadata": {},
     "output_type": "execute_result"
    }
   ],
   "source": [
    "out.chunk({\"seg\": SEG_CHUNKSIZE}).to_zarr(PATH_SLIIDERS_ECON_SEG, mode=\"w\")"
   ]
  }
 ],
 "metadata": {
  "kernelspec": {
   "display_name": "Python 3 (ipykernel)",
   "language": "python",
   "name": "python3"
  },
  "language_info": {
   "codemirror_mode": {
    "name": "ipython",
    "version": 3
   },
   "file_extension": ".py",
   "mimetype": "text/x-python",
   "name": "python",
   "nbconvert_exporter": "python",
   "pygments_lexer": "ipython3",
   "version": "3.9.10"
  },
  "widgets": {
   "application/vnd.jupyter.widget-state+json": {
    "state": {},
    "version_major": 2,
    "version_minor": 0
   }
  }
 },
 "nbformat": 4,
 "nbformat_minor": 5
}
